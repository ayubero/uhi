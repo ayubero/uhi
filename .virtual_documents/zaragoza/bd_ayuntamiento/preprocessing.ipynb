import pandas as pd
import glob
import os
import seaborn as sns
import matplotlib.pyplot as plt





stations = pd.read_csv('./posicion.csv', delimiter=';')
stations.head()


stations = stations[['Codigo', 'x', 'y']]
stations.head()


# Change columns name
stations.columns = ['code', 'lat', 'lon']
stations.head()


import folium
from pyproj import Transformer


# Transform coordinates from ETRS89 to WRS84
transformer = Transformer.from_crs('EPSG:25830', 'EPSG:4326')

zgz_coords = (41.653858, -0.876258)
map = folium.Map(location=zgz_coords, zoom_start=13)

# Iterate over each station
for index, station in stations.iterrows():
    lat, lon = transformer.transform(station['lat'], station['lon'])

    stations.at[index, 'lat'] = lat
    stations.at[index, 'lon'] = lon
    # Add a marker for the point
    folium.Marker([lat, lon], popup=station['code']).add_to(map)

# If running in a Jupyter Notebook, display the map inline
map





temperature_files = sorted(glob.glob('./S*ayunt.csv'))
temperature_files


all_dataframes = [pd.read_csv(csv_file, delimiter=',') for csv_file in temperature_files]

# Add a column 'station' with the index of the dataframe
for i, df in enumerate(all_dataframes):
    df['station'] = i+1
    
temperatures = pd.concat(all_dataframes, ignore_index=True)


temperatures.head()


# Split the 'date' column into 'date' and 'time' columns
temperatures[['date', 'time']] = temperatures['date'].str.split(' ', expand=True)
temperatures.head()


#temperatures = temperatures[temperatures['time'] == '23:00:00']
temperatures.head()


dates = [
    "2023-06-02",
    "2023-06-14",
    "2023-06-17",
    "2023-06-22",
    "2023-06-24",
    "2023-06-27",
    "2023-06-29",
    "2023-07-02",
    "2023-07-04",
    "2023-07-09",
    "2023-07-14",
    "2023-07-17",
    "2023-07-19",
    "2023-07-24",
    "2023-07-27",
    "2023-07-29",
    "2023-08-01",
    "2023-08-06",
    "2023-08-08",
    "2023-08-11",
    "2023-08-13",
    "2023-08-16",
    "2023-08-21",
    "2023-08-23"
]


# Filter by date
#temperatures = temperatures[temperatures['date'].isin(dates)]
temperatures.head()


# Filter by date interval
start_date = '2023-06-01'
end_date = '2023-08-31'

temperatures = temperatures[(temperatures['date'] >= start_date) & (temperatures['date'] <= end_date)]


temperatures = temperatures[['date', 'time', 'station', 'Temp']]
temperatures.head()


# Sort the dataframe by the 'date' column
temperatures = temperatures.sort_values(by=['date', 'time', 'station'])

# Reset index
temperatures = temperatures.reset_index(drop=True)

# Change column names
temperatures.columns = ['date', 'time', 'station', 'temp']

temperatures.head()





'''# Compute average temperature for each station
temperatures = temperatures.groupby('station')['temp'].mean().reset_index()

# Get the average temperature of station 19
station_19_avg = temperatures[temperatures['station'] == 19]['temp'].values[0]

# Compute the difference with respect to station 19
temperatures['diff_from_19'] = station_19_avg - temperatures['temp']

temperatures'''





# Merge the dataframe with itself to compute the difference with station 19
df_ref = temperatures[temperatures['station'] == 19][['date', 'time', 'temp']].rename(columns={'temp': 'temp_ref'})
df_merged = pd.merge(temperatures, df_ref, on=['date', 'time'])
df_merged


# Compute the daily temperature difference from station 19 for each station
df_merged['temp_diff'] = df_merged['temp'] - df_merged['temp_ref']
df_merged


df_filtered = df_merged[df_merged['station'] != 19]

# Create a boxplot for each station showing the temperature differences
plt.figure(figsize=(10, 6))
sns.boxplot(x='station', y='temp_diff', data=df_filtered)

plt.title('Boxplot of Temperature Differences with Respect to Station 19')
plt.xlabel('Station')
plt.ylabel('Temperature Difference')

plt.show()


df_filtered = df_filtered.groupby('station')['temp_diff'].mean().reset_index()
df_filtered


stations.head()


# Remove 'S' and convert the remaining part to integer
stations['code'] = stations['code'].apply(lambda x: int(x[1:]))
stations.head()


data = pd.merge(df_filtered, stations, left_on='station', right_on='code')
data.head()


data = data.drop(columns=['code'])
data.head()


data.to_csv('diff.csv', index=False)





import geopandas as gpd
from shapely.geometry import Point


# Create a GeoDataFrame
geometry = [Point(xy) for xy in zip(data['lon'], data['lat'])]
gdf = gpd.GeoDataFrame(data, geometry=geometry)

# Set CRS and save
filename = 'temp_diff_for_each_station.shp'
gdf.set_crs(epsg=4326, inplace=True)
gdf = gdf.to_crs('EPSG:23029')
gdf.to_file(filename)


gdf.crs






