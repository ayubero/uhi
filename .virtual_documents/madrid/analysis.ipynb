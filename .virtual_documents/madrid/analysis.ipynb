import numpy as np
import pandas as pd


df = pd.read_csv('data.csv')
df.head()


df.columns


df['date'].unique()


import matplotlib.pyplot as plt
import seaborn as sns
import scipy.stats as stats


def plot_date(date):
    filtered_df = df[df['date'] == date]

    x = filtered_df['temperature']
    
    # Gráfico de dispersión con línea de tendencia lineal
    sns.regplot(x=filtered_df['swir2'], y=filtered_df['temperature'], line_kws={'color':'r', 'alpha':0.7, 'lw':2})
    plt.xlabel('SWIR2')
    plt.ylabel('Temperature')
    plt.title('SWIR2 Dispersion vs Temperature with Linear Trend Line on Date ' + date)
    plt.show()

    correlation, p_value = stats.pearsonr(filtered_df['temperature'], filtered_df['swir2'])
    print(f'Pearson correlation coefficient: {correlation}, p-value: {p_value}')

    correlation, p_value = stats.spearmanr(filtered_df['temperature'], filtered_df['swir2'])
    print(f'Spearman correlation coefficient: {correlation}, p-value: {p_value}')


plot_date('2023-07-02')


plot_date('2023-08-21')


plot_date('2023-08-24')


def plot_station(station):
    filtered_df = df[df['station'] == station]
    
    # Gráfico de dispersión con línea de tendencia lineal
    sns.regplot(x=filtered_df['swir2'], y=filtered_df['temperature'], line_kws={'color':'r', 'alpha':0.7, 'lw':2})
    plt.xlabel('SWIR2')
    plt.ylabel('Temperature')
    plt.title('SWIR2 Dispersion vs Temperature with Linear Trend Line on Station ' + str(station))
    plt.show()

    correlation, p_value = stats.pearsonr(filtered_df['temperature'], filtered_df['swir2'])
    print(f'Pearson correlation coefficient: {correlation}, p-value: {p_value}')


plot_station(109)


plot_station(107)


plot_station(36)


from sklearn.model_selection import train_test_split


X = df[['nir', 'swir1', 'swir2']]
y = df['temperature']
X_train, X_test, y_train, y_test = train_test_split(X, y, test_size=0.2, random_state=42)


from sklearn.ensemble import RandomForestRegressor
from sklearn.metrics import mean_squared_error, r2_score


# Fit model
rf = RandomForestRegressor(n_estimators=100, random_state=42)
rf.fit(X_train, y_train)

# Prediction
y_pred_rf = rf.predict(X_test)

# Evaluar el modelo
print(f'R^2: {r2_score(y_test, y_pred_rf)}')
print(f'Mean Squared Error: {mean_squared_error(y_test, y_pred_rf)}')

# Features importance
importances = rf.feature_importances_
feature_names = ['nir', 'swir1', 'swir2']
for name, importance in zip(feature_names, importances):
    print(f'{name}: {importance}')


rf.feature_importances_


X_train





# Select station number
station1 = 4
station2 = 8

# Get values for each station
df1 = df[df['station'] == station1]
df2 = df[df['station'] == station2]


df1['temp_diff'] = df1['temperature'].diff()
df1['swir2_diff'] = df1['swir2'].diff()
df1 = df1.dropna()
df1.head()


df2['temp_diff'] = df2['temperature'].diff()
df2['swir2_diff'] = df2['swir2'].diff()
df2 = df2.dropna()
df2.head()


#sns.regplot(x=df1['temp_diff'], y=df1['swir2_diff'], line_kws={'color':'r', 'alpha':0.7, 'lw':2})
plt.scatter(df1['swir2_diff'], df1['temp_diff'], color='blue', marker='o')
plt.scatter(df2['swir2_diff'], df2['temp_diff'], color='red', marker='o')
plt.xlabel('Temperature differences')
plt.ylabel('SWIR2 differences')
plt.title('SWIR2 Dispersion vs Temperature')
plt.show()

correlation, p_value = stats.pearsonr(df1['temp_diff'], df1['swir2_diff'])
print(f'Pearson correlation coefficient: {correlation}, p-value: {p_value}')


# Merge df1 and df2 on 'date' to ensure we have matching dates
merged_df = df1.merge(df2, on='date', suffixes=('_df1', '_df2'))

# Plot the scatter plots
plt.scatter(merged_df['temp_diff_df1'], merged_df['swir2_diff_df1'], color='blue', marker='o', label='df1')
plt.scatter(merged_df['temp_diff_df2'], merged_df['swir2_diff_df2'], color='red', marker='o', label='df2')

# Plot lines connecting points with the same date
for i in range(len(merged_df)):
    plt.plot([merged_df['temp_diff_df1'][i], merged_df['temp_diff_df2'][i]],
             [merged_df['swir2_diff_df1'][i], merged_df['swir2_diff_df2'][i]],
             color='gray', linestyle='-', linewidth=0.5)

# Adding labels and title
plt.xlabel('Temperature differences')
plt.ylabel('SWIR2 differences')
plt.title('SWIR2 Dispersion vs Temperature')
plt.legend()
plt.show()





import plotly.graph_objs as go
from plotly.subplots import make_subplots


sorted(df['date'].unique().tolist())


fig = make_subplots(specs=[[{'type': 'surface'}]])

# Add the prediction plane
#plane = go.Surface(x=nir_grid, y=swir_grid, z=z_pred, colorscale='plasma', opacity=0.5)
#fig.add_trace(plane)

# Add the correct values as scatter points
scatter = go.Scatter3d(x=df['date'], y=df['swir2'], z=df['temperature'], mode='markers', marker=dict(color='red', size=1), name='Correct Values')
fig.add_trace(scatter)

# Update the layout
fig.update_layout(scene=dict(
                    xaxis_title='Date',
                    yaxis_title='SWIR2',
                    zaxis_title='Temperature'),
                  title='Interactive 3D Plot of Predictions and Correct Values')

fig.show()


import ipywidgets as widgets

dates = sorted(df['date'].unique().tolist())

@widgets.interact(date=dates)
def plot_date(date='2023-04-06'):
    filtered_df = df[df['date'] == date]
    
    sns.regplot(x=filtered_df['swir2'], y=filtered_df['temperature'], line_kws={'color':'r', 'alpha':0.7, 'lw':2})
    plt.xlabel('SWIR2')
    plt.ylabel('Temperature')
    plt.title('SWIR2 vs Temperature on ' + date)
    plt.show()
    
    correlation, p_value = stats.pearsonr(filtered_df['swir2'], filtered_df['temperature'])
    print(f'Pearson correlation coefficient: {correlation}, p-value: {p_value}')

    correlation, p_value = stats.spearmanr(filtered_df['swir2'], filtered_df['temperature'])
    print(f'Spearman correlation coefficient: {correlation}, p-value: {p_value}')


import ipywidgets as widgets

stations = sorted(df['station'].unique().tolist())

@widgets.interact(station=stations)
def plot_date(station=4):
    filtered_df = df[df['station'] == station]
    
    sns.regplot(x=filtered_df['swir2'], y=filtered_df['temperature'], line_kws={'color':'r', 'alpha':0.7, 'lw':2})
    plt.xlabel('SWIR2')
    plt.ylabel('Temperature')
    plt.title('SWIR2 vs Temperature on station ' + str(station))
    plt.show()
    
    correlation, p_value = stats.pearsonr(filtered_df['swir2'], filtered_df['temperature'])
    print(f'Pearson correlation coefficient: {correlation}, p-value: {p_value}')

    correlation, p_value = stats.spearmanr(filtered_df['swir2'], filtered_df['temperature'])
    print(f'Spearman correlation coefficient: {correlation}, p-value: {p_value}')



