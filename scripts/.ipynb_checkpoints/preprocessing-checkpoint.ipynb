{
 "cells": [
  {
   "cell_type": "markdown",
   "metadata": {},
   "source": [
    "*Bandas de Sentinel 2*: https://custom-scripts.sentinel-hub.com/custom-scripts/sentinel-2/bands/"
   ]
  },
  {
   "cell_type": "code",
   "execution_count": 1,
   "metadata": {},
   "outputs": [],
   "source": [
    "import rasterio\n",
    "from rasterio.enums import Resampling\n",
    "import numpy as np\n",
    "import matplotlib.pyplot as plt\n",
    "import os,glob\n",
    "import rioxarray\n",
    "import geopandas as gpd\n",
    "import fiona"
   ]
  },
  {
   "cell_type": "code",
   "execution_count": 2,
   "metadata": {},
   "outputs": [
    {
     "data": {
      "text/plain": [
       "'/home/andres/University/uhi/data/sentinel2/IMG_DATA'"
      ]
     },
     "execution_count": 2,
     "metadata": {},
     "output_type": "execute_result"
    }
   ],
   "source": [
    "# Ingresar la ruta de las imágenes satelitales\n",
    "#ruta_archivos = input(\"Ingrese la ruta de la imagen satelital: \")\n",
    "#os.chdir(ruta_archivos)\n",
    "ruta_archivos = '/home/andres/University/uhi/data/Sentinel-2/MSI/L2A/2024/06/16/S2B_MSIL2A_20240616T105619_N0510_R094_T30TXM_20240616T123533.SAFE/GRANULE/L2A_T30TXM_A038015_20240616T105828/IMG_DATA'\n",
    "os.chdir(ruta_archivos)\n",
    "os.getcwd()"
   ]
  },
  {
   "cell_type": "code",
   "execution_count": 3,
   "metadata": {},
   "outputs": [],
   "source": [
    "# Listar archivos de acuerdo a la resolución de las bandas que me da sentinel\n",
    "listaB10m = glob.glob('R10m/*.jp2')\n",
    "listaB20m = glob.glob('R20m/*.jp2')\n",
    "listaB60m = glob.glob('R60m/*.jp2')"
   ]
  },
  {
   "cell_type": "code",
   "execution_count": 4,
   "metadata": {},
   "outputs": [],
   "source": [
    "# Función para leer y resamplear el raster \n",
    "def leer_resamplear(ruta, escala):\n",
    "    with rasterio.open(ruta) as dataset:\n",
    "        # Resamplear imagen a 10m donde se usa la escala proporcionada\n",
    "        data = dataset.read(\n",
    "            out_shape=(\n",
    "                dataset.count,\n",
    "                int(dataset.height * escala),\n",
    "                int(dataset.width * escala)\n",
    "            ),\n",
    "            resampling=Resampling.bilinear\n",
    "        )\n",
    "        transform = dataset.transform * dataset.transform.scale(\n",
    "            (dataset.width / data.shape[-1]),\n",
    "            (dataset.height / data.shape[-2])\n",
    "        )\n",
    "    return data[0], transform # Se retorna la banda y la transformación de la imagen"
   ]
  },
  {
   "cell_type": "code",
   "execution_count": 5,
   "metadata": {},
   "outputs": [],
   "source": [
    "# Leer y resamplear bandas a 10m\n",
    "B2, transform = leer_resamplear(listaB10m[1], 1.0)\n",
    "B3, _ = leer_resamplear(listaB10m[2], 1.0)\n",
    "B4, _ = leer_resamplear(listaB10m[3], 1.0)\n",
    "B8, _ = leer_resamplear(listaB10m[4], 1.0)\n",
    "B5, _ = leer_resamplear(listaB20m[4], 2.0)\n",
    "B6, _ = leer_resamplear(listaB20m[5], 2.0)\n",
    "B7, _ = leer_resamplear(listaB20m[6], 2.0)\n",
    "B11, _ = leer_resamplear(listaB20m[7], 2.0)\n",
    "B12, _ = leer_resamplear(listaB20m[8], 2.0)\n",
    "B8A, _ = leer_resamplear(listaB20m[9], 2.0)  # Banda 8A a 20m de resolución \n",
    "B1, _ = leer_resamplear(listaB60m[1], 6.0)\n",
    "B9, _ = leer_resamplear(listaB60m[8], 6.0)"
   ]
  },
  {
   "cell_type": "code",
   "execution_count": 6,
   "metadata": {},
   "outputs": [
    {
     "name": "stdout",
     "output_type": "stream",
     "text": [
      "Creación del archivo TIFF terminado\n"
     ]
    }
   ],
   "source": [
    "# Composición de bandas\n",
    "S2_RS = [B1, B2, B3, B4, B5, B6, B7, B8, B8A, B9, B11, B12]\n",
    "\n",
    "# Configurar parámetros de las bandas y tipo de dato\n",
    "param = rasterio.open(listaB10m[1]).meta # Se toma la información de la primera banda\n",
    "param.update(driver='GTiff',\n",
    "             count=len(S2_RS), # Número de bandas\n",
    "             dtype='int16', # Tipo de dato\n",
    "             transform=transform, # Transformación de la imagen\n",
    "             width=B2.shape[1], # Ancho de la imagen \n",
    "             height=B2.shape[0]) # Alto de la imagen\n",
    "\n",
    "# Crear nombre de salida\n",
    "name_S2 = os.path.join(os.getcwd(), listaB10m[1][6:20] + 'TeselaCompleta.tif')\n",
    "\n",
    "# Exportar una imagen compuesta\n",
    "with rasterio.open(name_S2, 'w', **param) as SENTINEL2:\n",
    "    for num, banda in enumerate(S2_RS, start=1):\n",
    "        SENTINEL2.write(banda, num)\n",
    "\n",
    "\n",
    "print('Creación del archivo TIFF terminado')"
   ]
  },
  {
   "cell_type": "markdown",
   "metadata": {},
   "source": [
    "## Apply mask given by shapefile"
   ]
  },
  {
   "cell_type": "code",
   "execution_count": 7,
   "metadata": {},
   "outputs": [
    {
     "data": {
      "text/plain": [
       "['30TXM_20240616TeselaCompleta.tif']"
      ]
     },
     "execution_count": 7,
     "metadata": {},
     "output_type": "execute_result"
    }
   ],
   "source": [
    "# Me posiciono en la carpeta de trabajo\n",
    "os.chdir(ruta_archivos)\n",
    "os.getcwd()\n",
    "\n",
    "Lista_RS = glob.glob('*TeselaCompleta.tif')\n",
    "Lista_RS"
   ]
  },
  {
   "cell_type": "code",
   "execution_count": 8,
   "metadata": {},
   "outputs": [],
   "source": [
    "#S2_RS_B123456789_11_12 = rioxarray.open_rasterio(Lista_RS[0], masked=True)\n",
    "nodata = -1\n",
    "\n",
    "with fiona.open('/home/andres/University/uhi/data/shapefiles/zaragoza_outline.shp', 'r') as shapefile:\n",
    "    shapes = [feature['geometry'] for feature in shapefile]\n",
    "    shapes_crs = shapefile.crs\n",
    "\n",
    "with rasterio.open(Lista_RS[0]) as src:\n",
    "    out_image, out_transform = rasterio.mask.mask(src, shapes, nodata=nodata, crop=True)\n",
    "    out_meta = src.meta\n",
    "    \n",
    "#print(src.nodata)\n",
    "#print(out_image)\n",
    "out_image[out_image == src.nodata] = nodata"
   ]
  },
  {
   "cell_type": "code",
   "execution_count": 9,
   "metadata": {},
   "outputs": [
    {
     "name": "stdout",
     "output_type": "stream",
     "text": [
      "Recorte terminado\n"
     ]
    }
   ],
   "source": [
    "out_meta.update({\n",
    "    'driver': 'GTiff',\n",
    "    'height': out_image.shape[1],\n",
    "    'width': out_image.shape[2],\n",
    "    'transform': out_transform,\n",
    "    'nodata': nodata\n",
    "})\n",
    "\n",
    "output_path = Lista_RS[0].replace('.tif', '_masked.tif')\n",
    "with rasterio.open(output_path, 'w', **out_meta) as dest:\n",
    "    dest.write(out_image)\n",
    "\n",
    "print('Recorte terminado')"
   ]
  },
  {
   "cell_type": "code",
   "execution_count": 10,
   "metadata": {},
   "outputs": [
    {
     "data": {
      "text/plain": [
       "\"S2_RS_B123456789_11_12 = rioxarray.open_rasterio(Lista_RS[0], masked=True)\\n\\nzona_gdp = gpd.read_file(r'/home/andres/University/uhi/data/shapefiles/zaragoza_outline.shp')  # aquí va la ruta de tu shapefile.\\n\\nextension = zona_gdp.bounds\\n\\nminx = extension.loc[0, 'minx']\\nminy = extension.loc[0, 'miny']\\nmaxx = extension.loc[0, 'maxx']\\nmaxy = extension.loc[0, 'maxy']\\n\\n# Recortar una image segun extension shp\\nS2_RS_B123456789_11_12_extension = S2_RS_B123456789_11_12.rio.clip_box(minx, miny, maxx, maxy)\\n\\nname_RS_clip = os.getcwd() + '\\\\' + Lista_RS[0][0:-4] + '_Recorte.tif'\\nname_RS_clip\\n\\nS2_RS_B123456789_11_12_extension.rio.to_raster(name_RS_clip)\\n\\n\\nprint('Recorte terminado ')\""
      ]
     },
     "execution_count": 10,
     "metadata": {},
     "output_type": "execute_result"
    }
   ],
   "source": [
    "'''S2_RS_B123456789_11_12 = rioxarray.open_rasterio(Lista_RS[0], masked=True)\n",
    "\n",
    "zona_gdp = gpd.read_file(r'/home/andres/University/uhi/data/shapefiles/zaragoza_outline.shp')  # aquí va la ruta de tu shapefile.\n",
    "\n",
    "extension = zona_gdp.bounds\n",
    "\n",
    "minx = extension.loc[0, 'minx']\n",
    "miny = extension.loc[0, 'miny']\n",
    "maxx = extension.loc[0, 'maxx']\n",
    "maxy = extension.loc[0, 'maxy']\n",
    "\n",
    "# Recortar una image segun extension shp\n",
    "S2_RS_B123456789_11_12_extension = S2_RS_B123456789_11_12.rio.clip_box(minx, miny, maxx, maxy)\n",
    "\n",
    "name_RS_clip = os.getcwd() + '\\\\' + Lista_RS[0][0:-4] + '_Recorte.tif'\n",
    "name_RS_clip\n",
    "\n",
    "S2_RS_B123456789_11_12_extension.rio.to_raster(name_RS_clip)\n",
    "\n",
    "\n",
    "print('Recorte terminado ')'''"
   ]
  },
  {
   "cell_type": "code",
   "execution_count": null,
   "metadata": {},
   "outputs": [],
   "source": []
  }
 ],
 "metadata": {
  "kernelspec": {
   "display_name": "Python 3 (ipykernel)",
   "language": "python",
   "name": "python3"
  },
  "language_info": {
   "codemirror_mode": {
    "name": "ipython",
    "version": 3
   },
   "file_extension": ".py",
   "mimetype": "text/x-python",
   "name": "python",
   "nbconvert_exporter": "python",
   "pygments_lexer": "ipython3",
   "version": "3.10.12"
  }
 },
 "nbformat": 4,
 "nbformat_minor": 4
}
