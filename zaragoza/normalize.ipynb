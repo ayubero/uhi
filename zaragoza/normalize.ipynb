{
 "cells": [
  {
   "cell_type": "code",
   "execution_count": 2,
   "id": "d988ddf5-6a32-42fc-b0d9-3c3f98defa6a",
   "metadata": {},
   "outputs": [],
   "source": [
    "import os\n",
    "import rasterio\n",
    "import glob\n",
    "import numpy as np"
   ]
  },
  {
   "cell_type": "code",
   "execution_count": 3,
   "id": "b7068d1b-3de7-4e78-ae58-97dd84c9266b",
   "metadata": {},
   "outputs": [],
   "source": [
    "# Go to raster directory\n",
    "raster_dir = '../cities/sevilla/rasters'\n",
    "os.chdir(raster_dir)"
   ]
  },
  {
   "cell_type": "code",
   "execution_count": 4,
   "id": "6ffdf92f-f0e8-471b-8caf-e584a770db03",
   "metadata": {},
   "outputs": [
    {
     "data": {
      "text/plain": [
       "['SVF.tif',\n",
       " 'average_blue.tif',\n",
       " 'MDS.tif',\n",
       " 'average_red.tif',\n",
       " 'LST.tif',\n",
       " 'average_green.tif',\n",
       " 'GLI.tif',\n",
       " 'average_nir.tif',\n",
       " 'average_swir2.tif',\n",
       " 'NBAI.tif',\n",
       " 'average_swir1.tif',\n",
       " 'NDTI.tif',\n",
       " 'MDT.tif']"
      ]
     },
     "execution_count": 4,
     "metadata": {},
     "output_type": "execute_result"
    }
   ],
   "source": [
    "# List all .tif files\n",
    "list = glob.glob('*.tif')\n",
    "list"
   ]
  },
  {
   "cell_type": "code",
   "execution_count": 5,
   "id": "89482cef-18f6-43b8-a5a2-2472f87ae3e5",
   "metadata": {},
   "outputs": [],
   "source": [
    "def normalize(input_path):\n",
    "    output_path = input_path.replace('.tif', '_normalized.tif')\n",
    "    \n",
    "    with rasterio.open(input_path) as src:\n",
    "        raster = src.read(1)\n",
    "        \n",
    "        # Ignore nodata values (if they exist)\n",
    "        nodata = src.nodata\n",
    "        mask = raster != nodata if nodata is not None else np.ones_like(raster, dtype=bool)\n",
    "        \n",
    "        # Calculate min and max (ignoring nodata values)\n",
    "        valid_data = raster[mask]\n",
    "        min_val = valid_data.min()\n",
    "        max_val = valid_data.max()\n",
    "        \n",
    "        # Normalize raster values\n",
    "        normalized_raster = np.zeros_like(raster, dtype=np.float32)\n",
    "        normalized_raster[mask] = (valid_data - min_val) / (max_val - min_val)\n",
    "        \n",
    "        # Prepare output metadata\n",
    "        meta = src.meta.copy()\n",
    "        meta.update(dtype='float32', compress='lzw')\n",
    "        \n",
    "    # Write the normalized raster to a new file\n",
    "    with rasterio.open(output_path, 'w', **meta) as dst:\n",
    "        dst.write(normalized_raster, 1)\n",
    "    \n",
    "    print(f'Normalized raster saved to {output_path}')"
   ]
  },
  {
   "cell_type": "code",
   "execution_count": 6,
   "id": "0d961cd9-8498-4c88-a21b-fb67b089a600",
   "metadata": {},
   "outputs": [
    {
     "name": "stdout",
     "output_type": "stream",
     "text": [
      "Normalized raster saved to MDT_normalized.tif\n"
     ]
    }
   ],
   "source": [
    "mdt_raster_path = 'MDT.tif'\n",
    "normalize(mdt_raster_path)"
   ]
  },
  {
   "cell_type": "code",
   "execution_count": 7,
   "id": "aa9c2b20-d3f8-406d-a7b1-6263779b9612",
   "metadata": {},
   "outputs": [
    {
     "name": "stdout",
     "output_type": "stream",
     "text": [
      "Normalized raster saved to LST_normalized.tif\n"
     ]
    }
   ],
   "source": [
    "lst_raster_path = 'LST.tif'\n",
    "normalize(lst_raster_path)"
   ]
  },
  {
   "cell_type": "code",
   "execution_count": 5,
   "id": "40488f62-aeb7-454b-a9e2-eba8f4bbae67",
   "metadata": {},
   "outputs": [
    {
     "name": "stdout",
     "output_type": "stream",
     "text": [
      "Normalized raster saved to Zaragoza_ETRS89_MDT05_normalized.tif\n"
     ]
    }
   ],
   "source": [
    "mdt_raster_path = 'Zaragoza_ETRS89_MDT05.tif'\n",
    "normalize(mdt_raster_path)"
   ]
  },
  {
   "cell_type": "code",
   "execution_count": 16,
   "id": "919979c6-6a68-476f-879e-ff6afea651fb",
   "metadata": {},
   "outputs": [
    {
     "name": "stdout",
     "output_type": "stream",
     "text": [
      "Normalized raster saved to Zaragoza_ETRS89_SWIR2_normalized.tif\n"
     ]
    }
   ],
   "source": [
    "swir2_raster_path = 'Zaragoza_ETRS89_SWIR2.tif'\n",
    "normalize(swir2_raster_path)"
   ]
  },
  {
   "cell_type": "code",
   "execution_count": 5,
   "id": "0130f6f9-4e28-4b49-afca-599bf7870971",
   "metadata": {},
   "outputs": [
    {
     "name": "stdout",
     "output_type": "stream",
     "text": [
      "Normalized raster saved to Zaragoza_ETRS89_LST_LC09_20230815_normalized.tif\n"
     ]
    }
   ],
   "source": [
    "mdt_raster_path = 'Zaragoza_ETRS89_LST_LC09_20230815.tif'\n",
    "normalize(mdt_raster_path)"
   ]
  },
  {
   "cell_type": "code",
   "execution_count": 4,
   "id": "cdf2c9f1-5535-46b3-9d2f-9133fd90c502",
   "metadata": {},
   "outputs": [
    {
     "name": "stdout",
     "output_type": "stream",
     "text": [
      "Normalized raster saved to ../../madrid/rasters/Madrid_ETR89_IMD_normalized.tif\n"
     ]
    }
   ],
   "source": [
    "normalize('../../madrid/rasters/Madrid_ETR89_IMD.tif')"
   ]
  }
 ],
 "metadata": {
  "kernelspec": {
   "display_name": "Python 3 (ipykernel)",
   "language": "python",
   "name": "python3"
  },
  "language_info": {
   "codemirror_mode": {
    "name": "ipython",
    "version": 3
   },
   "file_extension": ".py",
   "mimetype": "text/x-python",
   "name": "python",
   "nbconvert_exporter": "python",
   "pygments_lexer": "ipython3",
   "version": "3.10.12"
  }
 },
 "nbformat": 4,
 "nbformat_minor": 5
}
