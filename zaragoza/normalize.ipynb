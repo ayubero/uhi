{
 "cells": [
  {
   "cell_type": "code",
   "execution_count": 1,
   "id": "d988ddf5-6a32-42fc-b0d9-3c3f98defa6a",
   "metadata": {},
   "outputs": [],
   "source": [
    "import os\n",
    "import rasterio\n",
    "import glob\n",
    "import numpy as np"
   ]
  },
  {
   "cell_type": "code",
   "execution_count": 3,
   "id": "b7068d1b-3de7-4e78-ae58-97dd84c9266b",
   "metadata": {},
   "outputs": [],
   "source": [
    "# Go to raster directory\n",
    "raster_dir = '../data/rasters'\n",
    "os.chdir(raster_dir)"
   ]
  },
  {
   "cell_type": "code",
   "execution_count": 3,
   "id": "6ffdf92f-f0e8-471b-8caf-e584a770db03",
   "metadata": {},
   "outputs": [
    {
     "data": {
      "text/plain": [
       "['Zaragoza_ETRS89_MDS05.tif',\n",
       " 'Zaragoza_ETRS89_Terrain_Ruggedness_Index.tif',\n",
       " 'Zaragoza_ETRS89_Sky_View_Factor.tif',\n",
       " 'Zaragoza_ETRS89_SWIR2.tif',\n",
       " 'Zaragoza_ETRS89_Total_Insolation.tif',\n",
       " 'Zaragoza_ETRS89_Visible_Sky.tif',\n",
       " 'Zaragoza_ETRS89_NDVI.tif',\n",
       " 'Zaragoza_ETRS89_Sky_View_Factor_Simplified.tif',\n",
       " 'Zaragoza_ETRS89_Imperviousness_Density.tif']"
      ]
     },
     "execution_count": 3,
     "metadata": {},
     "output_type": "execute_result"
    }
   ],
   "source": [
    "# List all .tif files\n",
    "list = glob.glob('*.tif')\n",
    "list"
   ]
  },
  {
   "cell_type": "code",
   "execution_count": 2,
   "id": "89482cef-18f6-43b8-a5a2-2472f87ae3e5",
   "metadata": {},
   "outputs": [],
   "source": [
    "def normalize(input_path):\n",
    "    output_path = input_path.replace('.tif', '_normalized.tif')\n",
    "    \n",
    "    with rasterio.open(input_path) as src:\n",
    "        raster = src.read(1)\n",
    "        \n",
    "        # Ignore nodata values (if they exist)\n",
    "        nodata = src.nodata\n",
    "        mask = raster != nodata if nodata is not None else np.ones_like(raster, dtype=bool)\n",
    "        \n",
    "        # Calculate min and max (ignoring nodata values)\n",
    "        valid_data = raster[mask]\n",
    "        min_val = valid_data.min()\n",
    "        max_val = valid_data.max()\n",
    "        \n",
    "        # Normalize raster values\n",
    "        normalized_raster = np.zeros_like(raster, dtype=np.float32)\n",
    "        normalized_raster[mask] = (valid_data - min_val) / (max_val - min_val)\n",
    "        \n",
    "        # Prepare output metadata\n",
    "        meta = src.meta.copy()\n",
    "        meta.update(dtype='float32', compress='lzw')\n",
    "        \n",
    "    # Write the normalized raster to a new file\n",
    "    with rasterio.open(output_path, 'w', **meta) as dst:\n",
    "        dst.write(normalized_raster, 1)\n",
    "    \n",
    "    print(f\"Normalized raster saved to {output_path}\")"
   ]
  },
  {
   "cell_type": "code",
   "execution_count": 15,
   "id": "40488f62-aeb7-454b-a9e2-eba8f4bbae67",
   "metadata": {},
   "outputs": [
    {
     "name": "stdout",
     "output_type": "stream",
     "text": [
      "Normalized raster saved to Zaragoza_ETRS89_Imperviousness_Density_normalized.tif\n"
     ]
    }
   ],
   "source": [
    "imd_raster_path = 'Zaragoza_ETRS89_Imperviousness_Density.tif'\n",
    "normalize(imd_raster_path)"
   ]
  },
  {
   "cell_type": "code",
   "execution_count": 16,
   "id": "919979c6-6a68-476f-879e-ff6afea651fb",
   "metadata": {},
   "outputs": [
    {
     "name": "stdout",
     "output_type": "stream",
     "text": [
      "Normalized raster saved to Zaragoza_ETRS89_SWIR2_normalized.tif\n"
     ]
    }
   ],
   "source": [
    "swir2_raster_path = 'Zaragoza_ETRS89_SWIR2.tif'\n",
    "normalize(swir2_raster_path)"
   ]
  },
  {
   "cell_type": "code",
   "execution_count": 4,
   "id": "cdf2c9f1-5535-46b3-9d2f-9133fd90c502",
   "metadata": {},
   "outputs": [
    {
     "name": "stdout",
     "output_type": "stream",
     "text": [
      "Normalized raster saved to ../../madrid/rasters/Madrid_ETR89_IMD_normalized.tif\n"
     ]
    }
   ],
   "source": [
    "normalize('../../madrid/rasters/Madrid_ETR89_IMD.tif')"
   ]
  },
  {
   "cell_type": "code",
   "execution_count": null,
   "id": "8b2e99d1-43b6-4ec9-97b5-77ae49f991b9",
   "metadata": {},
   "outputs": [],
   "source": []
  }
 ],
 "metadata": {
  "kernelspec": {
   "display_name": "Python 3 (ipykernel)",
   "language": "python",
   "name": "python3"
  },
  "language_info": {
   "codemirror_mode": {
    "name": "ipython",
    "version": 3
   },
   "file_extension": ".py",
   "mimetype": "text/x-python",
   "name": "python",
   "nbconvert_exporter": "python",
   "pygments_lexer": "ipython3",
   "version": "3.10.12"
  }
 },
 "nbformat": 4,
 "nbformat_minor": 5
}
