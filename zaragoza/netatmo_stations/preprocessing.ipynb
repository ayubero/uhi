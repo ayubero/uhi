{
 "cells": [
  {
   "cell_type": "code",
   "execution_count": 1,
   "id": "1f49e332-3dde-4051-9caf-66586bd40d3f",
   "metadata": {},
   "outputs": [
    {
     "name": "stderr",
     "output_type": "stream",
     "text": [
      "/home/andres/.local/lib/python3.10/site-packages/matplotlib/projections/__init__.py:63: UserWarning: Unable to import Axes3D. This may be due to multiple versions of Matplotlib being installed (e.g. as a system package and as a pip package). As a result, the 3D projection is not available.\n",
      "  warnings.warn(\"Unable to import Axes3D. This may be due to multiple versions of \"\n"
     ]
    }
   ],
   "source": [
    "import pandas as pd\n",
    "import glob\n",
    "import os\n",
    "import seaborn as sns\n",
    "import matplotlib.pyplot as plt\n",
    "import re"
   ]
  },
  {
   "cell_type": "code",
   "execution_count": 2,
   "id": "566cfc26-6303-437c-8717-61b7037f9ba6",
   "metadata": {},
   "outputs": [],
   "source": [
    "# Remove all empty files\n",
    "folder_path = './raw_stations'\n",
    "for file_name in os.listdir(folder_path):\n",
    "    file_path = os.path.join(folder_path, file_name)\n",
    "    if os.path.isfile(file_path) and os.path.getsize(file_path) < 5: # Less than 5 bytes\n",
    "        os.remove(file_path)\n",
    "        print(f'Deleted: {file_path}')"
   ]
  },
  {
   "cell_type": "code",
   "execution_count": 3,
   "id": "5b65fd7c-592b-4d51-ab73-e3a67bc4ed5e",
   "metadata": {},
   "outputs": [
    {
     "data": {
      "text/plain": [
       "['./raw_stations/70:ee:50:01:60:78.csv',\n",
       " './raw_stations/70:ee:50:01:cf:12.csv',\n",
       " './raw_stations/70:ee:50:04:ac:ea.csv',\n",
       " './raw_stations/70:ee:50:04:b4:36.csv',\n",
       " './raw_stations/70:ee:50:04:d3:de.csv',\n",
       " './raw_stations/70:ee:50:05:61:46.csv',\n",
       " './raw_stations/70:ee:50:17:c7:ee.csv',\n",
       " './raw_stations/70:ee:50:17:d3:1a.csv',\n",
       " './raw_stations/70:ee:50:19:9f:dc.csv',\n",
       " './raw_stations/70:ee:50:1c:43:78.csv',\n",
       " './raw_stations/70:ee:50:20:d1:2c.csv',\n",
       " './raw_stations/70:ee:50:28:9c:ec.csv',\n",
       " './raw_stations/70:ee:50:28:b2:92.csv',\n",
       " './raw_stations/70:ee:50:28:e2:26.csv',\n",
       " './raw_stations/70:ee:50:2b:4a:4a.csv',\n",
       " './raw_stations/70:ee:50:2b:58:c2.csv',\n",
       " './raw_stations/70:ee:50:2f:25:74.csv',\n",
       " './raw_stations/70:ee:50:33:41:34.csv',\n",
       " './raw_stations/70:ee:50:33:41:7a.csv',\n",
       " './raw_stations/70:ee:50:36:cf:1c.csv',\n",
       " './raw_stations/70:ee:50:37:00:ca.csv',\n",
       " './raw_stations/70:ee:50:37:11:4c.csv',\n",
       " './raw_stations/70:ee:50:3b:e9:d4.csv',\n",
       " './raw_stations/70:ee:50:3b:f5:64.csv',\n",
       " './raw_stations/70:ee:50:3c:ee:4c.csv',\n",
       " './raw_stations/70:ee:50:3d:23:92.csv',\n",
       " './raw_stations/70:ee:50:3d:26:c8.csv',\n",
       " './raw_stations/70:ee:50:3f:18:7e.csv',\n",
       " './raw_stations/70:ee:50:3f:63:68.csv',\n",
       " './raw_stations/70:ee:50:3f:68:bc.csv',\n",
       " './raw_stations/70:ee:50:52:d9:cc.csv',\n",
       " './raw_stations/70:ee:50:53:34:be.csv',\n",
       " './raw_stations/70:ee:50:58:98:7c.csv',\n",
       " './raw_stations/70:ee:50:5e:df:26.csv',\n",
       " './raw_stations/70:ee:50:5f:09:04.csv',\n",
       " './raw_stations/70:ee:50:5f:56:10.csv',\n",
       " './raw_stations/70:ee:50:64:ff:ee.csv',\n",
       " './raw_stations/70:ee:50:65:6b:86.csv',\n",
       " './raw_stations/70:ee:50:65:86:d2.csv',\n",
       " './raw_stations/70:ee:50:65:89:f2.csv',\n",
       " './raw_stations/70:ee:50:6b:2a:9a.csv',\n",
       " './raw_stations/70:ee:50:71:15:80.csv',\n",
       " './raw_stations/70:ee:50:71:22:16.csv',\n",
       " './raw_stations/70:ee:50:73:c5:a8.csv',\n",
       " './raw_stations/70:ee:50:73:ce:d0.csv',\n",
       " './raw_stations/70:ee:50:74:0d:90.csv',\n",
       " './raw_stations/70:ee:50:74:29:4c.csv',\n",
       " './raw_stations/70:ee:50:74:50:56.csv',\n",
       " './raw_stations/70:ee:50:7a:6f:c6.csv',\n",
       " './raw_stations/70:ee:50:7a:74:da.csv',\n",
       " './raw_stations/70:ee:50:7a:8d:66.csv',\n",
       " './raw_stations/70:ee:50:7a:8f:60.csv',\n",
       " './raw_stations/70:ee:50:7a:ae:b2.csv',\n",
       " './raw_stations/70:ee:50:7a:d1:ce.csv',\n",
       " './raw_stations/70:ee:50:90:e1:86.csv',\n",
       " './raw_stations/70:ee:50:a2:07:2e.csv']"
      ]
     },
     "execution_count": 3,
     "metadata": {},
     "output_type": "execute_result"
    }
   ],
   "source": [
    "station_files = sorted(glob.glob('./raw_stations/*.csv'))\n",
    "station_files"
   ]
  },
  {
   "cell_type": "code",
   "execution_count": 4,
   "id": "98e8178a-dc37-46d4-979d-cd42a7a7d4e0",
   "metadata": {},
   "outputs": [
    {
     "data": {
      "text/html": [
       "<div>\n",
       "<style scoped>\n",
       "    .dataframe tbody tr th:only-of-type {\n",
       "        vertical-align: middle;\n",
       "    }\n",
       "\n",
       "    .dataframe tbody tr th {\n",
       "        vertical-align: top;\n",
       "    }\n",
       "\n",
       "    .dataframe thead th {\n",
       "        text-align: right;\n",
       "    }\n",
       "</style>\n",
       "<table border=\"1\" class=\"dataframe\">\n",
       "  <thead>\n",
       "    <tr style=\"text-align: right;\">\n",
       "      <th></th>\n",
       "      <th>date</th>\n",
       "      <th>time</th>\n",
       "      <th>temp</th>\n",
       "    </tr>\n",
       "  </thead>\n",
       "  <tbody>\n",
       "    <tr>\n",
       "      <th>0</th>\n",
       "      <td>2023-05-31</td>\n",
       "      <td>21:00:17</td>\n",
       "      <td>21.9</td>\n",
       "    </tr>\n",
       "    <tr>\n",
       "      <th>1</th>\n",
       "      <td>2023-05-31</td>\n",
       "      <td>21:09:40</td>\n",
       "      <td>21.8</td>\n",
       "    </tr>\n",
       "    <tr>\n",
       "      <th>2</th>\n",
       "      <td>2023-05-31</td>\n",
       "      <td>21:19:55</td>\n",
       "      <td>21.3</td>\n",
       "    </tr>\n",
       "    <tr>\n",
       "      <th>3</th>\n",
       "      <td>2023-05-31</td>\n",
       "      <td>21:30:11</td>\n",
       "      <td>21.2</td>\n",
       "    </tr>\n",
       "    <tr>\n",
       "      <th>4</th>\n",
       "      <td>2023-05-31</td>\n",
       "      <td>21:40:26</td>\n",
       "      <td>20.9</td>\n",
       "    </tr>\n",
       "  </tbody>\n",
       "</table>\n",
       "</div>"
      ],
      "text/plain": [
       "         date      time  temp\n",
       "0  2023-05-31  21:00:17  21.9\n",
       "1  2023-05-31  21:09:40  21.8\n",
       "2  2023-05-31  21:19:55  21.3\n",
       "3  2023-05-31  21:30:11  21.2\n",
       "4  2023-05-31  21:40:26  20.9"
      ]
     },
     "execution_count": 4,
     "metadata": {},
     "output_type": "execute_result"
    }
   ],
   "source": [
    "#for csv_file in station_files:\n",
    "df = pd.read_csv(station_files[0], delimiter=',')\n",
    "df.head()"
   ]
  },
  {
   "cell_type": "code",
   "execution_count": 5,
   "id": "d3e7069b-83ff-4978-ba15-d1f0d24e068f",
   "metadata": {},
   "outputs": [
    {
     "data": {
      "text/html": [
       "<div>\n",
       "<style scoped>\n",
       "    .dataframe tbody tr th:only-of-type {\n",
       "        vertical-align: middle;\n",
       "    }\n",
       "\n",
       "    .dataframe tbody tr th {\n",
       "        vertical-align: top;\n",
       "    }\n",
       "\n",
       "    .dataframe thead th {\n",
       "        text-align: right;\n",
       "    }\n",
       "</style>\n",
       "<table border=\"1\" class=\"dataframe\">\n",
       "  <thead>\n",
       "    <tr style=\"text-align: right;\">\n",
       "      <th></th>\n",
       "      <th>date</th>\n",
       "      <th>time</th>\n",
       "      <th>temp</th>\n",
       "    </tr>\n",
       "  </thead>\n",
       "  <tbody>\n",
       "    <tr>\n",
       "      <th>0</th>\n",
       "      <td>2023-05-31</td>\n",
       "      <td>2023-05-31 21:00:17</td>\n",
       "      <td>21.9</td>\n",
       "    </tr>\n",
       "    <tr>\n",
       "      <th>1</th>\n",
       "      <td>2023-05-31</td>\n",
       "      <td>2023-05-31 21:09:40</td>\n",
       "      <td>21.8</td>\n",
       "    </tr>\n",
       "    <tr>\n",
       "      <th>2</th>\n",
       "      <td>2023-05-31</td>\n",
       "      <td>2023-05-31 21:19:55</td>\n",
       "      <td>21.3</td>\n",
       "    </tr>\n",
       "    <tr>\n",
       "      <th>3</th>\n",
       "      <td>2023-05-31</td>\n",
       "      <td>2023-05-31 21:30:11</td>\n",
       "      <td>21.2</td>\n",
       "    </tr>\n",
       "    <tr>\n",
       "      <th>4</th>\n",
       "      <td>2023-05-31</td>\n",
       "      <td>2023-05-31 21:40:26</td>\n",
       "      <td>20.9</td>\n",
       "    </tr>\n",
       "    <tr>\n",
       "      <th>5</th>\n",
       "      <td>2023-05-31</td>\n",
       "      <td>2023-05-31 21:50:41</td>\n",
       "      <td>20.8</td>\n",
       "    </tr>\n",
       "    <tr>\n",
       "      <th>6</th>\n",
       "      <td>2023-05-31</td>\n",
       "      <td>2023-05-31 22:00:04</td>\n",
       "      <td>20.7</td>\n",
       "    </tr>\n",
       "    <tr>\n",
       "      <th>7</th>\n",
       "      <td>2023-05-31</td>\n",
       "      <td>2023-05-31 22:15:27</td>\n",
       "      <td>21.1</td>\n",
       "    </tr>\n",
       "    <tr>\n",
       "      <th>8</th>\n",
       "      <td>2023-05-31</td>\n",
       "      <td>2023-05-31 22:25:42</td>\n",
       "      <td>21.1</td>\n",
       "    </tr>\n",
       "    <tr>\n",
       "      <th>9</th>\n",
       "      <td>2023-05-31</td>\n",
       "      <td>2023-05-31 22:35:59</td>\n",
       "      <td>21.1</td>\n",
       "    </tr>\n",
       "  </tbody>\n",
       "</table>\n",
       "</div>"
      ],
      "text/plain": [
       "         date                time  temp\n",
       "0  2023-05-31 2023-05-31 21:00:17  21.9\n",
       "1  2023-05-31 2023-05-31 21:09:40  21.8\n",
       "2  2023-05-31 2023-05-31 21:19:55  21.3\n",
       "3  2023-05-31 2023-05-31 21:30:11  21.2\n",
       "4  2023-05-31 2023-05-31 21:40:26  20.9\n",
       "5  2023-05-31 2023-05-31 21:50:41  20.8\n",
       "6  2023-05-31 2023-05-31 22:00:04  20.7\n",
       "7  2023-05-31 2023-05-31 22:15:27  21.1\n",
       "8  2023-05-31 2023-05-31 22:25:42  21.1\n",
       "9  2023-05-31 2023-05-31 22:35:59  21.1"
      ]
     },
     "execution_count": 5,
     "metadata": {},
     "output_type": "execute_result"
    }
   ],
   "source": [
    "df['time'] = pd.to_datetime(df['date'] + ' ' + df['time'], format='%Y-%m-%d %H:%M:%S')\n",
    "df.head(10)"
   ]
  },
  {
   "cell_type": "code",
   "execution_count": 6,
   "id": "17b3dcb7-9d05-4352-9790-90de442ec962",
   "metadata": {},
   "outputs": [
    {
     "data": {
      "text/html": [
       "<div>\n",
       "<style scoped>\n",
       "    .dataframe tbody tr th:only-of-type {\n",
       "        vertical-align: middle;\n",
       "    }\n",
       "\n",
       "    .dataframe tbody tr th {\n",
       "        vertical-align: top;\n",
       "    }\n",
       "\n",
       "    .dataframe thead th {\n",
       "        text-align: right;\n",
       "    }\n",
       "</style>\n",
       "<table border=\"1\" class=\"dataframe\">\n",
       "  <thead>\n",
       "    <tr style=\"text-align: right;\">\n",
       "      <th></th>\n",
       "      <th>date</th>\n",
       "      <th>time</th>\n",
       "      <th>temp</th>\n",
       "      <th>hour</th>\n",
       "    </tr>\n",
       "  </thead>\n",
       "  <tbody>\n",
       "    <tr>\n",
       "      <th>0</th>\n",
       "      <td>2023-05-31</td>\n",
       "      <td>2023-05-31 21:00:17</td>\n",
       "      <td>21.9</td>\n",
       "      <td>21</td>\n",
       "    </tr>\n",
       "    <tr>\n",
       "      <th>1</th>\n",
       "      <td>2023-05-31</td>\n",
       "      <td>2023-05-31 21:09:40</td>\n",
       "      <td>21.8</td>\n",
       "      <td>21</td>\n",
       "    </tr>\n",
       "    <tr>\n",
       "      <th>2</th>\n",
       "      <td>2023-05-31</td>\n",
       "      <td>2023-05-31 21:19:55</td>\n",
       "      <td>21.3</td>\n",
       "      <td>21</td>\n",
       "    </tr>\n",
       "    <tr>\n",
       "      <th>3</th>\n",
       "      <td>2023-05-31</td>\n",
       "      <td>2023-05-31 21:30:11</td>\n",
       "      <td>21.2</td>\n",
       "      <td>21</td>\n",
       "    </tr>\n",
       "    <tr>\n",
       "      <th>4</th>\n",
       "      <td>2023-05-31</td>\n",
       "      <td>2023-05-31 21:40:26</td>\n",
       "      <td>20.9</td>\n",
       "      <td>21</td>\n",
       "    </tr>\n",
       "    <tr>\n",
       "      <th>5</th>\n",
       "      <td>2023-05-31</td>\n",
       "      <td>2023-05-31 21:50:41</td>\n",
       "      <td>20.8</td>\n",
       "      <td>21</td>\n",
       "    </tr>\n",
       "    <tr>\n",
       "      <th>6</th>\n",
       "      <td>2023-05-31</td>\n",
       "      <td>2023-05-31 22:00:04</td>\n",
       "      <td>20.7</td>\n",
       "      <td>22</td>\n",
       "    </tr>\n",
       "    <tr>\n",
       "      <th>7</th>\n",
       "      <td>2023-05-31</td>\n",
       "      <td>2023-05-31 22:15:27</td>\n",
       "      <td>21.1</td>\n",
       "      <td>22</td>\n",
       "    </tr>\n",
       "    <tr>\n",
       "      <th>8</th>\n",
       "      <td>2023-05-31</td>\n",
       "      <td>2023-05-31 22:25:42</td>\n",
       "      <td>21.1</td>\n",
       "      <td>22</td>\n",
       "    </tr>\n",
       "    <tr>\n",
       "      <th>9</th>\n",
       "      <td>2023-05-31</td>\n",
       "      <td>2023-05-31 22:35:59</td>\n",
       "      <td>21.1</td>\n",
       "      <td>22</td>\n",
       "    </tr>\n",
       "  </tbody>\n",
       "</table>\n",
       "</div>"
      ],
      "text/plain": [
       "         date                time  temp  hour\n",
       "0  2023-05-31 2023-05-31 21:00:17  21.9    21\n",
       "1  2023-05-31 2023-05-31 21:09:40  21.8    21\n",
       "2  2023-05-31 2023-05-31 21:19:55  21.3    21\n",
       "3  2023-05-31 2023-05-31 21:30:11  21.2    21\n",
       "4  2023-05-31 2023-05-31 21:40:26  20.9    21\n",
       "5  2023-05-31 2023-05-31 21:50:41  20.8    21\n",
       "6  2023-05-31 2023-05-31 22:00:04  20.7    22\n",
       "7  2023-05-31 2023-05-31 22:15:27  21.1    22\n",
       "8  2023-05-31 2023-05-31 22:25:42  21.1    22\n",
       "9  2023-05-31 2023-05-31 22:35:59  21.1    22"
      ]
     },
     "execution_count": 6,
     "metadata": {},
     "output_type": "execute_result"
    }
   ],
   "source": [
    "df['hour'] = df['time'].dt.hour\n",
    "df.head(10)"
   ]
  },
  {
   "cell_type": "code",
   "execution_count": 7,
   "id": "5f09fb92-64d6-49b2-8d00-d21c0c55ec69",
   "metadata": {},
   "outputs": [
    {
     "name": "stderr",
     "output_type": "stream",
     "text": [
      "/tmp/ipykernel_120977/710818299.py:9: DeprecationWarning: DataFrameGroupBy.apply operated on the grouping columns. This behavior is deprecated, and in a future version of pandas the grouping columns will be excluded from the operation. Either pass `include_groups=False` to exclude the groupings or explicitly select the grouping columns after groupby to silence this warning.\n",
      "  closest_temps = df.groupby(['date', 'hour'], group_keys=False).apply(lambda group: get_closest_hour(group.iloc[0], group))\n"
     ]
    },
    {
     "data": {
      "text/html": [
       "<div>\n",
       "<style scoped>\n",
       "    .dataframe tbody tr th:only-of-type {\n",
       "        vertical-align: middle;\n",
       "    }\n",
       "\n",
       "    .dataframe tbody tr th {\n",
       "        vertical-align: top;\n",
       "    }\n",
       "\n",
       "    .dataframe thead th {\n",
       "        text-align: right;\n",
       "    }\n",
       "</style>\n",
       "<table border=\"1\" class=\"dataframe\">\n",
       "  <thead>\n",
       "    <tr style=\"text-align: right;\">\n",
       "      <th></th>\n",
       "      <th>date</th>\n",
       "      <th>time</th>\n",
       "      <th>temp</th>\n",
       "    </tr>\n",
       "  </thead>\n",
       "  <tbody>\n",
       "    <tr>\n",
       "      <th>0</th>\n",
       "      <td>2023-05-31</td>\n",
       "      <td>2023-05-31 21:00:17</td>\n",
       "      <td>21.9</td>\n",
       "    </tr>\n",
       "    <tr>\n",
       "      <th>1</th>\n",
       "      <td>2023-05-31</td>\n",
       "      <td>2023-05-31 22:00:04</td>\n",
       "      <td>20.7</td>\n",
       "    </tr>\n",
       "    <tr>\n",
       "      <th>2</th>\n",
       "      <td>2023-05-31</td>\n",
       "      <td>2023-05-31 23:05:52</td>\n",
       "      <td>21.1</td>\n",
       "    </tr>\n",
       "    <tr>\n",
       "      <th>3</th>\n",
       "      <td>2023-06-01</td>\n",
       "      <td>2023-06-01 00:01:24</td>\n",
       "      <td>20.6</td>\n",
       "    </tr>\n",
       "    <tr>\n",
       "      <th>4</th>\n",
       "      <td>2023-06-01</td>\n",
       "      <td>2023-06-01 01:02:04</td>\n",
       "      <td>19.9</td>\n",
       "    </tr>\n",
       "    <tr>\n",
       "      <th>5</th>\n",
       "      <td>2023-06-01</td>\n",
       "      <td>2023-06-01 02:07:51</td>\n",
       "      <td>19.5</td>\n",
       "    </tr>\n",
       "    <tr>\n",
       "      <th>6</th>\n",
       "      <td>2023-06-01</td>\n",
       "      <td>2023-06-01 03:08:31</td>\n",
       "      <td>19.0</td>\n",
       "    </tr>\n",
       "    <tr>\n",
       "      <th>7</th>\n",
       "      <td>2023-06-01</td>\n",
       "      <td>2023-06-01 04:03:12</td>\n",
       "      <td>19.1</td>\n",
       "    </tr>\n",
       "    <tr>\n",
       "      <th>8</th>\n",
       "      <td>2023-06-01</td>\n",
       "      <td>2023-06-01 05:05:34</td>\n",
       "      <td>18.7</td>\n",
       "    </tr>\n",
       "    <tr>\n",
       "      <th>9</th>\n",
       "      <td>2023-06-01</td>\n",
       "      <td>2023-06-01 06:01:06</td>\n",
       "      <td>18.1</td>\n",
       "    </tr>\n",
       "  </tbody>\n",
       "</table>\n",
       "</div>"
      ],
      "text/plain": [
       "         date                time  temp\n",
       "0  2023-05-31 2023-05-31 21:00:17  21.9\n",
       "1  2023-05-31 2023-05-31 22:00:04  20.7\n",
       "2  2023-05-31 2023-05-31 23:05:52  21.1\n",
       "3  2023-06-01 2023-06-01 00:01:24  20.6\n",
       "4  2023-06-01 2023-06-01 01:02:04  19.9\n",
       "5  2023-06-01 2023-06-01 02:07:51  19.5\n",
       "6  2023-06-01 2023-06-01 03:08:31  19.0\n",
       "7  2023-06-01 2023-06-01 04:03:12  19.1\n",
       "8  2023-06-01 2023-06-01 05:05:34  18.7\n",
       "9  2023-06-01 2023-06-01 06:01:06  18.1"
      ]
     },
     "execution_count": 7,
     "metadata": {},
     "output_type": "execute_result"
    }
   ],
   "source": [
    "# For each hour, find the closest timestamp (either before or after)\n",
    "def get_closest_hour(row, df):\n",
    "    # Find all rows for the target hour and the next hour (or previous if needed)\n",
    "    target_hour = row['hour']\n",
    "    closest_row = df.iloc[(df['time'] - row['time']).abs().argmin()]\n",
    "    return closest_row\n",
    "\n",
    "# Apply the function to each row in the dataframe\n",
    "closest_temps = df.groupby(['date', 'hour'], group_keys=False).apply(lambda group: get_closest_hour(group.iloc[0], group))\n",
    "\n",
    "# Convert the result back into a dataframe\n",
    "result = closest_temps.reset_index(drop=True)[['date', 'time', 'temp']]\n",
    "result.head(10)"
   ]
  },
  {
   "cell_type": "code",
   "execution_count": 8,
   "id": "10e7b079-e1e0-4a1b-acf8-bceb4850916b",
   "metadata": {},
   "outputs": [
    {
     "data": {
      "text/html": [
       "<div>\n",
       "<style scoped>\n",
       "    .dataframe tbody tr th:only-of-type {\n",
       "        vertical-align: middle;\n",
       "    }\n",
       "\n",
       "    .dataframe tbody tr th {\n",
       "        vertical-align: top;\n",
       "    }\n",
       "\n",
       "    .dataframe thead th {\n",
       "        text-align: right;\n",
       "    }\n",
       "</style>\n",
       "<table border=\"1\" class=\"dataframe\">\n",
       "  <thead>\n",
       "    <tr style=\"text-align: right;\">\n",
       "      <th></th>\n",
       "      <th>date</th>\n",
       "      <th>time</th>\n",
       "      <th>temp</th>\n",
       "    </tr>\n",
       "  </thead>\n",
       "  <tbody>\n",
       "    <tr>\n",
       "      <th>0</th>\n",
       "      <td>2023-05-31</td>\n",
       "      <td>21</td>\n",
       "      <td>21.9</td>\n",
       "    </tr>\n",
       "    <tr>\n",
       "      <th>1</th>\n",
       "      <td>2023-05-31</td>\n",
       "      <td>22</td>\n",
       "      <td>20.7</td>\n",
       "    </tr>\n",
       "    <tr>\n",
       "      <th>2</th>\n",
       "      <td>2023-05-31</td>\n",
       "      <td>23</td>\n",
       "      <td>21.1</td>\n",
       "    </tr>\n",
       "    <tr>\n",
       "      <th>3</th>\n",
       "      <td>2023-06-01</td>\n",
       "      <td>0</td>\n",
       "      <td>20.6</td>\n",
       "    </tr>\n",
       "    <tr>\n",
       "      <th>4</th>\n",
       "      <td>2023-06-01</td>\n",
       "      <td>1</td>\n",
       "      <td>19.9</td>\n",
       "    </tr>\n",
       "  </tbody>\n",
       "</table>\n",
       "</div>"
      ],
      "text/plain": [
       "         date  time  temp\n",
       "0  2023-05-31    21  21.9\n",
       "1  2023-05-31    22  20.7\n",
       "2  2023-05-31    23  21.1\n",
       "3  2023-06-01     0  20.6\n",
       "4  2023-06-01     1  19.9"
      ]
     },
     "execution_count": 8,
     "metadata": {},
     "output_type": "execute_result"
    }
   ],
   "source": [
    "result['time'] = result['time'].dt.hour\n",
    "result.head()"
   ]
  },
  {
   "cell_type": "code",
   "execution_count": 9,
   "id": "f0efbab0-0ae9-4c6a-8d1e-f94498d38dc1",
   "metadata": {},
   "outputs": [
    {
     "data": {
      "text/html": [
       "<div>\n",
       "<style scoped>\n",
       "    .dataframe tbody tr th:only-of-type {\n",
       "        vertical-align: middle;\n",
       "    }\n",
       "\n",
       "    .dataframe tbody tr th {\n",
       "        vertical-align: top;\n",
       "    }\n",
       "\n",
       "    .dataframe thead th {\n",
       "        text-align: right;\n",
       "    }\n",
       "</style>\n",
       "<table border=\"1\" class=\"dataframe\">\n",
       "  <thead>\n",
       "    <tr style=\"text-align: right;\">\n",
       "      <th></th>\n",
       "      <th>date</th>\n",
       "      <th>time</th>\n",
       "      <th>temp</th>\n",
       "    </tr>\n",
       "  </thead>\n",
       "  <tbody>\n",
       "    <tr>\n",
       "      <th>3</th>\n",
       "      <td>2023-06-01</td>\n",
       "      <td>0</td>\n",
       "      <td>20.6</td>\n",
       "    </tr>\n",
       "    <tr>\n",
       "      <th>4</th>\n",
       "      <td>2023-06-01</td>\n",
       "      <td>1</td>\n",
       "      <td>19.9</td>\n",
       "    </tr>\n",
       "    <tr>\n",
       "      <th>5</th>\n",
       "      <td>2023-06-01</td>\n",
       "      <td>2</td>\n",
       "      <td>19.5</td>\n",
       "    </tr>\n",
       "    <tr>\n",
       "      <th>6</th>\n",
       "      <td>2023-06-01</td>\n",
       "      <td>3</td>\n",
       "      <td>19.0</td>\n",
       "    </tr>\n",
       "    <tr>\n",
       "      <th>7</th>\n",
       "      <td>2023-06-01</td>\n",
       "      <td>4</td>\n",
       "      <td>19.1</td>\n",
       "    </tr>\n",
       "  </tbody>\n",
       "</table>\n",
       "</div>"
      ],
      "text/plain": [
       "         date  time  temp\n",
       "3  2023-06-01     0  20.6\n",
       "4  2023-06-01     1  19.9\n",
       "5  2023-06-01     2  19.5\n",
       "6  2023-06-01     3  19.0\n",
       "7  2023-06-01     4  19.1"
      ]
     },
     "execution_count": 9,
     "metadata": {},
     "output_type": "execute_result"
    }
   ],
   "source": [
    "# Filter by date interval\n",
    "start_date = '2023-06-01'\n",
    "end_date = '2023-08-31'\n",
    "\n",
    "result = result[(result['date'] >= start_date) & (result['date'] <= end_date)]\n",
    "result.head()"
   ]
  },
  {
   "cell_type": "code",
   "execution_count": 10,
   "id": "9bcf7df2-58e4-4739-9e5b-a00f9b12b49c",
   "metadata": {},
   "outputs": [
    {
     "data": {
      "text/html": [
       "<div>\n",
       "<style scoped>\n",
       "    .dataframe tbody tr th:only-of-type {\n",
       "        vertical-align: middle;\n",
       "    }\n",
       "\n",
       "    .dataframe tbody tr th {\n",
       "        vertical-align: top;\n",
       "    }\n",
       "\n",
       "    .dataframe thead th {\n",
       "        text-align: right;\n",
       "    }\n",
       "</style>\n",
       "<table border=\"1\" class=\"dataframe\">\n",
       "  <thead>\n",
       "    <tr style=\"text-align: right;\">\n",
       "      <th></th>\n",
       "      <th>date</th>\n",
       "      <th>time</th>\n",
       "      <th>temp</th>\n",
       "    </tr>\n",
       "  </thead>\n",
       "  <tbody>\n",
       "    <tr>\n",
       "      <th>2206</th>\n",
       "      <td>2023-08-31</td>\n",
       "      <td>19</td>\n",
       "      <td>28.0</td>\n",
       "    </tr>\n",
       "    <tr>\n",
       "      <th>2207</th>\n",
       "      <td>2023-08-31</td>\n",
       "      <td>20</td>\n",
       "      <td>26.9</td>\n",
       "    </tr>\n",
       "    <tr>\n",
       "      <th>2208</th>\n",
       "      <td>2023-08-31</td>\n",
       "      <td>21</td>\n",
       "      <td>26.0</td>\n",
       "    </tr>\n",
       "    <tr>\n",
       "      <th>2209</th>\n",
       "      <td>2023-08-31</td>\n",
       "      <td>22</td>\n",
       "      <td>25.2</td>\n",
       "    </tr>\n",
       "    <tr>\n",
       "      <th>2210</th>\n",
       "      <td>2023-08-31</td>\n",
       "      <td>23</td>\n",
       "      <td>24.4</td>\n",
       "    </tr>\n",
       "  </tbody>\n",
       "</table>\n",
       "</div>"
      ],
      "text/plain": [
       "            date  time  temp\n",
       "2206  2023-08-31    19  28.0\n",
       "2207  2023-08-31    20  26.9\n",
       "2208  2023-08-31    21  26.0\n",
       "2209  2023-08-31    22  25.2\n",
       "2210  2023-08-31    23  24.4"
      ]
     },
     "execution_count": 10,
     "metadata": {},
     "output_type": "execute_result"
    }
   ],
   "source": [
    "result.tail()"
   ]
  },
  {
   "cell_type": "markdown",
   "id": "3ce24148-0c8e-4409-9941-80e0bb5e26ca",
   "metadata": {},
   "source": [
    "## Preprocess all stations"
   ]
  },
  {
   "cell_type": "code",
   "execution_count": 11,
   "id": "ab15f351-ffb0-400c-80f6-5c950f4737da",
   "metadata": {},
   "outputs": [],
   "source": [
    "all_dataframes = []"
   ]
  },
  {
   "cell_type": "code",
   "execution_count": 12,
   "id": "bac9189e-c44c-461c-96f2-495b1d3d5c3f",
   "metadata": {},
   "outputs": [
    {
     "name": "stdout",
     "output_type": "stream",
     "text": [
      "Processing ./raw_stations/70:ee:50:01:60:78.csv\n"
     ]
    },
    {
     "name": "stderr",
     "output_type": "stream",
     "text": [
      "/tmp/ipykernel_120977/1812390815.py:15: DeprecationWarning: DataFrameGroupBy.apply operated on the grouping columns. This behavior is deprecated, and in a future version of pandas the grouping columns will be excluded from the operation. Either pass `include_groups=False` to exclude the groupings or explicitly select the grouping columns after groupby to silence this warning.\n",
      "  closest_temps = df.groupby(['date', 'hour'], group_keys=False).apply(lambda group: get_closest_hour(group.iloc[0], group))\n"
     ]
    },
    {
     "name": "stdout",
     "output_type": "stream",
     "text": [
      "Processing ./raw_stations/70:ee:50:01:cf:12.csv\n"
     ]
    },
    {
     "name": "stderr",
     "output_type": "stream",
     "text": [
      "/tmp/ipykernel_120977/1812390815.py:15: DeprecationWarning: DataFrameGroupBy.apply operated on the grouping columns. This behavior is deprecated, and in a future version of pandas the grouping columns will be excluded from the operation. Either pass `include_groups=False` to exclude the groupings or explicitly select the grouping columns after groupby to silence this warning.\n",
      "  closest_temps = df.groupby(['date', 'hour'], group_keys=False).apply(lambda group: get_closest_hour(group.iloc[0], group))\n"
     ]
    },
    {
     "name": "stdout",
     "output_type": "stream",
     "text": [
      "Processing ./raw_stations/70:ee:50:04:ac:ea.csv\n"
     ]
    },
    {
     "name": "stderr",
     "output_type": "stream",
     "text": [
      "/tmp/ipykernel_120977/1812390815.py:15: DeprecationWarning: DataFrameGroupBy.apply operated on the grouping columns. This behavior is deprecated, and in a future version of pandas the grouping columns will be excluded from the operation. Either pass `include_groups=False` to exclude the groupings or explicitly select the grouping columns after groupby to silence this warning.\n",
      "  closest_temps = df.groupby(['date', 'hour'], group_keys=False).apply(lambda group: get_closest_hour(group.iloc[0], group))\n"
     ]
    },
    {
     "name": "stdout",
     "output_type": "stream",
     "text": [
      "Processing ./raw_stations/70:ee:50:04:b4:36.csv\n"
     ]
    },
    {
     "name": "stderr",
     "output_type": "stream",
     "text": [
      "/tmp/ipykernel_120977/1812390815.py:15: DeprecationWarning: DataFrameGroupBy.apply operated on the grouping columns. This behavior is deprecated, and in a future version of pandas the grouping columns will be excluded from the operation. Either pass `include_groups=False` to exclude the groupings or explicitly select the grouping columns after groupby to silence this warning.\n",
      "  closest_temps = df.groupby(['date', 'hour'], group_keys=False).apply(lambda group: get_closest_hour(group.iloc[0], group))\n"
     ]
    },
    {
     "name": "stdout",
     "output_type": "stream",
     "text": [
      "Processing ./raw_stations/70:ee:50:04:d3:de.csv\n"
     ]
    },
    {
     "name": "stderr",
     "output_type": "stream",
     "text": [
      "/tmp/ipykernel_120977/1812390815.py:15: DeprecationWarning: DataFrameGroupBy.apply operated on the grouping columns. This behavior is deprecated, and in a future version of pandas the grouping columns will be excluded from the operation. Either pass `include_groups=False` to exclude the groupings or explicitly select the grouping columns after groupby to silence this warning.\n",
      "  closest_temps = df.groupby(['date', 'hour'], group_keys=False).apply(lambda group: get_closest_hour(group.iloc[0], group))\n"
     ]
    },
    {
     "name": "stdout",
     "output_type": "stream",
     "text": [
      "Processing ./raw_stations/70:ee:50:05:61:46.csv\n"
     ]
    },
    {
     "name": "stderr",
     "output_type": "stream",
     "text": [
      "/tmp/ipykernel_120977/1812390815.py:15: DeprecationWarning: DataFrameGroupBy.apply operated on the grouping columns. This behavior is deprecated, and in a future version of pandas the grouping columns will be excluded from the operation. Either pass `include_groups=False` to exclude the groupings or explicitly select the grouping columns after groupby to silence this warning.\n",
      "  closest_temps = df.groupby(['date', 'hour'], group_keys=False).apply(lambda group: get_closest_hour(group.iloc[0], group))\n"
     ]
    },
    {
     "name": "stdout",
     "output_type": "stream",
     "text": [
      "Processing ./raw_stations/70:ee:50:17:c7:ee.csv\n"
     ]
    },
    {
     "name": "stderr",
     "output_type": "stream",
     "text": [
      "/tmp/ipykernel_120977/1812390815.py:15: DeprecationWarning: DataFrameGroupBy.apply operated on the grouping columns. This behavior is deprecated, and in a future version of pandas the grouping columns will be excluded from the operation. Either pass `include_groups=False` to exclude the groupings or explicitly select the grouping columns after groupby to silence this warning.\n",
      "  closest_temps = df.groupby(['date', 'hour'], group_keys=False).apply(lambda group: get_closest_hour(group.iloc[0], group))\n",
      "/tmp/ipykernel_120977/1812390815.py:15: DeprecationWarning: DataFrameGroupBy.apply operated on the grouping columns. This behavior is deprecated, and in a future version of pandas the grouping columns will be excluded from the operation. Either pass `include_groups=False` to exclude the groupings or explicitly select the grouping columns after groupby to silence this warning.\n",
      "  closest_temps = df.groupby(['date', 'hour'], group_keys=False).apply(lambda group: get_closest_hour(group.iloc[0], group))\n"
     ]
    },
    {
     "name": "stdout",
     "output_type": "stream",
     "text": [
      "Processing ./raw_stations/70:ee:50:17:d3:1a.csv\n",
      "Processing ./raw_stations/70:ee:50:19:9f:dc.csv\n"
     ]
    },
    {
     "name": "stderr",
     "output_type": "stream",
     "text": [
      "/tmp/ipykernel_120977/1812390815.py:15: DeprecationWarning: DataFrameGroupBy.apply operated on the grouping columns. This behavior is deprecated, and in a future version of pandas the grouping columns will be excluded from the operation. Either pass `include_groups=False` to exclude the groupings or explicitly select the grouping columns after groupby to silence this warning.\n",
      "  closest_temps = df.groupby(['date', 'hour'], group_keys=False).apply(lambda group: get_closest_hour(group.iloc[0], group))\n"
     ]
    },
    {
     "name": "stdout",
     "output_type": "stream",
     "text": [
      "Processing ./raw_stations/70:ee:50:1c:43:78.csv\n"
     ]
    },
    {
     "name": "stderr",
     "output_type": "stream",
     "text": [
      "/tmp/ipykernel_120977/1812390815.py:15: DeprecationWarning: DataFrameGroupBy.apply operated on the grouping columns. This behavior is deprecated, and in a future version of pandas the grouping columns will be excluded from the operation. Either pass `include_groups=False` to exclude the groupings or explicitly select the grouping columns after groupby to silence this warning.\n",
      "  closest_temps = df.groupby(['date', 'hour'], group_keys=False).apply(lambda group: get_closest_hour(group.iloc[0], group))\n"
     ]
    },
    {
     "name": "stdout",
     "output_type": "stream",
     "text": [
      "Processing ./raw_stations/70:ee:50:20:d1:2c.csv\n"
     ]
    },
    {
     "name": "stderr",
     "output_type": "stream",
     "text": [
      "/tmp/ipykernel_120977/1812390815.py:15: DeprecationWarning: DataFrameGroupBy.apply operated on the grouping columns. This behavior is deprecated, and in a future version of pandas the grouping columns will be excluded from the operation. Either pass `include_groups=False` to exclude the groupings or explicitly select the grouping columns after groupby to silence this warning.\n",
      "  closest_temps = df.groupby(['date', 'hour'], group_keys=False).apply(lambda group: get_closest_hour(group.iloc[0], group))\n"
     ]
    },
    {
     "name": "stdout",
     "output_type": "stream",
     "text": [
      "Processing ./raw_stations/70:ee:50:28:9c:ec.csv\n"
     ]
    },
    {
     "name": "stderr",
     "output_type": "stream",
     "text": [
      "/tmp/ipykernel_120977/1812390815.py:15: DeprecationWarning: DataFrameGroupBy.apply operated on the grouping columns. This behavior is deprecated, and in a future version of pandas the grouping columns will be excluded from the operation. Either pass `include_groups=False` to exclude the groupings or explicitly select the grouping columns after groupby to silence this warning.\n",
      "  closest_temps = df.groupby(['date', 'hour'], group_keys=False).apply(lambda group: get_closest_hour(group.iloc[0], group))\n"
     ]
    },
    {
     "name": "stdout",
     "output_type": "stream",
     "text": [
      "Processing ./raw_stations/70:ee:50:28:b2:92.csv\n"
     ]
    },
    {
     "name": "stderr",
     "output_type": "stream",
     "text": [
      "/tmp/ipykernel_120977/1812390815.py:15: DeprecationWarning: DataFrameGroupBy.apply operated on the grouping columns. This behavior is deprecated, and in a future version of pandas the grouping columns will be excluded from the operation. Either pass `include_groups=False` to exclude the groupings or explicitly select the grouping columns after groupby to silence this warning.\n",
      "  closest_temps = df.groupby(['date', 'hour'], group_keys=False).apply(lambda group: get_closest_hour(group.iloc[0], group))\n"
     ]
    },
    {
     "name": "stdout",
     "output_type": "stream",
     "text": [
      "Processing ./raw_stations/70:ee:50:28:e2:26.csv\n"
     ]
    },
    {
     "name": "stderr",
     "output_type": "stream",
     "text": [
      "/tmp/ipykernel_120977/1812390815.py:15: DeprecationWarning: DataFrameGroupBy.apply operated on the grouping columns. This behavior is deprecated, and in a future version of pandas the grouping columns will be excluded from the operation. Either pass `include_groups=False` to exclude the groupings or explicitly select the grouping columns after groupby to silence this warning.\n",
      "  closest_temps = df.groupby(['date', 'hour'], group_keys=False).apply(lambda group: get_closest_hour(group.iloc[0], group))\n"
     ]
    },
    {
     "name": "stdout",
     "output_type": "stream",
     "text": [
      "Processing ./raw_stations/70:ee:50:2b:4a:4a.csv\n"
     ]
    },
    {
     "name": "stderr",
     "output_type": "stream",
     "text": [
      "/tmp/ipykernel_120977/1812390815.py:15: DeprecationWarning: DataFrameGroupBy.apply operated on the grouping columns. This behavior is deprecated, and in a future version of pandas the grouping columns will be excluded from the operation. Either pass `include_groups=False` to exclude the groupings or explicitly select the grouping columns after groupby to silence this warning.\n",
      "  closest_temps = df.groupby(['date', 'hour'], group_keys=False).apply(lambda group: get_closest_hour(group.iloc[0], group))\n"
     ]
    },
    {
     "name": "stdout",
     "output_type": "stream",
     "text": [
      "Processing ./raw_stations/70:ee:50:2b:58:c2.csv\n"
     ]
    },
    {
     "name": "stderr",
     "output_type": "stream",
     "text": [
      "/tmp/ipykernel_120977/1812390815.py:15: DeprecationWarning: DataFrameGroupBy.apply operated on the grouping columns. This behavior is deprecated, and in a future version of pandas the grouping columns will be excluded from the operation. Either pass `include_groups=False` to exclude the groupings or explicitly select the grouping columns after groupby to silence this warning.\n",
      "  closest_temps = df.groupby(['date', 'hour'], group_keys=False).apply(lambda group: get_closest_hour(group.iloc[0], group))\n"
     ]
    },
    {
     "name": "stdout",
     "output_type": "stream",
     "text": [
      "Processing ./raw_stations/70:ee:50:2f:25:74.csv\n"
     ]
    },
    {
     "name": "stderr",
     "output_type": "stream",
     "text": [
      "/tmp/ipykernel_120977/1812390815.py:15: DeprecationWarning: DataFrameGroupBy.apply operated on the grouping columns. This behavior is deprecated, and in a future version of pandas the grouping columns will be excluded from the operation. Either pass `include_groups=False` to exclude the groupings or explicitly select the grouping columns after groupby to silence this warning.\n",
      "  closest_temps = df.groupby(['date', 'hour'], group_keys=False).apply(lambda group: get_closest_hour(group.iloc[0], group))\n"
     ]
    },
    {
     "name": "stdout",
     "output_type": "stream",
     "text": [
      "Processing ./raw_stations/70:ee:50:33:41:34.csv\n"
     ]
    },
    {
     "name": "stderr",
     "output_type": "stream",
     "text": [
      "/tmp/ipykernel_120977/1812390815.py:15: DeprecationWarning: DataFrameGroupBy.apply operated on the grouping columns. This behavior is deprecated, and in a future version of pandas the grouping columns will be excluded from the operation. Either pass `include_groups=False` to exclude the groupings or explicitly select the grouping columns after groupby to silence this warning.\n",
      "  closest_temps = df.groupby(['date', 'hour'], group_keys=False).apply(lambda group: get_closest_hour(group.iloc[0], group))\n"
     ]
    },
    {
     "name": "stdout",
     "output_type": "stream",
     "text": [
      "Processing ./raw_stations/70:ee:50:33:41:7a.csv\n"
     ]
    },
    {
     "name": "stderr",
     "output_type": "stream",
     "text": [
      "/tmp/ipykernel_120977/1812390815.py:15: DeprecationWarning: DataFrameGroupBy.apply operated on the grouping columns. This behavior is deprecated, and in a future version of pandas the grouping columns will be excluded from the operation. Either pass `include_groups=False` to exclude the groupings or explicitly select the grouping columns after groupby to silence this warning.\n",
      "  closest_temps = df.groupby(['date', 'hour'], group_keys=False).apply(lambda group: get_closest_hour(group.iloc[0], group))\n"
     ]
    },
    {
     "name": "stdout",
     "output_type": "stream",
     "text": [
      "Processing ./raw_stations/70:ee:50:36:cf:1c.csv\n"
     ]
    },
    {
     "name": "stderr",
     "output_type": "stream",
     "text": [
      "/tmp/ipykernel_120977/1812390815.py:15: DeprecationWarning: DataFrameGroupBy.apply operated on the grouping columns. This behavior is deprecated, and in a future version of pandas the grouping columns will be excluded from the operation. Either pass `include_groups=False` to exclude the groupings or explicitly select the grouping columns after groupby to silence this warning.\n",
      "  closest_temps = df.groupby(['date', 'hour'], group_keys=False).apply(lambda group: get_closest_hour(group.iloc[0], group))\n"
     ]
    },
    {
     "name": "stdout",
     "output_type": "stream",
     "text": [
      "Processing ./raw_stations/70:ee:50:37:00:ca.csv\n"
     ]
    },
    {
     "name": "stderr",
     "output_type": "stream",
     "text": [
      "/tmp/ipykernel_120977/1812390815.py:15: DeprecationWarning: DataFrameGroupBy.apply operated on the grouping columns. This behavior is deprecated, and in a future version of pandas the grouping columns will be excluded from the operation. Either pass `include_groups=False` to exclude the groupings or explicitly select the grouping columns after groupby to silence this warning.\n",
      "  closest_temps = df.groupby(['date', 'hour'], group_keys=False).apply(lambda group: get_closest_hour(group.iloc[0], group))\n"
     ]
    },
    {
     "name": "stdout",
     "output_type": "stream",
     "text": [
      "Processing ./raw_stations/70:ee:50:37:11:4c.csv\n"
     ]
    },
    {
     "name": "stderr",
     "output_type": "stream",
     "text": [
      "/tmp/ipykernel_120977/1812390815.py:15: DeprecationWarning: DataFrameGroupBy.apply operated on the grouping columns. This behavior is deprecated, and in a future version of pandas the grouping columns will be excluded from the operation. Either pass `include_groups=False` to exclude the groupings or explicitly select the grouping columns after groupby to silence this warning.\n",
      "  closest_temps = df.groupby(['date', 'hour'], group_keys=False).apply(lambda group: get_closest_hour(group.iloc[0], group))\n"
     ]
    },
    {
     "name": "stdout",
     "output_type": "stream",
     "text": [
      "Processing ./raw_stations/70:ee:50:3b:e9:d4.csv\n"
     ]
    },
    {
     "name": "stderr",
     "output_type": "stream",
     "text": [
      "/tmp/ipykernel_120977/1812390815.py:15: DeprecationWarning: DataFrameGroupBy.apply operated on the grouping columns. This behavior is deprecated, and in a future version of pandas the grouping columns will be excluded from the operation. Either pass `include_groups=False` to exclude the groupings or explicitly select the grouping columns after groupby to silence this warning.\n",
      "  closest_temps = df.groupby(['date', 'hour'], group_keys=False).apply(lambda group: get_closest_hour(group.iloc[0], group))\n"
     ]
    },
    {
     "name": "stdout",
     "output_type": "stream",
     "text": [
      "Processing ./raw_stations/70:ee:50:3b:f5:64.csv\n"
     ]
    },
    {
     "name": "stderr",
     "output_type": "stream",
     "text": [
      "/tmp/ipykernel_120977/1812390815.py:15: DeprecationWarning: DataFrameGroupBy.apply operated on the grouping columns. This behavior is deprecated, and in a future version of pandas the grouping columns will be excluded from the operation. Either pass `include_groups=False` to exclude the groupings or explicitly select the grouping columns after groupby to silence this warning.\n",
      "  closest_temps = df.groupby(['date', 'hour'], group_keys=False).apply(lambda group: get_closest_hour(group.iloc[0], group))\n"
     ]
    },
    {
     "name": "stdout",
     "output_type": "stream",
     "text": [
      "Processing ./raw_stations/70:ee:50:3c:ee:4c.csv\n"
     ]
    },
    {
     "name": "stderr",
     "output_type": "stream",
     "text": [
      "/tmp/ipykernel_120977/1812390815.py:15: DeprecationWarning: DataFrameGroupBy.apply operated on the grouping columns. This behavior is deprecated, and in a future version of pandas the grouping columns will be excluded from the operation. Either pass `include_groups=False` to exclude the groupings or explicitly select the grouping columns after groupby to silence this warning.\n",
      "  closest_temps = df.groupby(['date', 'hour'], group_keys=False).apply(lambda group: get_closest_hour(group.iloc[0], group))\n"
     ]
    },
    {
     "name": "stdout",
     "output_type": "stream",
     "text": [
      "Processing ./raw_stations/70:ee:50:3d:23:92.csv\n"
     ]
    },
    {
     "name": "stderr",
     "output_type": "stream",
     "text": [
      "/tmp/ipykernel_120977/1812390815.py:15: DeprecationWarning: DataFrameGroupBy.apply operated on the grouping columns. This behavior is deprecated, and in a future version of pandas the grouping columns will be excluded from the operation. Either pass `include_groups=False` to exclude the groupings or explicitly select the grouping columns after groupby to silence this warning.\n",
      "  closest_temps = df.groupby(['date', 'hour'], group_keys=False).apply(lambda group: get_closest_hour(group.iloc[0], group))\n"
     ]
    },
    {
     "name": "stdout",
     "output_type": "stream",
     "text": [
      "Processing ./raw_stations/70:ee:50:3d:26:c8.csv\n"
     ]
    },
    {
     "name": "stderr",
     "output_type": "stream",
     "text": [
      "/tmp/ipykernel_120977/1812390815.py:15: DeprecationWarning: DataFrameGroupBy.apply operated on the grouping columns. This behavior is deprecated, and in a future version of pandas the grouping columns will be excluded from the operation. Either pass `include_groups=False` to exclude the groupings or explicitly select the grouping columns after groupby to silence this warning.\n",
      "  closest_temps = df.groupby(['date', 'hour'], group_keys=False).apply(lambda group: get_closest_hour(group.iloc[0], group))\n"
     ]
    },
    {
     "name": "stdout",
     "output_type": "stream",
     "text": [
      "Processing ./raw_stations/70:ee:50:3f:18:7e.csv\n"
     ]
    },
    {
     "name": "stderr",
     "output_type": "stream",
     "text": [
      "/tmp/ipykernel_120977/1812390815.py:15: DeprecationWarning: DataFrameGroupBy.apply operated on the grouping columns. This behavior is deprecated, and in a future version of pandas the grouping columns will be excluded from the operation. Either pass `include_groups=False` to exclude the groupings or explicitly select the grouping columns after groupby to silence this warning.\n",
      "  closest_temps = df.groupby(['date', 'hour'], group_keys=False).apply(lambda group: get_closest_hour(group.iloc[0], group))\n"
     ]
    },
    {
     "name": "stdout",
     "output_type": "stream",
     "text": [
      "Processing ./raw_stations/70:ee:50:3f:63:68.csv\n"
     ]
    },
    {
     "name": "stderr",
     "output_type": "stream",
     "text": [
      "/tmp/ipykernel_120977/1812390815.py:15: DeprecationWarning: DataFrameGroupBy.apply operated on the grouping columns. This behavior is deprecated, and in a future version of pandas the grouping columns will be excluded from the operation. Either pass `include_groups=False` to exclude the groupings or explicitly select the grouping columns after groupby to silence this warning.\n",
      "  closest_temps = df.groupby(['date', 'hour'], group_keys=False).apply(lambda group: get_closest_hour(group.iloc[0], group))\n"
     ]
    },
    {
     "name": "stdout",
     "output_type": "stream",
     "text": [
      "Processing ./raw_stations/70:ee:50:3f:68:bc.csv\n"
     ]
    },
    {
     "name": "stderr",
     "output_type": "stream",
     "text": [
      "/tmp/ipykernel_120977/1812390815.py:15: DeprecationWarning: DataFrameGroupBy.apply operated on the grouping columns. This behavior is deprecated, and in a future version of pandas the grouping columns will be excluded from the operation. Either pass `include_groups=False` to exclude the groupings or explicitly select the grouping columns after groupby to silence this warning.\n",
      "  closest_temps = df.groupby(['date', 'hour'], group_keys=False).apply(lambda group: get_closest_hour(group.iloc[0], group))\n"
     ]
    },
    {
     "name": "stdout",
     "output_type": "stream",
     "text": [
      "Processing ./raw_stations/70:ee:50:52:d9:cc.csv\n"
     ]
    },
    {
     "name": "stderr",
     "output_type": "stream",
     "text": [
      "/tmp/ipykernel_120977/1812390815.py:15: DeprecationWarning: DataFrameGroupBy.apply operated on the grouping columns. This behavior is deprecated, and in a future version of pandas the grouping columns will be excluded from the operation. Either pass `include_groups=False` to exclude the groupings or explicitly select the grouping columns after groupby to silence this warning.\n",
      "  closest_temps = df.groupby(['date', 'hour'], group_keys=False).apply(lambda group: get_closest_hour(group.iloc[0], group))\n"
     ]
    },
    {
     "name": "stdout",
     "output_type": "stream",
     "text": [
      "Processing ./raw_stations/70:ee:50:53:34:be.csv\n"
     ]
    },
    {
     "name": "stderr",
     "output_type": "stream",
     "text": [
      "/tmp/ipykernel_120977/1812390815.py:15: DeprecationWarning: DataFrameGroupBy.apply operated on the grouping columns. This behavior is deprecated, and in a future version of pandas the grouping columns will be excluded from the operation. Either pass `include_groups=False` to exclude the groupings or explicitly select the grouping columns after groupby to silence this warning.\n",
      "  closest_temps = df.groupby(['date', 'hour'], group_keys=False).apply(lambda group: get_closest_hour(group.iloc[0], group))\n"
     ]
    },
    {
     "name": "stdout",
     "output_type": "stream",
     "text": [
      "Processing ./raw_stations/70:ee:50:58:98:7c.csv\n"
     ]
    },
    {
     "name": "stderr",
     "output_type": "stream",
     "text": [
      "/tmp/ipykernel_120977/1812390815.py:15: DeprecationWarning: DataFrameGroupBy.apply operated on the grouping columns. This behavior is deprecated, and in a future version of pandas the grouping columns will be excluded from the operation. Either pass `include_groups=False` to exclude the groupings or explicitly select the grouping columns after groupby to silence this warning.\n",
      "  closest_temps = df.groupby(['date', 'hour'], group_keys=False).apply(lambda group: get_closest_hour(group.iloc[0], group))\n"
     ]
    },
    {
     "name": "stdout",
     "output_type": "stream",
     "text": [
      "Processing ./raw_stations/70:ee:50:5e:df:26.csv\n"
     ]
    },
    {
     "name": "stderr",
     "output_type": "stream",
     "text": [
      "/tmp/ipykernel_120977/1812390815.py:15: DeprecationWarning: DataFrameGroupBy.apply operated on the grouping columns. This behavior is deprecated, and in a future version of pandas the grouping columns will be excluded from the operation. Either pass `include_groups=False` to exclude the groupings or explicitly select the grouping columns after groupby to silence this warning.\n",
      "  closest_temps = df.groupby(['date', 'hour'], group_keys=False).apply(lambda group: get_closest_hour(group.iloc[0], group))\n"
     ]
    },
    {
     "name": "stdout",
     "output_type": "stream",
     "text": [
      "Processing ./raw_stations/70:ee:50:5f:09:04.csv\n"
     ]
    },
    {
     "name": "stderr",
     "output_type": "stream",
     "text": [
      "/tmp/ipykernel_120977/1812390815.py:15: DeprecationWarning: DataFrameGroupBy.apply operated on the grouping columns. This behavior is deprecated, and in a future version of pandas the grouping columns will be excluded from the operation. Either pass `include_groups=False` to exclude the groupings or explicitly select the grouping columns after groupby to silence this warning.\n",
      "  closest_temps = df.groupby(['date', 'hour'], group_keys=False).apply(lambda group: get_closest_hour(group.iloc[0], group))\n"
     ]
    },
    {
     "name": "stdout",
     "output_type": "stream",
     "text": [
      "Processing ./raw_stations/70:ee:50:5f:56:10.csv\n"
     ]
    },
    {
     "name": "stderr",
     "output_type": "stream",
     "text": [
      "/tmp/ipykernel_120977/1812390815.py:15: DeprecationWarning: DataFrameGroupBy.apply operated on the grouping columns. This behavior is deprecated, and in a future version of pandas the grouping columns will be excluded from the operation. Either pass `include_groups=False` to exclude the groupings or explicitly select the grouping columns after groupby to silence this warning.\n",
      "  closest_temps = df.groupby(['date', 'hour'], group_keys=False).apply(lambda group: get_closest_hour(group.iloc[0], group))\n"
     ]
    },
    {
     "name": "stdout",
     "output_type": "stream",
     "text": [
      "Processing ./raw_stations/70:ee:50:64:ff:ee.csv\n"
     ]
    },
    {
     "name": "stderr",
     "output_type": "stream",
     "text": [
      "/tmp/ipykernel_120977/1812390815.py:15: DeprecationWarning: DataFrameGroupBy.apply operated on the grouping columns. This behavior is deprecated, and in a future version of pandas the grouping columns will be excluded from the operation. Either pass `include_groups=False` to exclude the groupings or explicitly select the grouping columns after groupby to silence this warning.\n",
      "  closest_temps = df.groupby(['date', 'hour'], group_keys=False).apply(lambda group: get_closest_hour(group.iloc[0], group))\n"
     ]
    },
    {
     "name": "stdout",
     "output_type": "stream",
     "text": [
      "Processing ./raw_stations/70:ee:50:65:6b:86.csv\n"
     ]
    },
    {
     "name": "stderr",
     "output_type": "stream",
     "text": [
      "/tmp/ipykernel_120977/1812390815.py:15: DeprecationWarning: DataFrameGroupBy.apply operated on the grouping columns. This behavior is deprecated, and in a future version of pandas the grouping columns will be excluded from the operation. Either pass `include_groups=False` to exclude the groupings or explicitly select the grouping columns after groupby to silence this warning.\n",
      "  closest_temps = df.groupby(['date', 'hour'], group_keys=False).apply(lambda group: get_closest_hour(group.iloc[0], group))\n"
     ]
    },
    {
     "name": "stdout",
     "output_type": "stream",
     "text": [
      "Processing ./raw_stations/70:ee:50:65:86:d2.csv\n"
     ]
    },
    {
     "name": "stderr",
     "output_type": "stream",
     "text": [
      "/tmp/ipykernel_120977/1812390815.py:15: DeprecationWarning: DataFrameGroupBy.apply operated on the grouping columns. This behavior is deprecated, and in a future version of pandas the grouping columns will be excluded from the operation. Either pass `include_groups=False` to exclude the groupings or explicitly select the grouping columns after groupby to silence this warning.\n",
      "  closest_temps = df.groupby(['date', 'hour'], group_keys=False).apply(lambda group: get_closest_hour(group.iloc[0], group))\n"
     ]
    },
    {
     "name": "stdout",
     "output_type": "stream",
     "text": [
      "Processing ./raw_stations/70:ee:50:65:89:f2.csv\n"
     ]
    },
    {
     "name": "stderr",
     "output_type": "stream",
     "text": [
      "/tmp/ipykernel_120977/1812390815.py:15: DeprecationWarning: DataFrameGroupBy.apply operated on the grouping columns. This behavior is deprecated, and in a future version of pandas the grouping columns will be excluded from the operation. Either pass `include_groups=False` to exclude the groupings or explicitly select the grouping columns after groupby to silence this warning.\n",
      "  closest_temps = df.groupby(['date', 'hour'], group_keys=False).apply(lambda group: get_closest_hour(group.iloc[0], group))\n"
     ]
    },
    {
     "name": "stdout",
     "output_type": "stream",
     "text": [
      "Processing ./raw_stations/70:ee:50:6b:2a:9a.csv\n"
     ]
    },
    {
     "name": "stderr",
     "output_type": "stream",
     "text": [
      "/tmp/ipykernel_120977/1812390815.py:15: DeprecationWarning: DataFrameGroupBy.apply operated on the grouping columns. This behavior is deprecated, and in a future version of pandas the grouping columns will be excluded from the operation. Either pass `include_groups=False` to exclude the groupings or explicitly select the grouping columns after groupby to silence this warning.\n",
      "  closest_temps = df.groupby(['date', 'hour'], group_keys=False).apply(lambda group: get_closest_hour(group.iloc[0], group))\n"
     ]
    },
    {
     "name": "stdout",
     "output_type": "stream",
     "text": [
      "Processing ./raw_stations/70:ee:50:71:15:80.csv\n"
     ]
    },
    {
     "name": "stderr",
     "output_type": "stream",
     "text": [
      "/tmp/ipykernel_120977/1812390815.py:15: DeprecationWarning: DataFrameGroupBy.apply operated on the grouping columns. This behavior is deprecated, and in a future version of pandas the grouping columns will be excluded from the operation. Either pass `include_groups=False` to exclude the groupings or explicitly select the grouping columns after groupby to silence this warning.\n",
      "  closest_temps = df.groupby(['date', 'hour'], group_keys=False).apply(lambda group: get_closest_hour(group.iloc[0], group))\n"
     ]
    },
    {
     "name": "stdout",
     "output_type": "stream",
     "text": [
      "Processing ./raw_stations/70:ee:50:71:22:16.csv\n"
     ]
    },
    {
     "name": "stderr",
     "output_type": "stream",
     "text": [
      "/tmp/ipykernel_120977/1812390815.py:15: DeprecationWarning: DataFrameGroupBy.apply operated on the grouping columns. This behavior is deprecated, and in a future version of pandas the grouping columns will be excluded from the operation. Either pass `include_groups=False` to exclude the groupings or explicitly select the grouping columns after groupby to silence this warning.\n",
      "  closest_temps = df.groupby(['date', 'hour'], group_keys=False).apply(lambda group: get_closest_hour(group.iloc[0], group))\n"
     ]
    },
    {
     "name": "stdout",
     "output_type": "stream",
     "text": [
      "Processing ./raw_stations/70:ee:50:73:c5:a8.csv\n"
     ]
    },
    {
     "name": "stderr",
     "output_type": "stream",
     "text": [
      "/tmp/ipykernel_120977/1812390815.py:15: DeprecationWarning: DataFrameGroupBy.apply operated on the grouping columns. This behavior is deprecated, and in a future version of pandas the grouping columns will be excluded from the operation. Either pass `include_groups=False` to exclude the groupings or explicitly select the grouping columns after groupby to silence this warning.\n",
      "  closest_temps = df.groupby(['date', 'hour'], group_keys=False).apply(lambda group: get_closest_hour(group.iloc[0], group))\n"
     ]
    },
    {
     "name": "stdout",
     "output_type": "stream",
     "text": [
      "Processing ./raw_stations/70:ee:50:73:ce:d0.csv\n"
     ]
    },
    {
     "name": "stderr",
     "output_type": "stream",
     "text": [
      "/tmp/ipykernel_120977/1812390815.py:15: DeprecationWarning: DataFrameGroupBy.apply operated on the grouping columns. This behavior is deprecated, and in a future version of pandas the grouping columns will be excluded from the operation. Either pass `include_groups=False` to exclude the groupings or explicitly select the grouping columns after groupby to silence this warning.\n",
      "  closest_temps = df.groupby(['date', 'hour'], group_keys=False).apply(lambda group: get_closest_hour(group.iloc[0], group))\n"
     ]
    },
    {
     "name": "stdout",
     "output_type": "stream",
     "text": [
      "Processing ./raw_stations/70:ee:50:74:0d:90.csv\n"
     ]
    },
    {
     "name": "stderr",
     "output_type": "stream",
     "text": [
      "/tmp/ipykernel_120977/1812390815.py:15: DeprecationWarning: DataFrameGroupBy.apply operated on the grouping columns. This behavior is deprecated, and in a future version of pandas the grouping columns will be excluded from the operation. Either pass `include_groups=False` to exclude the groupings or explicitly select the grouping columns after groupby to silence this warning.\n",
      "  closest_temps = df.groupby(['date', 'hour'], group_keys=False).apply(lambda group: get_closest_hour(group.iloc[0], group))\n"
     ]
    },
    {
     "name": "stdout",
     "output_type": "stream",
     "text": [
      "Processing ./raw_stations/70:ee:50:74:29:4c.csv\n"
     ]
    },
    {
     "name": "stderr",
     "output_type": "stream",
     "text": [
      "/tmp/ipykernel_120977/1812390815.py:15: DeprecationWarning: DataFrameGroupBy.apply operated on the grouping columns. This behavior is deprecated, and in a future version of pandas the grouping columns will be excluded from the operation. Either pass `include_groups=False` to exclude the groupings or explicitly select the grouping columns after groupby to silence this warning.\n",
      "  closest_temps = df.groupby(['date', 'hour'], group_keys=False).apply(lambda group: get_closest_hour(group.iloc[0], group))\n"
     ]
    },
    {
     "name": "stdout",
     "output_type": "stream",
     "text": [
      "Processing ./raw_stations/70:ee:50:74:50:56.csv\n"
     ]
    },
    {
     "name": "stderr",
     "output_type": "stream",
     "text": [
      "/tmp/ipykernel_120977/1812390815.py:15: DeprecationWarning: DataFrameGroupBy.apply operated on the grouping columns. This behavior is deprecated, and in a future version of pandas the grouping columns will be excluded from the operation. Either pass `include_groups=False` to exclude the groupings or explicitly select the grouping columns after groupby to silence this warning.\n",
      "  closest_temps = df.groupby(['date', 'hour'], group_keys=False).apply(lambda group: get_closest_hour(group.iloc[0], group))\n"
     ]
    },
    {
     "name": "stdout",
     "output_type": "stream",
     "text": [
      "Processing ./raw_stations/70:ee:50:7a:6f:c6.csv\n"
     ]
    },
    {
     "name": "stderr",
     "output_type": "stream",
     "text": [
      "/tmp/ipykernel_120977/1812390815.py:15: DeprecationWarning: DataFrameGroupBy.apply operated on the grouping columns. This behavior is deprecated, and in a future version of pandas the grouping columns will be excluded from the operation. Either pass `include_groups=False` to exclude the groupings or explicitly select the grouping columns after groupby to silence this warning.\n",
      "  closest_temps = df.groupby(['date', 'hour'], group_keys=False).apply(lambda group: get_closest_hour(group.iloc[0], group))\n"
     ]
    },
    {
     "name": "stdout",
     "output_type": "stream",
     "text": [
      "Processing ./raw_stations/70:ee:50:7a:74:da.csv\n"
     ]
    },
    {
     "name": "stderr",
     "output_type": "stream",
     "text": [
      "/tmp/ipykernel_120977/1812390815.py:15: DeprecationWarning: DataFrameGroupBy.apply operated on the grouping columns. This behavior is deprecated, and in a future version of pandas the grouping columns will be excluded from the operation. Either pass `include_groups=False` to exclude the groupings or explicitly select the grouping columns after groupby to silence this warning.\n",
      "  closest_temps = df.groupby(['date', 'hour'], group_keys=False).apply(lambda group: get_closest_hour(group.iloc[0], group))\n"
     ]
    },
    {
     "name": "stdout",
     "output_type": "stream",
     "text": [
      "Processing ./raw_stations/70:ee:50:7a:8d:66.csv\n"
     ]
    },
    {
     "name": "stderr",
     "output_type": "stream",
     "text": [
      "/tmp/ipykernel_120977/1812390815.py:15: DeprecationWarning: DataFrameGroupBy.apply operated on the grouping columns. This behavior is deprecated, and in a future version of pandas the grouping columns will be excluded from the operation. Either pass `include_groups=False` to exclude the groupings or explicitly select the grouping columns after groupby to silence this warning.\n",
      "  closest_temps = df.groupby(['date', 'hour'], group_keys=False).apply(lambda group: get_closest_hour(group.iloc[0], group))\n"
     ]
    },
    {
     "name": "stdout",
     "output_type": "stream",
     "text": [
      "Processing ./raw_stations/70:ee:50:7a:8f:60.csv\n"
     ]
    },
    {
     "name": "stderr",
     "output_type": "stream",
     "text": [
      "/tmp/ipykernel_120977/1812390815.py:15: DeprecationWarning: DataFrameGroupBy.apply operated on the grouping columns. This behavior is deprecated, and in a future version of pandas the grouping columns will be excluded from the operation. Either pass `include_groups=False` to exclude the groupings or explicitly select the grouping columns after groupby to silence this warning.\n",
      "  closest_temps = df.groupby(['date', 'hour'], group_keys=False).apply(lambda group: get_closest_hour(group.iloc[0], group))\n"
     ]
    },
    {
     "name": "stdout",
     "output_type": "stream",
     "text": [
      "Processing ./raw_stations/70:ee:50:7a:ae:b2.csv\n"
     ]
    },
    {
     "name": "stderr",
     "output_type": "stream",
     "text": [
      "/tmp/ipykernel_120977/1812390815.py:15: DeprecationWarning: DataFrameGroupBy.apply operated on the grouping columns. This behavior is deprecated, and in a future version of pandas the grouping columns will be excluded from the operation. Either pass `include_groups=False` to exclude the groupings or explicitly select the grouping columns after groupby to silence this warning.\n",
      "  closest_temps = df.groupby(['date', 'hour'], group_keys=False).apply(lambda group: get_closest_hour(group.iloc[0], group))\n"
     ]
    },
    {
     "name": "stdout",
     "output_type": "stream",
     "text": [
      "Processing ./raw_stations/70:ee:50:7a:d1:ce.csv\n"
     ]
    },
    {
     "name": "stderr",
     "output_type": "stream",
     "text": [
      "/tmp/ipykernel_120977/1812390815.py:15: DeprecationWarning: DataFrameGroupBy.apply operated on the grouping columns. This behavior is deprecated, and in a future version of pandas the grouping columns will be excluded from the operation. Either pass `include_groups=False` to exclude the groupings or explicitly select the grouping columns after groupby to silence this warning.\n",
      "  closest_temps = df.groupby(['date', 'hour'], group_keys=False).apply(lambda group: get_closest_hour(group.iloc[0], group))\n"
     ]
    },
    {
     "name": "stdout",
     "output_type": "stream",
     "text": [
      "Processing ./raw_stations/70:ee:50:90:e1:86.csv\n"
     ]
    },
    {
     "name": "stderr",
     "output_type": "stream",
     "text": [
      "/tmp/ipykernel_120977/1812390815.py:15: DeprecationWarning: DataFrameGroupBy.apply operated on the grouping columns. This behavior is deprecated, and in a future version of pandas the grouping columns will be excluded from the operation. Either pass `include_groups=False` to exclude the groupings or explicitly select the grouping columns after groupby to silence this warning.\n",
      "  closest_temps = df.groupby(['date', 'hour'], group_keys=False).apply(lambda group: get_closest_hour(group.iloc[0], group))\n"
     ]
    },
    {
     "name": "stdout",
     "output_type": "stream",
     "text": [
      "Processing ./raw_stations/70:ee:50:a2:07:2e.csv\n"
     ]
    },
    {
     "name": "stderr",
     "output_type": "stream",
     "text": [
      "/tmp/ipykernel_120977/1812390815.py:15: DeprecationWarning: DataFrameGroupBy.apply operated on the grouping columns. This behavior is deprecated, and in a future version of pandas the grouping columns will be excluded from the operation. Either pass `include_groups=False` to exclude the groupings or explicitly select the grouping columns after groupby to silence this warning.\n",
      "  closest_temps = df.groupby(['date', 'hour'], group_keys=False).apply(lambda group: get_closest_hour(group.iloc[0], group))\n"
     ]
    }
   ],
   "source": [
    "# For each hour, find the closest timestamp (either before or after)\n",
    "def get_closest_hour(row, df):\n",
    "    # Find all rows for the target hour and the next hour (or previous if needed)\n",
    "    target_hour = row['hour']\n",
    "    closest_row = df.iloc[(df['time'] - row['time']).abs().argmin()]\n",
    "    return closest_row\n",
    "\n",
    "for csv_file in station_files:\n",
    "    print(f'Processing {csv_file}')\n",
    "    df = pd.read_csv(csv_file, delimiter=',')\n",
    "    df['time'] = pd.to_datetime(df['date'] + ' ' + df['time'], format='%Y-%m-%d %H:%M:%S')\n",
    "    df['hour'] = df['time'].dt.hour\n",
    "    \n",
    "    # Apply the function to each row in the dataframe\n",
    "    closest_temps = df.groupby(['date', 'hour'], group_keys=False).apply(lambda group: get_closest_hour(group.iloc[0], group))\n",
    "\n",
    "    # Convert the result back into a dataframe\n",
    "    result = closest_temps.reset_index(drop=True)[['date', 'time', 'temp']]\n",
    "\n",
    "    # Get just the time\n",
    "    result['time'] = result['time'].dt.hour\n",
    "    \n",
    "    # Filter by date interval\n",
    "    start_date = '2023-06-01'\n",
    "    end_date = '2023-08-31'\n",
    "    result = result[(result['date'] >= start_date) & (result['date'] <= end_date)]\n",
    "    result['station'] = re.search(r\"/([^/]+)\\.csv$\", csv_file).group(1)\n",
    "\n",
    "    all_dataframes.append(result)"
   ]
  },
  {
   "cell_type": "code",
   "execution_count": 13,
   "id": "796e81f5-b0ed-40d3-a83c-a93c93f000df",
   "metadata": {},
   "outputs": [
    {
     "data": {
      "text/html": [
       "<div>\n",
       "<style scoped>\n",
       "    .dataframe tbody tr th:only-of-type {\n",
       "        vertical-align: middle;\n",
       "    }\n",
       "\n",
       "    .dataframe tbody tr th {\n",
       "        vertical-align: top;\n",
       "    }\n",
       "\n",
       "    .dataframe thead th {\n",
       "        text-align: right;\n",
       "    }\n",
       "</style>\n",
       "<table border=\"1\" class=\"dataframe\">\n",
       "  <thead>\n",
       "    <tr style=\"text-align: right;\">\n",
       "      <th></th>\n",
       "      <th>date</th>\n",
       "      <th>time</th>\n",
       "      <th>temp</th>\n",
       "      <th>station</th>\n",
       "    </tr>\n",
       "  </thead>\n",
       "  <tbody>\n",
       "    <tr>\n",
       "      <th>3</th>\n",
       "      <td>2023-06-01</td>\n",
       "      <td>0</td>\n",
       "      <td>20.6</td>\n",
       "      <td>70:ee:50:01:60:78</td>\n",
       "    </tr>\n",
       "    <tr>\n",
       "      <th>4</th>\n",
       "      <td>2023-06-01</td>\n",
       "      <td>1</td>\n",
       "      <td>19.9</td>\n",
       "      <td>70:ee:50:01:60:78</td>\n",
       "    </tr>\n",
       "    <tr>\n",
       "      <th>5</th>\n",
       "      <td>2023-06-01</td>\n",
       "      <td>2</td>\n",
       "      <td>19.5</td>\n",
       "      <td>70:ee:50:01:60:78</td>\n",
       "    </tr>\n",
       "    <tr>\n",
       "      <th>6</th>\n",
       "      <td>2023-06-01</td>\n",
       "      <td>3</td>\n",
       "      <td>19.0</td>\n",
       "      <td>70:ee:50:01:60:78</td>\n",
       "    </tr>\n",
       "    <tr>\n",
       "      <th>7</th>\n",
       "      <td>2023-06-01</td>\n",
       "      <td>4</td>\n",
       "      <td>19.1</td>\n",
       "      <td>70:ee:50:01:60:78</td>\n",
       "    </tr>\n",
       "    <tr>\n",
       "      <th>...</th>\n",
       "      <td>...</td>\n",
       "      <td>...</td>\n",
       "      <td>...</td>\n",
       "      <td>...</td>\n",
       "    </tr>\n",
       "    <tr>\n",
       "      <th>2206</th>\n",
       "      <td>2023-08-31</td>\n",
       "      <td>19</td>\n",
       "      <td>28.0</td>\n",
       "      <td>70:ee:50:01:60:78</td>\n",
       "    </tr>\n",
       "    <tr>\n",
       "      <th>2207</th>\n",
       "      <td>2023-08-31</td>\n",
       "      <td>20</td>\n",
       "      <td>26.9</td>\n",
       "      <td>70:ee:50:01:60:78</td>\n",
       "    </tr>\n",
       "    <tr>\n",
       "      <th>2208</th>\n",
       "      <td>2023-08-31</td>\n",
       "      <td>21</td>\n",
       "      <td>26.0</td>\n",
       "      <td>70:ee:50:01:60:78</td>\n",
       "    </tr>\n",
       "    <tr>\n",
       "      <th>2209</th>\n",
       "      <td>2023-08-31</td>\n",
       "      <td>22</td>\n",
       "      <td>25.2</td>\n",
       "      <td>70:ee:50:01:60:78</td>\n",
       "    </tr>\n",
       "    <tr>\n",
       "      <th>2210</th>\n",
       "      <td>2023-08-31</td>\n",
       "      <td>23</td>\n",
       "      <td>24.4</td>\n",
       "      <td>70:ee:50:01:60:78</td>\n",
       "    </tr>\n",
       "  </tbody>\n",
       "</table>\n",
       "<p>2208 rows × 4 columns</p>\n",
       "</div>"
      ],
      "text/plain": [
       "            date  time  temp            station\n",
       "3     2023-06-01     0  20.6  70:ee:50:01:60:78\n",
       "4     2023-06-01     1  19.9  70:ee:50:01:60:78\n",
       "5     2023-06-01     2  19.5  70:ee:50:01:60:78\n",
       "6     2023-06-01     3  19.0  70:ee:50:01:60:78\n",
       "7     2023-06-01     4  19.1  70:ee:50:01:60:78\n",
       "...          ...   ...   ...                ...\n",
       "2206  2023-08-31    19  28.0  70:ee:50:01:60:78\n",
       "2207  2023-08-31    20  26.9  70:ee:50:01:60:78\n",
       "2208  2023-08-31    21  26.0  70:ee:50:01:60:78\n",
       "2209  2023-08-31    22  25.2  70:ee:50:01:60:78\n",
       "2210  2023-08-31    23  24.4  70:ee:50:01:60:78\n",
       "\n",
       "[2208 rows x 4 columns]"
      ]
     },
     "execution_count": 13,
     "metadata": {},
     "output_type": "execute_result"
    }
   ],
   "source": [
    "all_dataframes[0]"
   ]
  },
  {
   "cell_type": "code",
   "execution_count": 14,
   "id": "ae3dd4de-7bd1-4eab-9216-16ab9d3823ec",
   "metadata": {},
   "outputs": [
    {
     "data": {
      "text/html": [
       "<div>\n",
       "<style scoped>\n",
       "    .dataframe tbody tr th:only-of-type {\n",
       "        vertical-align: middle;\n",
       "    }\n",
       "\n",
       "    .dataframe tbody tr th {\n",
       "        vertical-align: top;\n",
       "    }\n",
       "\n",
       "    .dataframe thead th {\n",
       "        text-align: right;\n",
       "    }\n",
       "</style>\n",
       "<table border=\"1\" class=\"dataframe\">\n",
       "  <thead>\n",
       "    <tr style=\"text-align: right;\">\n",
       "      <th></th>\n",
       "      <th>date</th>\n",
       "      <th>time</th>\n",
       "      <th>temp</th>\n",
       "      <th>station</th>\n",
       "    </tr>\n",
       "  </thead>\n",
       "  <tbody>\n",
       "    <tr>\n",
       "      <th>0</th>\n",
       "      <td>2023-06-01</td>\n",
       "      <td>0</td>\n",
       "      <td>20.6</td>\n",
       "      <td>70:ee:50:01:60:78</td>\n",
       "    </tr>\n",
       "    <tr>\n",
       "      <th>1</th>\n",
       "      <td>2023-06-01</td>\n",
       "      <td>1</td>\n",
       "      <td>19.9</td>\n",
       "      <td>70:ee:50:01:60:78</td>\n",
       "    </tr>\n",
       "    <tr>\n",
       "      <th>2</th>\n",
       "      <td>2023-06-01</td>\n",
       "      <td>2</td>\n",
       "      <td>19.5</td>\n",
       "      <td>70:ee:50:01:60:78</td>\n",
       "    </tr>\n",
       "    <tr>\n",
       "      <th>3</th>\n",
       "      <td>2023-06-01</td>\n",
       "      <td>3</td>\n",
       "      <td>19.0</td>\n",
       "      <td>70:ee:50:01:60:78</td>\n",
       "    </tr>\n",
       "    <tr>\n",
       "      <th>4</th>\n",
       "      <td>2023-06-01</td>\n",
       "      <td>4</td>\n",
       "      <td>19.1</td>\n",
       "      <td>70:ee:50:01:60:78</td>\n",
       "    </tr>\n",
       "  </tbody>\n",
       "</table>\n",
       "</div>"
      ],
      "text/plain": [
       "         date  time  temp            station\n",
       "0  2023-06-01     0  20.6  70:ee:50:01:60:78\n",
       "1  2023-06-01     1  19.9  70:ee:50:01:60:78\n",
       "2  2023-06-01     2  19.5  70:ee:50:01:60:78\n",
       "3  2023-06-01     3  19.0  70:ee:50:01:60:78\n",
       "4  2023-06-01     4  19.1  70:ee:50:01:60:78"
      ]
     },
     "execution_count": 14,
     "metadata": {},
     "output_type": "execute_result"
    }
   ],
   "source": [
    "temperatures = pd.concat(all_dataframes, ignore_index=True)\n",
    "temperatures.head()"
   ]
  },
  {
   "cell_type": "code",
   "execution_count": 15,
   "id": "c9612fa1-0083-4037-ac7a-35941d365c4c",
   "metadata": {},
   "outputs": [
    {
     "data": {
      "text/html": [
       "<div>\n",
       "<style scoped>\n",
       "    .dataframe tbody tr th:only-of-type {\n",
       "        vertical-align: middle;\n",
       "    }\n",
       "\n",
       "    .dataframe tbody tr th {\n",
       "        vertical-align: top;\n",
       "    }\n",
       "\n",
       "    .dataframe thead th {\n",
       "        text-align: right;\n",
       "    }\n",
       "</style>\n",
       "<table border=\"1\" class=\"dataframe\">\n",
       "  <thead>\n",
       "    <tr style=\"text-align: right;\">\n",
       "      <th></th>\n",
       "      <th>date</th>\n",
       "      <th>time</th>\n",
       "      <th>temp</th>\n",
       "      <th>station</th>\n",
       "    </tr>\n",
       "  </thead>\n",
       "  <tbody>\n",
       "    <tr>\n",
       "      <th>113675</th>\n",
       "      <td>2023-08-31</td>\n",
       "      <td>19</td>\n",
       "      <td>28.0</td>\n",
       "      <td>70:ee:50:a2:07:2e</td>\n",
       "    </tr>\n",
       "    <tr>\n",
       "      <th>113676</th>\n",
       "      <td>2023-08-31</td>\n",
       "      <td>20</td>\n",
       "      <td>25.9</td>\n",
       "      <td>70:ee:50:a2:07:2e</td>\n",
       "    </tr>\n",
       "    <tr>\n",
       "      <th>113677</th>\n",
       "      <td>2023-08-31</td>\n",
       "      <td>21</td>\n",
       "      <td>24.3</td>\n",
       "      <td>70:ee:50:a2:07:2e</td>\n",
       "    </tr>\n",
       "    <tr>\n",
       "      <th>113678</th>\n",
       "      <td>2023-08-31</td>\n",
       "      <td>22</td>\n",
       "      <td>23.1</td>\n",
       "      <td>70:ee:50:a2:07:2e</td>\n",
       "    </tr>\n",
       "    <tr>\n",
       "      <th>113679</th>\n",
       "      <td>2023-08-31</td>\n",
       "      <td>23</td>\n",
       "      <td>22.3</td>\n",
       "      <td>70:ee:50:a2:07:2e</td>\n",
       "    </tr>\n",
       "  </tbody>\n",
       "</table>\n",
       "</div>"
      ],
      "text/plain": [
       "              date  time  temp            station\n",
       "113675  2023-08-31    19  28.0  70:ee:50:a2:07:2e\n",
       "113676  2023-08-31    20  25.9  70:ee:50:a2:07:2e\n",
       "113677  2023-08-31    21  24.3  70:ee:50:a2:07:2e\n",
       "113678  2023-08-31    22  23.1  70:ee:50:a2:07:2e\n",
       "113679  2023-08-31    23  22.3  70:ee:50:a2:07:2e"
      ]
     },
     "execution_count": 15,
     "metadata": {},
     "output_type": "execute_result"
    }
   ],
   "source": [
    "temperatures.tail()"
   ]
  },
  {
   "cell_type": "code",
   "execution_count": 16,
   "id": "f26f5d1d-69c6-453a-baed-e5eca5673cc0",
   "metadata": {},
   "outputs": [],
   "source": [
    "temperatures.to_csv('temperatures.csv', index=False)"
   ]
  },
  {
   "cell_type": "markdown",
   "id": "aaf5f51e-fb1e-4d80-9b2b-67852e9f2006",
   "metadata": {},
   "source": [
    "## Quality Control\n",
    "\n",
    "Baseline defined in the paper \"Citizen data for global mapping of atmospheric urban heat islands\""
   ]
  },
  {
   "cell_type": "code",
   "execution_count": 17,
   "id": "ec45471d-1b50-4ce7-91c6-1621040af50a",
   "metadata": {},
   "outputs": [
    {
     "data": {
      "text/plain": [
       "(113680, 4)"
      ]
     },
     "execution_count": 17,
     "metadata": {},
     "output_type": "execute_result"
    }
   ],
   "source": [
    "temperatures.shape"
   ]
  },
  {
   "cell_type": "code",
   "execution_count": 18,
   "id": "eece0e92-ae5d-45cd-a001-f92da9978b9b",
   "metadata": {},
   "outputs": [
    {
     "data": {
      "text/plain": [
       "(113580, 4)"
      ]
     },
     "execution_count": 18,
     "metadata": {},
     "output_type": "execute_result"
    }
   ],
   "source": [
    "# Remove values below -20ºC and above 45ºC\n",
    "temperatures = temperatures[(temperatures['temp'] >= -20) & (temperatures['temp'] <= 45)]\n",
    "temperatures.shape"
   ]
  },
  {
   "cell_type": "code",
   "execution_count": 19,
   "id": "88c0566f-8c37-43cc-b5e7-47a50707d7aa",
   "metadata": {},
   "outputs": [
    {
     "name": "stderr",
     "output_type": "stream",
     "text": [
      "/tmp/ipykernel_120977/3283187688.py:15: DeprecationWarning: DataFrameGroupBy.apply operated on the grouping columns. This behavior is deprecated, and in a future version of pandas the grouping columns will be excluded from the operation. Either pass `include_groups=False` to exclude the groupings or explicitly select the grouping columns after groupby to silence this warning.\n",
      "  temperatures = temperatures.groupby(\"station\", group_keys=False).apply(filter_station_data)\n"
     ]
    },
    {
     "data": {
      "text/plain": [
       "(113208, 4)"
      ]
     },
     "execution_count": 19,
     "metadata": {},
     "output_type": "execute_result"
    }
   ],
   "source": [
    "# Keep only rows where the temperature difference is within ±thresholdºC\n",
    "threshold = 10\n",
    "# Define a function to filter each station's data\n",
    "def filter_station_data(station_df):\n",
    "    station_df = station_df.copy()  # Avoid modifying the original dataframe\n",
    "    station_df['temp_diff_prev'] = station_df['temp'].diff()\n",
    "    station_df['temp_diff_next'] = station_df['temp'].diff(-1)\n",
    "    \n",
    "    # Keep only rows where the temperature difference is within ±thresholdºC\n",
    "    filtered = station_df[(station_df['temp_diff_prev'].abs() <= threshold) & (station_df['temp_diff_next'].abs() <= threshold)]\n",
    "    \n",
    "    return filtered.drop(columns=[\"temp_diff_prev\", \"temp_diff_next\"])\n",
    "\n",
    "# Apply filtering per station\n",
    "temperatures = temperatures.groupby(\"station\", group_keys=False).apply(filter_station_data)\n",
    "temperatures.shape"
   ]
  },
  {
   "cell_type": "code",
   "execution_count": 20,
   "id": "a0684dea-c34a-422c-8a9c-9f6905fda7ca",
   "metadata": {},
   "outputs": [
    {
     "data": {
      "text/plain": [
       "(102481, 7)"
      ]
     },
     "execution_count": 20,
     "metadata": {},
     "output_type": "execute_result"
    }
   ],
   "source": [
    "# Detect outliers checking the data distribution using z-score\n",
    "\n",
    "# Group by date and time, then compute the mean and standard deviation of temp\n",
    "grouped = temperatures.groupby(['date', 'time'])['temp'].agg(['mean', 'std'])\n",
    "\n",
    "# Merge the mean and std back to the original dataframe\n",
    "temperatures = temperatures.merge(grouped, on=['date', 'time'])\n",
    "\n",
    "# Compute the Z-score\n",
    "temperatures['z_score'] = (temperatures['temp'] - temperatures['mean']) / temperatures['std']\n",
    "\n",
    "# Remove rows where the z-score value is outside the range between -2.32 and 1.64\n",
    "temperatures = temperatures[(temperatures['z_score'].abs() >= -2.32) & ((temperatures['z_score'].abs() <= 1.64))]\n",
    "temperatures.shape"
   ]
  },
  {
   "cell_type": "code",
   "execution_count": 21,
   "id": "ed0cfb6e-f1b8-48c6-b210-128156559833",
   "metadata": {},
   "outputs": [
    {
     "data": {
      "text/html": [
       "<div>\n",
       "<style scoped>\n",
       "    .dataframe tbody tr th:only-of-type {\n",
       "        vertical-align: middle;\n",
       "    }\n",
       "\n",
       "    .dataframe tbody tr th {\n",
       "        vertical-align: top;\n",
       "    }\n",
       "\n",
       "    .dataframe thead th {\n",
       "        text-align: right;\n",
       "    }\n",
       "</style>\n",
       "<table border=\"1\" class=\"dataframe\">\n",
       "  <thead>\n",
       "    <tr style=\"text-align: right;\">\n",
       "      <th></th>\n",
       "      <th>date</th>\n",
       "      <th>time</th>\n",
       "      <th>temp</th>\n",
       "      <th>station</th>\n",
       "    </tr>\n",
       "  </thead>\n",
       "  <tbody>\n",
       "    <tr>\n",
       "      <th>0</th>\n",
       "      <td>2023-06-01</td>\n",
       "      <td>1</td>\n",
       "      <td>19.9</td>\n",
       "      <td>70:ee:50:01:60:78</td>\n",
       "    </tr>\n",
       "    <tr>\n",
       "      <th>1</th>\n",
       "      <td>2023-06-01</td>\n",
       "      <td>2</td>\n",
       "      <td>19.5</td>\n",
       "      <td>70:ee:50:01:60:78</td>\n",
       "    </tr>\n",
       "    <tr>\n",
       "      <th>2</th>\n",
       "      <td>2023-06-01</td>\n",
       "      <td>3</td>\n",
       "      <td>19.0</td>\n",
       "      <td>70:ee:50:01:60:78</td>\n",
       "    </tr>\n",
       "    <tr>\n",
       "      <th>3</th>\n",
       "      <td>2023-06-01</td>\n",
       "      <td>4</td>\n",
       "      <td>19.1</td>\n",
       "      <td>70:ee:50:01:60:78</td>\n",
       "    </tr>\n",
       "    <tr>\n",
       "      <th>4</th>\n",
       "      <td>2023-06-01</td>\n",
       "      <td>5</td>\n",
       "      <td>18.7</td>\n",
       "      <td>70:ee:50:01:60:78</td>\n",
       "    </tr>\n",
       "    <tr>\n",
       "      <th>...</th>\n",
       "      <td>...</td>\n",
       "      <td>...</td>\n",
       "      <td>...</td>\n",
       "      <td>...</td>\n",
       "    </tr>\n",
       "    <tr>\n",
       "      <th>113203</th>\n",
       "      <td>2023-08-31</td>\n",
       "      <td>18</td>\n",
       "      <td>29.6</td>\n",
       "      <td>70:ee:50:a2:07:2e</td>\n",
       "    </tr>\n",
       "    <tr>\n",
       "      <th>113204</th>\n",
       "      <td>2023-08-31</td>\n",
       "      <td>19</td>\n",
       "      <td>28.0</td>\n",
       "      <td>70:ee:50:a2:07:2e</td>\n",
       "    </tr>\n",
       "    <tr>\n",
       "      <th>113205</th>\n",
       "      <td>2023-08-31</td>\n",
       "      <td>20</td>\n",
       "      <td>25.9</td>\n",
       "      <td>70:ee:50:a2:07:2e</td>\n",
       "    </tr>\n",
       "    <tr>\n",
       "      <th>113206</th>\n",
       "      <td>2023-08-31</td>\n",
       "      <td>21</td>\n",
       "      <td>24.3</td>\n",
       "      <td>70:ee:50:a2:07:2e</td>\n",
       "    </tr>\n",
       "    <tr>\n",
       "      <th>113207</th>\n",
       "      <td>2023-08-31</td>\n",
       "      <td>22</td>\n",
       "      <td>23.1</td>\n",
       "      <td>70:ee:50:a2:07:2e</td>\n",
       "    </tr>\n",
       "  </tbody>\n",
       "</table>\n",
       "<p>102481 rows × 4 columns</p>\n",
       "</div>"
      ],
      "text/plain": [
       "              date  time  temp            station\n",
       "0       2023-06-01     1  19.9  70:ee:50:01:60:78\n",
       "1       2023-06-01     2  19.5  70:ee:50:01:60:78\n",
       "2       2023-06-01     3  19.0  70:ee:50:01:60:78\n",
       "3       2023-06-01     4  19.1  70:ee:50:01:60:78\n",
       "4       2023-06-01     5  18.7  70:ee:50:01:60:78\n",
       "...            ...   ...   ...                ...\n",
       "113203  2023-08-31    18  29.6  70:ee:50:a2:07:2e\n",
       "113204  2023-08-31    19  28.0  70:ee:50:a2:07:2e\n",
       "113205  2023-08-31    20  25.9  70:ee:50:a2:07:2e\n",
       "113206  2023-08-31    21  24.3  70:ee:50:a2:07:2e\n",
       "113207  2023-08-31    22  23.1  70:ee:50:a2:07:2e\n",
       "\n",
       "[102481 rows x 4 columns]"
      ]
     },
     "execution_count": 21,
     "metadata": {},
     "output_type": "execute_result"
    }
   ],
   "source": [
    "# Remove unnecessary columns\n",
    "temperatures = temperatures.drop(columns=['z_score', 'mean', 'std'])\n",
    "temperatures"
   ]
  },
  {
   "cell_type": "markdown",
   "id": "4a334d4a-7960-48f0-8d09-df2e144f22bf",
   "metadata": {},
   "source": [
    "## Compute temperature differences"
   ]
  },
  {
   "cell_type": "code",
   "execution_count": 22,
   "id": "17248606-e362-4699-af8c-ed782ab014ee",
   "metadata": {},
   "outputs": [],
   "source": [
    "# As reference, we'll use 70:ee:50:3b:f5:64 (Venta del Olivar)"
   ]
  },
  {
   "cell_type": "code",
   "execution_count": 23,
   "id": "caa2b12f-8c9d-489d-9a6c-5bcfed61af96",
   "metadata": {},
   "outputs": [
    {
     "data": {
      "text/html": [
       "<div>\n",
       "<style scoped>\n",
       "    .dataframe tbody tr th:only-of-type {\n",
       "        vertical-align: middle;\n",
       "    }\n",
       "\n",
       "    .dataframe tbody tr th {\n",
       "        vertical-align: top;\n",
       "    }\n",
       "\n",
       "    .dataframe thead th {\n",
       "        text-align: right;\n",
       "    }\n",
       "</style>\n",
       "<table border=\"1\" class=\"dataframe\">\n",
       "  <thead>\n",
       "    <tr style=\"text-align: right;\">\n",
       "      <th></th>\n",
       "      <th>date</th>\n",
       "      <th>time</th>\n",
       "      <th>temp</th>\n",
       "      <th>station</th>\n",
       "      <th>temp_ref</th>\n",
       "    </tr>\n",
       "  </thead>\n",
       "  <tbody>\n",
       "    <tr>\n",
       "      <th>0</th>\n",
       "      <td>2023-06-01</td>\n",
       "      <td>1</td>\n",
       "      <td>19.9</td>\n",
       "      <td>70:ee:50:01:60:78</td>\n",
       "      <td>17.6</td>\n",
       "    </tr>\n",
       "    <tr>\n",
       "      <th>1</th>\n",
       "      <td>2023-06-01</td>\n",
       "      <td>2</td>\n",
       "      <td>19.5</td>\n",
       "      <td>70:ee:50:01:60:78</td>\n",
       "      <td>17.4</td>\n",
       "    </tr>\n",
       "    <tr>\n",
       "      <th>2</th>\n",
       "      <td>2023-06-01</td>\n",
       "      <td>3</td>\n",
       "      <td>19.0</td>\n",
       "      <td>70:ee:50:01:60:78</td>\n",
       "      <td>16.9</td>\n",
       "    </tr>\n",
       "    <tr>\n",
       "      <th>3</th>\n",
       "      <td>2023-06-01</td>\n",
       "      <td>4</td>\n",
       "      <td>19.1</td>\n",
       "      <td>70:ee:50:01:60:78</td>\n",
       "      <td>16.6</td>\n",
       "    </tr>\n",
       "    <tr>\n",
       "      <th>4</th>\n",
       "      <td>2023-06-01</td>\n",
       "      <td>5</td>\n",
       "      <td>18.7</td>\n",
       "      <td>70:ee:50:01:60:78</td>\n",
       "      <td>16.2</td>\n",
       "    </tr>\n",
       "    <tr>\n",
       "      <th>...</th>\n",
       "      <td>...</td>\n",
       "      <td>...</td>\n",
       "      <td>...</td>\n",
       "      <td>...</td>\n",
       "      <td>...</td>\n",
       "    </tr>\n",
       "    <tr>\n",
       "      <th>84213</th>\n",
       "      <td>2023-08-31</td>\n",
       "      <td>15</td>\n",
       "      <td>32.7</td>\n",
       "      <td>70:ee:50:a2:07:2e</td>\n",
       "      <td>30.1</td>\n",
       "    </tr>\n",
       "    <tr>\n",
       "      <th>84214</th>\n",
       "      <td>2023-08-31</td>\n",
       "      <td>16</td>\n",
       "      <td>32.4</td>\n",
       "      <td>70:ee:50:a2:07:2e</td>\n",
       "      <td>29.6</td>\n",
       "    </tr>\n",
       "    <tr>\n",
       "      <th>84215</th>\n",
       "      <td>2023-08-31</td>\n",
       "      <td>17</td>\n",
       "      <td>31.4</td>\n",
       "      <td>70:ee:50:a2:07:2e</td>\n",
       "      <td>29.1</td>\n",
       "    </tr>\n",
       "    <tr>\n",
       "      <th>84216</th>\n",
       "      <td>2023-08-31</td>\n",
       "      <td>18</td>\n",
       "      <td>29.6</td>\n",
       "      <td>70:ee:50:a2:07:2e</td>\n",
       "      <td>27.2</td>\n",
       "    </tr>\n",
       "    <tr>\n",
       "      <th>84217</th>\n",
       "      <td>2023-08-31</td>\n",
       "      <td>19</td>\n",
       "      <td>28.0</td>\n",
       "      <td>70:ee:50:a2:07:2e</td>\n",
       "      <td>24.7</td>\n",
       "    </tr>\n",
       "  </tbody>\n",
       "</table>\n",
       "<p>84218 rows × 5 columns</p>\n",
       "</div>"
      ],
      "text/plain": [
       "             date  time  temp            station  temp_ref\n",
       "0      2023-06-01     1  19.9  70:ee:50:01:60:78      17.6\n",
       "1      2023-06-01     2  19.5  70:ee:50:01:60:78      17.4\n",
       "2      2023-06-01     3  19.0  70:ee:50:01:60:78      16.9\n",
       "3      2023-06-01     4  19.1  70:ee:50:01:60:78      16.6\n",
       "4      2023-06-01     5  18.7  70:ee:50:01:60:78      16.2\n",
       "...           ...   ...   ...                ...       ...\n",
       "84213  2023-08-31    15  32.7  70:ee:50:a2:07:2e      30.1\n",
       "84214  2023-08-31    16  32.4  70:ee:50:a2:07:2e      29.6\n",
       "84215  2023-08-31    17  31.4  70:ee:50:a2:07:2e      29.1\n",
       "84216  2023-08-31    18  29.6  70:ee:50:a2:07:2e      27.2\n",
       "84217  2023-08-31    19  28.0  70:ee:50:a2:07:2e      24.7\n",
       "\n",
       "[84218 rows x 5 columns]"
      ]
     },
     "execution_count": 23,
     "metadata": {},
     "output_type": "execute_result"
    }
   ],
   "source": [
    "# Merge the dataframe with itself to compute the difference with the reference station\n",
    "df_ref = temperatures[temperatures['station'] == '70:ee:50:2b:58:c2'][['date', 'time', 'temp']].rename(columns={'temp': 'temp_ref'})\n",
    "df_merged = pd.merge(temperatures, df_ref, on=['date', 'time'])\n",
    "df_merged"
   ]
  },
  {
   "cell_type": "code",
   "execution_count": 24,
   "id": "135278b3-9e00-47d7-bcd6-fa6dec562b1c",
   "metadata": {},
   "outputs": [
    {
     "data": {
      "text/html": [
       "<div>\n",
       "<style scoped>\n",
       "    .dataframe tbody tr th:only-of-type {\n",
       "        vertical-align: middle;\n",
       "    }\n",
       "\n",
       "    .dataframe tbody tr th {\n",
       "        vertical-align: top;\n",
       "    }\n",
       "\n",
       "    .dataframe thead th {\n",
       "        text-align: right;\n",
       "    }\n",
       "</style>\n",
       "<table border=\"1\" class=\"dataframe\">\n",
       "  <thead>\n",
       "    <tr style=\"text-align: right;\">\n",
       "      <th></th>\n",
       "      <th>date</th>\n",
       "      <th>time</th>\n",
       "      <th>temp</th>\n",
       "      <th>station</th>\n",
       "      <th>temp_ref</th>\n",
       "      <th>temp_diff</th>\n",
       "    </tr>\n",
       "  </thead>\n",
       "  <tbody>\n",
       "    <tr>\n",
       "      <th>0</th>\n",
       "      <td>2023-06-01</td>\n",
       "      <td>1</td>\n",
       "      <td>19.9</td>\n",
       "      <td>70:ee:50:01:60:78</td>\n",
       "      <td>17.6</td>\n",
       "      <td>2.3</td>\n",
       "    </tr>\n",
       "    <tr>\n",
       "      <th>1</th>\n",
       "      <td>2023-06-01</td>\n",
       "      <td>2</td>\n",
       "      <td>19.5</td>\n",
       "      <td>70:ee:50:01:60:78</td>\n",
       "      <td>17.4</td>\n",
       "      <td>2.1</td>\n",
       "    </tr>\n",
       "    <tr>\n",
       "      <th>2</th>\n",
       "      <td>2023-06-01</td>\n",
       "      <td>3</td>\n",
       "      <td>19.0</td>\n",
       "      <td>70:ee:50:01:60:78</td>\n",
       "      <td>16.9</td>\n",
       "      <td>2.1</td>\n",
       "    </tr>\n",
       "    <tr>\n",
       "      <th>3</th>\n",
       "      <td>2023-06-01</td>\n",
       "      <td>4</td>\n",
       "      <td>19.1</td>\n",
       "      <td>70:ee:50:01:60:78</td>\n",
       "      <td>16.6</td>\n",
       "      <td>2.5</td>\n",
       "    </tr>\n",
       "    <tr>\n",
       "      <th>4</th>\n",
       "      <td>2023-06-01</td>\n",
       "      <td>5</td>\n",
       "      <td>18.7</td>\n",
       "      <td>70:ee:50:01:60:78</td>\n",
       "      <td>16.2</td>\n",
       "      <td>2.5</td>\n",
       "    </tr>\n",
       "    <tr>\n",
       "      <th>...</th>\n",
       "      <td>...</td>\n",
       "      <td>...</td>\n",
       "      <td>...</td>\n",
       "      <td>...</td>\n",
       "      <td>...</td>\n",
       "      <td>...</td>\n",
       "    </tr>\n",
       "    <tr>\n",
       "      <th>84213</th>\n",
       "      <td>2023-08-31</td>\n",
       "      <td>15</td>\n",
       "      <td>32.7</td>\n",
       "      <td>70:ee:50:a2:07:2e</td>\n",
       "      <td>30.1</td>\n",
       "      <td>2.6</td>\n",
       "    </tr>\n",
       "    <tr>\n",
       "      <th>84214</th>\n",
       "      <td>2023-08-31</td>\n",
       "      <td>16</td>\n",
       "      <td>32.4</td>\n",
       "      <td>70:ee:50:a2:07:2e</td>\n",
       "      <td>29.6</td>\n",
       "      <td>2.8</td>\n",
       "    </tr>\n",
       "    <tr>\n",
       "      <th>84215</th>\n",
       "      <td>2023-08-31</td>\n",
       "      <td>17</td>\n",
       "      <td>31.4</td>\n",
       "      <td>70:ee:50:a2:07:2e</td>\n",
       "      <td>29.1</td>\n",
       "      <td>2.3</td>\n",
       "    </tr>\n",
       "    <tr>\n",
       "      <th>84216</th>\n",
       "      <td>2023-08-31</td>\n",
       "      <td>18</td>\n",
       "      <td>29.6</td>\n",
       "      <td>70:ee:50:a2:07:2e</td>\n",
       "      <td>27.2</td>\n",
       "      <td>2.4</td>\n",
       "    </tr>\n",
       "    <tr>\n",
       "      <th>84217</th>\n",
       "      <td>2023-08-31</td>\n",
       "      <td>19</td>\n",
       "      <td>28.0</td>\n",
       "      <td>70:ee:50:a2:07:2e</td>\n",
       "      <td>24.7</td>\n",
       "      <td>3.3</td>\n",
       "    </tr>\n",
       "  </tbody>\n",
       "</table>\n",
       "<p>84218 rows × 6 columns</p>\n",
       "</div>"
      ],
      "text/plain": [
       "             date  time  temp            station  temp_ref  temp_diff\n",
       "0      2023-06-01     1  19.9  70:ee:50:01:60:78      17.6        2.3\n",
       "1      2023-06-01     2  19.5  70:ee:50:01:60:78      17.4        2.1\n",
       "2      2023-06-01     3  19.0  70:ee:50:01:60:78      16.9        2.1\n",
       "3      2023-06-01     4  19.1  70:ee:50:01:60:78      16.6        2.5\n",
       "4      2023-06-01     5  18.7  70:ee:50:01:60:78      16.2        2.5\n",
       "...           ...   ...   ...                ...       ...        ...\n",
       "84213  2023-08-31    15  32.7  70:ee:50:a2:07:2e      30.1        2.6\n",
       "84214  2023-08-31    16  32.4  70:ee:50:a2:07:2e      29.6        2.8\n",
       "84215  2023-08-31    17  31.4  70:ee:50:a2:07:2e      29.1        2.3\n",
       "84216  2023-08-31    18  29.6  70:ee:50:a2:07:2e      27.2        2.4\n",
       "84217  2023-08-31    19  28.0  70:ee:50:a2:07:2e      24.7        3.3\n",
       "\n",
       "[84218 rows x 6 columns]"
      ]
     },
     "execution_count": 24,
     "metadata": {},
     "output_type": "execute_result"
    }
   ],
   "source": [
    "# Compute the daily temperature difference from reference station for each station\n",
    "df_merged['temp_diff'] = df_merged['temp'] - df_merged['temp_ref']\n",
    "df_merged"
   ]
  },
  {
   "cell_type": "code",
   "execution_count": 25,
   "id": "1061776f-ed7d-4396-879d-a17571c3c85d",
   "metadata": {},
   "outputs": [],
   "source": [
    "#threshold = 5\n",
    "#df_filtered = df_merged[(df_merged['temp_diff'] >= -threshold) & (df_merged['temp_diff'] <= threshold)]\n",
    "df_filtered = df_merged"
   ]
  },
  {
   "cell_type": "code",
   "execution_count": 26,
   "id": "c3464619-6b3a-4e87-83bb-1394a043de70",
   "metadata": {},
   "outputs": [
    {
     "data": {
      "image/png": "[encoded data removed]",
      "text/plain": [
       "<Figure size 1000x600 with 1 Axes>"
      ]
     },
     "metadata": {},
     "output_type": "display_data"
    }
   ],
   "source": [
    "# Create a boxplot for each station showing the temperature differences\n",
    "plt.figure(figsize=(10, 6))\n",
    "sns.boxplot(x='station', y='temp_diff', data=df_filtered)\n",
    "\n",
    "plt.title('Boxplot of Temperature Differences with Respect to the Reference Station')\n",
    "plt.xlabel('Station')\n",
    "plt.ylabel('Temperature Difference')\n",
    "\n",
    "plt.show()"
   ]
  },
  {
   "cell_type": "code",
   "execution_count": 27,
   "id": "7f4e28fc-5778-4cfb-bc73-85c54bffba96",
   "metadata": {},
   "outputs": [
    {
     "data": {
      "text/plain": [
       "44.5"
      ]
     },
     "execution_count": 27,
     "metadata": {},
     "output_type": "execute_result"
    }
   ],
   "source": [
    "df_merged['temp'].max()"
   ]
  },
  {
   "cell_type": "code",
   "execution_count": 28,
   "id": "d47b4f9f-aab0-40fd-87ec-38e648f0bbf9",
   "metadata": {},
   "outputs": [
    {
     "data": {
      "text/html": [
       "<div>\n",
       "<style scoped>\n",
       "    .dataframe tbody tr th:only-of-type {\n",
       "        vertical-align: middle;\n",
       "    }\n",
       "\n",
       "    .dataframe tbody tr th {\n",
       "        vertical-align: top;\n",
       "    }\n",
       "\n",
       "    .dataframe thead th {\n",
       "        text-align: right;\n",
       "    }\n",
       "</style>\n",
       "<table border=\"1\" class=\"dataframe\">\n",
       "  <thead>\n",
       "    <tr style=\"text-align: right;\">\n",
       "      <th></th>\n",
       "      <th>station</th>\n",
       "      <th>temp_diff</th>\n",
       "    </tr>\n",
       "  </thead>\n",
       "  <tbody>\n",
       "    <tr>\n",
       "      <th>0</th>\n",
       "      <td>70:ee:50:01:60:78</td>\n",
       "      <td>0.584053</td>\n",
       "    </tr>\n",
       "    <tr>\n",
       "      <th>1</th>\n",
       "      <td>70:ee:50:01:cf:12</td>\n",
       "      <td>1.875630</td>\n",
       "    </tr>\n",
       "    <tr>\n",
       "      <th>2</th>\n",
       "      <td>70:ee:50:04:ac:ea</td>\n",
       "      <td>1.354878</td>\n",
       "    </tr>\n",
       "    <tr>\n",
       "      <th>3</th>\n",
       "      <td>70:ee:50:04:b4:36</td>\n",
       "      <td>0.745168</td>\n",
       "    </tr>\n",
       "    <tr>\n",
       "      <th>4</th>\n",
       "      <td>70:ee:50:04:d3:de</td>\n",
       "      <td>1.745861</td>\n",
       "    </tr>\n",
       "    <tr>\n",
       "      <th>5</th>\n",
       "      <td>70:ee:50:05:61:46</td>\n",
       "      <td>1.196799</td>\n",
       "    </tr>\n",
       "    <tr>\n",
       "      <th>6</th>\n",
       "      <td>70:ee:50:17:c7:ee</td>\n",
       "      <td>0.728216</td>\n",
       "    </tr>\n",
       "    <tr>\n",
       "      <th>7</th>\n",
       "      <td>70:ee:50:17:d3:1a</td>\n",
       "      <td>0.617372</td>\n",
       "    </tr>\n",
       "    <tr>\n",
       "      <th>8</th>\n",
       "      <td>70:ee:50:19:9f:dc</td>\n",
       "      <td>1.840146</td>\n",
       "    </tr>\n",
       "    <tr>\n",
       "      <th>9</th>\n",
       "      <td>70:ee:50:1c:43:78</td>\n",
       "      <td>0.763222</td>\n",
       "    </tr>\n",
       "    <tr>\n",
       "      <th>10</th>\n",
       "      <td>70:ee:50:20:d1:2c</td>\n",
       "      <td>0.557419</td>\n",
       "    </tr>\n",
       "    <tr>\n",
       "      <th>11</th>\n",
       "      <td>70:ee:50:28:9c:ec</td>\n",
       "      <td>-0.139268</td>\n",
       "    </tr>\n",
       "    <tr>\n",
       "      <th>12</th>\n",
       "      <td>70:ee:50:28:b2:92</td>\n",
       "      <td>0.158565</td>\n",
       "    </tr>\n",
       "    <tr>\n",
       "      <th>13</th>\n",
       "      <td>70:ee:50:28:e2:26</td>\n",
       "      <td>0.529529</td>\n",
       "    </tr>\n",
       "    <tr>\n",
       "      <th>14</th>\n",
       "      <td>70:ee:50:2b:4a:4a</td>\n",
       "      <td>0.587640</td>\n",
       "    </tr>\n",
       "    <tr>\n",
       "      <th>15</th>\n",
       "      <td>70:ee:50:2b:58:c2</td>\n",
       "      <td>0.000000</td>\n",
       "    </tr>\n",
       "    <tr>\n",
       "      <th>16</th>\n",
       "      <td>70:ee:50:2f:25:74</td>\n",
       "      <td>-0.077825</td>\n",
       "    </tr>\n",
       "    <tr>\n",
       "      <th>17</th>\n",
       "      <td>70:ee:50:33:41:34</td>\n",
       "      <td>0.955112</td>\n",
       "    </tr>\n",
       "    <tr>\n",
       "      <th>18</th>\n",
       "      <td>70:ee:50:33:41:7a</td>\n",
       "      <td>1.915706</td>\n",
       "    </tr>\n",
       "    <tr>\n",
       "      <th>19</th>\n",
       "      <td>70:ee:50:36:cf:1c</td>\n",
       "      <td>0.060951</td>\n",
       "    </tr>\n",
       "    <tr>\n",
       "      <th>20</th>\n",
       "      <td>70:ee:50:37:00:ca</td>\n",
       "      <td>0.756342</td>\n",
       "    </tr>\n",
       "    <tr>\n",
       "      <th>21</th>\n",
       "      <td>70:ee:50:37:11:4c</td>\n",
       "      <td>2.475188</td>\n",
       "    </tr>\n",
       "    <tr>\n",
       "      <th>22</th>\n",
       "      <td>70:ee:50:3b:e9:d4</td>\n",
       "      <td>0.630984</td>\n",
       "    </tr>\n",
       "    <tr>\n",
       "      <th>23</th>\n",
       "      <td>70:ee:50:3b:f5:64</td>\n",
       "      <td>1.647729</td>\n",
       "    </tr>\n",
       "    <tr>\n",
       "      <th>24</th>\n",
       "      <td>70:ee:50:3c:ee:4c</td>\n",
       "      <td>0.040321</td>\n",
       "    </tr>\n",
       "    <tr>\n",
       "      <th>25</th>\n",
       "      <td>70:ee:50:3d:23:92</td>\n",
       "      <td>0.342890</td>\n",
       "    </tr>\n",
       "    <tr>\n",
       "      <th>26</th>\n",
       "      <td>70:ee:50:3d:26:c8</td>\n",
       "      <td>1.478451</td>\n",
       "    </tr>\n",
       "    <tr>\n",
       "      <th>27</th>\n",
       "      <td>70:ee:50:3f:18:7e</td>\n",
       "      <td>1.082332</td>\n",
       "    </tr>\n",
       "    <tr>\n",
       "      <th>28</th>\n",
       "      <td>70:ee:50:3f:63:68</td>\n",
       "      <td>0.724721</td>\n",
       "    </tr>\n",
       "    <tr>\n",
       "      <th>29</th>\n",
       "      <td>70:ee:50:3f:68:bc</td>\n",
       "      <td>1.169932</td>\n",
       "    </tr>\n",
       "    <tr>\n",
       "      <th>30</th>\n",
       "      <td>70:ee:50:52:d9:cc</td>\n",
       "      <td>0.158173</td>\n",
       "    </tr>\n",
       "    <tr>\n",
       "      <th>31</th>\n",
       "      <td>70:ee:50:53:34:be</td>\n",
       "      <td>0.624472</td>\n",
       "    </tr>\n",
       "    <tr>\n",
       "      <th>32</th>\n",
       "      <td>70:ee:50:58:98:7c</td>\n",
       "      <td>1.157460</td>\n",
       "    </tr>\n",
       "    <tr>\n",
       "      <th>33</th>\n",
       "      <td>70:ee:50:5e:df:26</td>\n",
       "      <td>0.322229</td>\n",
       "    </tr>\n",
       "    <tr>\n",
       "      <th>34</th>\n",
       "      <td>70:ee:50:5f:09:04</td>\n",
       "      <td>0.978418</td>\n",
       "    </tr>\n",
       "    <tr>\n",
       "      <th>35</th>\n",
       "      <td>70:ee:50:5f:56:10</td>\n",
       "      <td>1.160091</td>\n",
       "    </tr>\n",
       "    <tr>\n",
       "      <th>36</th>\n",
       "      <td>70:ee:50:64:ff:ee</td>\n",
       "      <td>0.117798</td>\n",
       "    </tr>\n",
       "    <tr>\n",
       "      <th>37</th>\n",
       "      <td>70:ee:50:65:6b:86</td>\n",
       "      <td>-0.099881</td>\n",
       "    </tr>\n",
       "    <tr>\n",
       "      <th>38</th>\n",
       "      <td>70:ee:50:65:86:d2</td>\n",
       "      <td>1.330155</td>\n",
       "    </tr>\n",
       "    <tr>\n",
       "      <th>39</th>\n",
       "      <td>70:ee:50:65:89:f2</td>\n",
       "      <td>0.943726</td>\n",
       "    </tr>\n",
       "    <tr>\n",
       "      <th>40</th>\n",
       "      <td>70:ee:50:6b:2a:9a</td>\n",
       "      <td>0.375647</td>\n",
       "    </tr>\n",
       "    <tr>\n",
       "      <th>41</th>\n",
       "      <td>70:ee:50:71:15:80</td>\n",
       "      <td>0.817332</td>\n",
       "    </tr>\n",
       "    <tr>\n",
       "      <th>42</th>\n",
       "      <td>70:ee:50:71:22:16</td>\n",
       "      <td>-0.147269</td>\n",
       "    </tr>\n",
       "    <tr>\n",
       "      <th>43</th>\n",
       "      <td>70:ee:50:73:c5:a8</td>\n",
       "      <td>1.085260</td>\n",
       "    </tr>\n",
       "    <tr>\n",
       "      <th>44</th>\n",
       "      <td>70:ee:50:73:ce:d0</td>\n",
       "      <td>-0.392382</td>\n",
       "    </tr>\n",
       "    <tr>\n",
       "      <th>45</th>\n",
       "      <td>70:ee:50:74:0d:90</td>\n",
       "      <td>0.923923</td>\n",
       "    </tr>\n",
       "    <tr>\n",
       "      <th>46</th>\n",
       "      <td>70:ee:50:74:29:4c</td>\n",
       "      <td>0.801409</td>\n",
       "    </tr>\n",
       "    <tr>\n",
       "      <th>47</th>\n",
       "      <td>70:ee:50:74:50:56</td>\n",
       "      <td>1.871625</td>\n",
       "    </tr>\n",
       "    <tr>\n",
       "      <th>48</th>\n",
       "      <td>70:ee:50:7a:6f:c6</td>\n",
       "      <td>0.305079</td>\n",
       "    </tr>\n",
       "    <tr>\n",
       "      <th>49</th>\n",
       "      <td>70:ee:50:7a:74:da</td>\n",
       "      <td>0.754567</td>\n",
       "    </tr>\n",
       "    <tr>\n",
       "      <th>50</th>\n",
       "      <td>70:ee:50:7a:8d:66</td>\n",
       "      <td>1.083848</td>\n",
       "    </tr>\n",
       "    <tr>\n",
       "      <th>51</th>\n",
       "      <td>70:ee:50:7a:8f:60</td>\n",
       "      <td>1.489403</td>\n",
       "    </tr>\n",
       "    <tr>\n",
       "      <th>52</th>\n",
       "      <td>70:ee:50:7a:ae:b2</td>\n",
       "      <td>1.576976</td>\n",
       "    </tr>\n",
       "    <tr>\n",
       "      <th>53</th>\n",
       "      <td>70:ee:50:7a:d1:ce</td>\n",
       "      <td>0.399944</td>\n",
       "    </tr>\n",
       "    <tr>\n",
       "      <th>54</th>\n",
       "      <td>70:ee:50:90:e1:86</td>\n",
       "      <td>0.840084</td>\n",
       "    </tr>\n",
       "    <tr>\n",
       "      <th>55</th>\n",
       "      <td>70:ee:50:a2:07:2e</td>\n",
       "      <td>0.268537</td>\n",
       "    </tr>\n",
       "  </tbody>\n",
       "</table>\n",
       "</div>"
      ],
      "text/plain": [
       "              station  temp_diff\n",
       "0   70:ee:50:01:60:78   0.584053\n",
       "1   70:ee:50:01:cf:12   1.875630\n",
       "2   70:ee:50:04:ac:ea   1.354878\n",
       "3   70:ee:50:04:b4:36   0.745168\n",
       "4   70:ee:50:04:d3:de   1.745861\n",
       "5   70:ee:50:05:61:46   1.196799\n",
       "6   70:ee:50:17:c7:ee   0.728216\n",
       "7   70:ee:50:17:d3:1a   0.617372\n",
       "8   70:ee:50:19:9f:dc   1.840146\n",
       "9   70:ee:50:1c:43:78   0.763222\n",
       "10  70:ee:50:20:d1:2c   0.557419\n",
       "11  70:ee:50:28:9c:ec  -0.139268\n",
       "12  70:ee:50:28:b2:92   0.158565\n",
       "13  70:ee:50:28:e2:26   0.529529\n",
       "14  70:ee:50:2b:4a:4a   0.587640\n",
       "15  70:ee:50:2b:58:c2   0.000000\n",
       "16  70:ee:50:2f:25:74  -0.077825\n",
       "17  70:ee:50:33:41:34   0.955112\n",
       "18  70:ee:50:33:41:7a   1.915706\n",
       "19  70:ee:50:36:cf:1c   0.060951\n",
       "20  70:ee:50:37:00:ca   0.756342\n",
       "21  70:ee:50:37:11:4c   2.475188\n",
       "22  70:ee:50:3b:e9:d4   0.630984\n",
       "23  70:ee:50:3b:f5:64   1.647729\n",
       "24  70:ee:50:3c:ee:4c   0.040321\n",
       "25  70:ee:50:3d:23:92   0.342890\n",
       "26  70:ee:50:3d:26:c8   1.478451\n",
       "27  70:ee:50:3f:18:7e   1.082332\n",
       "28  70:ee:50:3f:63:68   0.724721\n",
       "29  70:ee:50:3f:68:bc   1.169932\n",
       "30  70:ee:50:52:d9:cc   0.158173\n",
       "31  70:ee:50:53:34:be   0.624472\n",
       "32  70:ee:50:58:98:7c   1.157460\n",
       "33  70:ee:50:5e:df:26   0.322229\n",
       "34  70:ee:50:5f:09:04   0.978418\n",
       "35  70:ee:50:5f:56:10   1.160091\n",
       "36  70:ee:50:64:ff:ee   0.117798\n",
       "37  70:ee:50:65:6b:86  -0.099881\n",
       "38  70:ee:50:65:86:d2   1.330155\n",
       "39  70:ee:50:65:89:f2   0.943726\n",
       "40  70:ee:50:6b:2a:9a   0.375647\n",
       "41  70:ee:50:71:15:80   0.817332\n",
       "42  70:ee:50:71:22:16  -0.147269\n",
       "43  70:ee:50:73:c5:a8   1.085260\n",
       "44  70:ee:50:73:ce:d0  -0.392382\n",
       "45  70:ee:50:74:0d:90   0.923923\n",
       "46  70:ee:50:74:29:4c   0.801409\n",
       "47  70:ee:50:74:50:56   1.871625\n",
       "48  70:ee:50:7a:6f:c6   0.305079\n",
       "49  70:ee:50:7a:74:da   0.754567\n",
       "50  70:ee:50:7a:8d:66   1.083848\n",
       "51  70:ee:50:7a:8f:60   1.489403\n",
       "52  70:ee:50:7a:ae:b2   1.576976\n",
       "53  70:ee:50:7a:d1:ce   0.399944\n",
       "54  70:ee:50:90:e1:86   0.840084\n",
       "55  70:ee:50:a2:07:2e   0.268537"
      ]
     },
     "execution_count": 28,
     "metadata": {},
     "output_type": "execute_result"
    }
   ],
   "source": [
    "# Compute mean\n",
    "df_filtered = df_filtered.groupby('station')['temp_diff'].mean().reset_index()\n",
    "df_filtered"
   ]
  },
  {
   "cell_type": "markdown",
   "id": "d838ed45-9b8d-4ffb-917d-1361f5c11f4e",
   "metadata": {},
   "source": [
    "## Add coordinates"
   ]
  },
  {
   "cell_type": "code",
   "execution_count": 29,
   "id": "76c645b2-1236-4349-9335-bc06a41ad1a6",
   "metadata": {},
   "outputs": [
    {
     "data": {
      "text/html": [
       "<div>\n",
       "<style scoped>\n",
       "    .dataframe tbody tr th:only-of-type {\n",
       "        vertical-align: middle;\n",
       "    }\n",
       "\n",
       "    .dataframe tbody tr th {\n",
       "        vertical-align: top;\n",
       "    }\n",
       "\n",
       "    .dataframe thead th {\n",
       "        text-align: right;\n",
       "    }\n",
       "</style>\n",
       "<table border=\"1\" class=\"dataframe\">\n",
       "  <thead>\n",
       "    <tr style=\"text-align: right;\">\n",
       "      <th></th>\n",
       "      <th>device_id</th>\n",
       "      <th>module_id</th>\n",
       "      <th>lon</th>\n",
       "      <th>lat</th>\n",
       "    </tr>\n",
       "  </thead>\n",
       "  <tbody>\n",
       "    <tr>\n",
       "      <th>0</th>\n",
       "      <td>70:ee:50:7a:8d:66</td>\n",
       "      <td>02:00:00:7a:82:20</td>\n",
       "      <td>-0.748171</td>\n",
       "      <td>41.636124</td>\n",
       "    </tr>\n",
       "    <tr>\n",
       "      <th>1</th>\n",
       "      <td>70:ee:50:3f:63:68</td>\n",
       "      <td>02:00:00:3e:e0:04</td>\n",
       "      <td>-0.833446</td>\n",
       "      <td>41.671643</td>\n",
       "    </tr>\n",
       "    <tr>\n",
       "      <th>2</th>\n",
       "      <td>70:ee:50:3f:18:7e</td>\n",
       "      <td>02:00:00:3c:ec:c0</td>\n",
       "      <td>-0.774684</td>\n",
       "      <td>41.685630</td>\n",
       "    </tr>\n",
       "    <tr>\n",
       "      <th>3</th>\n",
       "      <td>70:ee:50:2b:58:c2</td>\n",
       "      <td>02:00:00:2a:db:82</td>\n",
       "      <td>-0.803851</td>\n",
       "      <td>41.712556</td>\n",
       "    </tr>\n",
       "    <tr>\n",
       "      <th>4</th>\n",
       "      <td>70:ee:50:36:cf:1c</td>\n",
       "      <td>02:00:00:37:03:a4</td>\n",
       "      <td>-0.797466</td>\n",
       "      <td>41.743163</td>\n",
       "    </tr>\n",
       "    <tr>\n",
       "      <th>...</th>\n",
       "      <td>...</td>\n",
       "      <td>...</td>\n",
       "      <td>...</td>\n",
       "      <td>...</td>\n",
       "    </tr>\n",
       "    <tr>\n",
       "      <th>65</th>\n",
       "      <td>70:ee:50:28:e1:6e</td>\n",
       "      <td>02:00:00:2b:27:92</td>\n",
       "      <td>-0.953483</td>\n",
       "      <td>41.580804</td>\n",
       "    </tr>\n",
       "    <tr>\n",
       "      <th>66</th>\n",
       "      <td>70:ee:50:5e:da:62</td>\n",
       "      <td>02:00:00:b2:bf:da</td>\n",
       "      <td>-0.952520</td>\n",
       "      <td>41.582089</td>\n",
       "    </tr>\n",
       "    <tr>\n",
       "      <th>67</th>\n",
       "      <td>70:ee:50:84:81:46</td>\n",
       "      <td>02:00:00:84:65:ca</td>\n",
       "      <td>-0.952520</td>\n",
       "      <td>41.582089</td>\n",
       "    </tr>\n",
       "    <tr>\n",
       "      <th>68</th>\n",
       "      <td>70:ee:50:7a:d1:ce</td>\n",
       "      <td>02:00:00:7a:fc:6e</td>\n",
       "      <td>-0.931340</td>\n",
       "      <td>41.589924</td>\n",
       "    </tr>\n",
       "    <tr>\n",
       "      <th>69</th>\n",
       "      <td>70:ee:50:74:29:4c</td>\n",
       "      <td>02:00:00:74:0e:e0</td>\n",
       "      <td>-0.927522</td>\n",
       "      <td>41.590576</td>\n",
       "    </tr>\n",
       "  </tbody>\n",
       "</table>\n",
       "<p>70 rows × 4 columns</p>\n",
       "</div>"
      ],
      "text/plain": [
       "            device_id          module_id       lon        lat\n",
       "0   70:ee:50:7a:8d:66  02:00:00:7a:82:20 -0.748171  41.636124\n",
       "1   70:ee:50:3f:63:68  02:00:00:3e:e0:04 -0.833446  41.671643\n",
       "2   70:ee:50:3f:18:7e  02:00:00:3c:ec:c0 -0.774684  41.685630\n",
       "3   70:ee:50:2b:58:c2  02:00:00:2a:db:82 -0.803851  41.712556\n",
       "4   70:ee:50:36:cf:1c  02:00:00:37:03:a4 -0.797466  41.743163\n",
       "..                ...                ...       ...        ...\n",
       "65  70:ee:50:28:e1:6e  02:00:00:2b:27:92 -0.953483  41.580804\n",
       "66  70:ee:50:5e:da:62  02:00:00:b2:bf:da -0.952520  41.582089\n",
       "67  70:ee:50:84:81:46  02:00:00:84:65:ca -0.952520  41.582089\n",
       "68  70:ee:50:7a:d1:ce  02:00:00:7a:fc:6e -0.931340  41.589924\n",
       "69  70:ee:50:74:29:4c  02:00:00:74:0e:e0 -0.927522  41.590576\n",
       "\n",
       "[70 rows x 4 columns]"
      ]
     },
     "execution_count": 29,
     "metadata": {},
     "output_type": "execute_result"
    }
   ],
   "source": [
    "stations = pd.read_csv('netatmo_stations.csv')\n",
    "stations"
   ]
  },
  {
   "cell_type": "code",
   "execution_count": 30,
   "id": "76f34cb7-2be1-42f6-952b-74d33468d753",
   "metadata": {},
   "outputs": [
    {
     "data": {
      "text/html": [
       "<div>\n",
       "<style scoped>\n",
       "    .dataframe tbody tr th:only-of-type {\n",
       "        vertical-align: middle;\n",
       "    }\n",
       "\n",
       "    .dataframe tbody tr th {\n",
       "        vertical-align: top;\n",
       "    }\n",
       "\n",
       "    .dataframe thead th {\n",
       "        text-align: right;\n",
       "    }\n",
       "</style>\n",
       "<table border=\"1\" class=\"dataframe\">\n",
       "  <thead>\n",
       "    <tr style=\"text-align: right;\">\n",
       "      <th></th>\n",
       "      <th>device_id</th>\n",
       "      <th>lon</th>\n",
       "      <th>lat</th>\n",
       "    </tr>\n",
       "  </thead>\n",
       "  <tbody>\n",
       "    <tr>\n",
       "      <th>0</th>\n",
       "      <td>70:ee:50:7a:8d:66</td>\n",
       "      <td>-0.748171</td>\n",
       "      <td>41.636124</td>\n",
       "    </tr>\n",
       "    <tr>\n",
       "      <th>1</th>\n",
       "      <td>70:ee:50:3f:63:68</td>\n",
       "      <td>-0.833446</td>\n",
       "      <td>41.671643</td>\n",
       "    </tr>\n",
       "    <tr>\n",
       "      <th>2</th>\n",
       "      <td>70:ee:50:3f:18:7e</td>\n",
       "      <td>-0.774684</td>\n",
       "      <td>41.685630</td>\n",
       "    </tr>\n",
       "    <tr>\n",
       "      <th>3</th>\n",
       "      <td>70:ee:50:2b:58:c2</td>\n",
       "      <td>-0.803851</td>\n",
       "      <td>41.712556</td>\n",
       "    </tr>\n",
       "    <tr>\n",
       "      <th>4</th>\n",
       "      <td>70:ee:50:36:cf:1c</td>\n",
       "      <td>-0.797466</td>\n",
       "      <td>41.743163</td>\n",
       "    </tr>\n",
       "    <tr>\n",
       "      <th>...</th>\n",
       "      <td>...</td>\n",
       "      <td>...</td>\n",
       "      <td>...</td>\n",
       "    </tr>\n",
       "    <tr>\n",
       "      <th>65</th>\n",
       "      <td>70:ee:50:28:e1:6e</td>\n",
       "      <td>-0.953483</td>\n",
       "      <td>41.580804</td>\n",
       "    </tr>\n",
       "    <tr>\n",
       "      <th>66</th>\n",
       "      <td>70:ee:50:5e:da:62</td>\n",
       "      <td>-0.952520</td>\n",
       "      <td>41.582089</td>\n",
       "    </tr>\n",
       "    <tr>\n",
       "      <th>67</th>\n",
       "      <td>70:ee:50:84:81:46</td>\n",
       "      <td>-0.952520</td>\n",
       "      <td>41.582089</td>\n",
       "    </tr>\n",
       "    <tr>\n",
       "      <th>68</th>\n",
       "      <td>70:ee:50:7a:d1:ce</td>\n",
       "      <td>-0.931340</td>\n",
       "      <td>41.589924</td>\n",
       "    </tr>\n",
       "    <tr>\n",
       "      <th>69</th>\n",
       "      <td>70:ee:50:74:29:4c</td>\n",
       "      <td>-0.927522</td>\n",
       "      <td>41.590576</td>\n",
       "    </tr>\n",
       "  </tbody>\n",
       "</table>\n",
       "<p>70 rows × 3 columns</p>\n",
       "</div>"
      ],
      "text/plain": [
       "            device_id       lon        lat\n",
       "0   70:ee:50:7a:8d:66 -0.748171  41.636124\n",
       "1   70:ee:50:3f:63:68 -0.833446  41.671643\n",
       "2   70:ee:50:3f:18:7e -0.774684  41.685630\n",
       "3   70:ee:50:2b:58:c2 -0.803851  41.712556\n",
       "4   70:ee:50:36:cf:1c -0.797466  41.743163\n",
       "..                ...       ...        ...\n",
       "65  70:ee:50:28:e1:6e -0.953483  41.580804\n",
       "66  70:ee:50:5e:da:62 -0.952520  41.582089\n",
       "67  70:ee:50:84:81:46 -0.952520  41.582089\n",
       "68  70:ee:50:7a:d1:ce -0.931340  41.589924\n",
       "69  70:ee:50:74:29:4c -0.927522  41.590576\n",
       "\n",
       "[70 rows x 3 columns]"
      ]
     },
     "execution_count": 30,
     "metadata": {},
     "output_type": "execute_result"
    }
   ],
   "source": [
    "stations = stations.drop(columns=['module_id'])\n",
    "stations"
   ]
  },
  {
   "cell_type": "code",
   "execution_count": 31,
   "id": "c6618411-1eeb-4b09-9f39-58a27da4e1b9",
   "metadata": {},
   "outputs": [
    {
     "data": {
      "text/html": [
       "<div>\n",
       "<style scoped>\n",
       "    .dataframe tbody tr th:only-of-type {\n",
       "        vertical-align: middle;\n",
       "    }\n",
       "\n",
       "    .dataframe tbody tr th {\n",
       "        vertical-align: top;\n",
       "    }\n",
       "\n",
       "    .dataframe thead th {\n",
       "        text-align: right;\n",
       "    }\n",
       "</style>\n",
       "<table border=\"1\" class=\"dataframe\">\n",
       "  <thead>\n",
       "    <tr style=\"text-align: right;\">\n",
       "      <th></th>\n",
       "      <th>station</th>\n",
       "      <th>temp_diff</th>\n",
       "      <th>device_id</th>\n",
       "      <th>lon</th>\n",
       "      <th>lat</th>\n",
       "    </tr>\n",
       "  </thead>\n",
       "  <tbody>\n",
       "    <tr>\n",
       "      <th>0</th>\n",
       "      <td>70:ee:50:01:60:78</td>\n",
       "      <td>0.584053</td>\n",
       "      <td>70:ee:50:01:60:78</td>\n",
       "      <td>-0.888513</td>\n",
       "      <td>41.676094</td>\n",
       "    </tr>\n",
       "    <tr>\n",
       "      <th>1</th>\n",
       "      <td>70:ee:50:01:cf:12</td>\n",
       "      <td>1.875630</td>\n",
       "      <td>70:ee:50:01:cf:12</td>\n",
       "      <td>-0.938232</td>\n",
       "      <td>41.625653</td>\n",
       "    </tr>\n",
       "    <tr>\n",
       "      <th>2</th>\n",
       "      <td>70:ee:50:04:ac:ea</td>\n",
       "      <td>1.354878</td>\n",
       "      <td>70:ee:50:04:ac:ea</td>\n",
       "      <td>-1.031000</td>\n",
       "      <td>41.725300</td>\n",
       "    </tr>\n",
       "    <tr>\n",
       "      <th>3</th>\n",
       "      <td>70:ee:50:04:b4:36</td>\n",
       "      <td>0.745168</td>\n",
       "      <td>70:ee:50:04:b4:36</td>\n",
       "      <td>-0.892489</td>\n",
       "      <td>41.677088</td>\n",
       "    </tr>\n",
       "    <tr>\n",
       "      <th>4</th>\n",
       "      <td>70:ee:50:04:d3:de</td>\n",
       "      <td>1.745861</td>\n",
       "      <td>70:ee:50:04:d3:de</td>\n",
       "      <td>-0.864463</td>\n",
       "      <td>41.663082</td>\n",
       "    </tr>\n",
       "  </tbody>\n",
       "</table>\n",
       "</div>"
      ],
      "text/plain": [
       "             station  temp_diff          device_id       lon        lat\n",
       "0  70:ee:50:01:60:78   0.584053  70:ee:50:01:60:78 -0.888513  41.676094\n",
       "1  70:ee:50:01:cf:12   1.875630  70:ee:50:01:cf:12 -0.938232  41.625653\n",
       "2  70:ee:50:04:ac:ea   1.354878  70:ee:50:04:ac:ea -1.031000  41.725300\n",
       "3  70:ee:50:04:b4:36   0.745168  70:ee:50:04:b4:36 -0.892489  41.677088\n",
       "4  70:ee:50:04:d3:de   1.745861  70:ee:50:04:d3:de -0.864463  41.663082"
      ]
     },
     "execution_count": 31,
     "metadata": {},
     "output_type": "execute_result"
    }
   ],
   "source": [
    "data = pd.merge(df_filtered, stations, left_on='station', right_on='device_id')\n",
    "data.head()"
   ]
  },
  {
   "cell_type": "code",
   "execution_count": 32,
   "id": "b9c5d4a4-2083-4e30-9700-ff95000fedbc",
   "metadata": {},
   "outputs": [
    {
     "data": {
      "text/html": [
       "<div>\n",
       "<style scoped>\n",
       "    .dataframe tbody tr th:only-of-type {\n",
       "        vertical-align: middle;\n",
       "    }\n",
       "\n",
       "    .dataframe tbody tr th {\n",
       "        vertical-align: top;\n",
       "    }\n",
       "\n",
       "    .dataframe thead th {\n",
       "        text-align: right;\n",
       "    }\n",
       "</style>\n",
       "<table border=\"1\" class=\"dataframe\">\n",
       "  <thead>\n",
       "    <tr style=\"text-align: right;\">\n",
       "      <th></th>\n",
       "      <th>station</th>\n",
       "      <th>temp_diff</th>\n",
       "      <th>lon</th>\n",
       "      <th>lat</th>\n",
       "    </tr>\n",
       "  </thead>\n",
       "  <tbody>\n",
       "    <tr>\n",
       "      <th>0</th>\n",
       "      <td>70:ee:50:01:60:78</td>\n",
       "      <td>0.584053</td>\n",
       "      <td>-0.888513</td>\n",
       "      <td>41.676094</td>\n",
       "    </tr>\n",
       "    <tr>\n",
       "      <th>1</th>\n",
       "      <td>70:ee:50:01:cf:12</td>\n",
       "      <td>1.875630</td>\n",
       "      <td>-0.938232</td>\n",
       "      <td>41.625653</td>\n",
       "    </tr>\n",
       "    <tr>\n",
       "      <th>2</th>\n",
       "      <td>70:ee:50:04:ac:ea</td>\n",
       "      <td>1.354878</td>\n",
       "      <td>-1.031000</td>\n",
       "      <td>41.725300</td>\n",
       "    </tr>\n",
       "    <tr>\n",
       "      <th>3</th>\n",
       "      <td>70:ee:50:04:b4:36</td>\n",
       "      <td>0.745168</td>\n",
       "      <td>-0.892489</td>\n",
       "      <td>41.677088</td>\n",
       "    </tr>\n",
       "    <tr>\n",
       "      <th>4</th>\n",
       "      <td>70:ee:50:04:d3:de</td>\n",
       "      <td>1.745861</td>\n",
       "      <td>-0.864463</td>\n",
       "      <td>41.663082</td>\n",
       "    </tr>\n",
       "  </tbody>\n",
       "</table>\n",
       "</div>"
      ],
      "text/plain": [
       "             station  temp_diff       lon        lat\n",
       "0  70:ee:50:01:60:78   0.584053 -0.888513  41.676094\n",
       "1  70:ee:50:01:cf:12   1.875630 -0.938232  41.625653\n",
       "2  70:ee:50:04:ac:ea   1.354878 -1.031000  41.725300\n",
       "3  70:ee:50:04:b4:36   0.745168 -0.892489  41.677088\n",
       "4  70:ee:50:04:d3:de   1.745861 -0.864463  41.663082"
      ]
     },
     "execution_count": 32,
     "metadata": {},
     "output_type": "execute_result"
    }
   ],
   "source": [
    "data = data.drop(columns=['device_id'])\n",
    "data.head()"
   ]
  },
  {
   "cell_type": "code",
   "execution_count": 33,
   "id": "ed53943f-0635-4557-b515-1129ba1346d1",
   "metadata": {},
   "outputs": [],
   "source": [
    "data.to_csv('diff.csv', index=False)"
   ]
  },
  {
   "cell_type": "code",
   "execution_count": null,
   "id": "f174e161-7cd9-478f-83cf-6dcfb9f216a9",
   "metadata": {},
   "outputs": [],
   "source": []
  }
 ],
 "metadata": {
  "kernelspec": {
   "display_name": "Python 3 (ipykernel)",
   "language": "python",
   "name": "python3"
  },
  "language_info": {
   "codemirror_mode": {
    "name": "ipython",
    "version": 3
   },
   "file_extension": ".py",
   "mimetype": "text/x-python",
   "name": "python",
   "nbconvert_exporter": "python",
   "pygments_lexer": "ipython3",
   "version": "3.10.12"
  }
 },
 "nbformat": 4,
 "nbformat_minor": 5
}
