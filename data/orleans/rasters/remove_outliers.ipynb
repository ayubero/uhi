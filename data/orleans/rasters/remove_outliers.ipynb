{
 "cells": [
  {
   "cell_type": "code",
   "execution_count": 1,
   "id": "ceb26d79-194e-4246-990d-1a84f260298f",
   "metadata": {},
   "outputs": [
    {
     "data": {
      "text/plain": [
       "\"import rasterio\\nimport numpy as np\\nfrom rasterio import Affine\\nfrom rasterio.enums import Resampling\\n\\n# Input and output file paths\\ninput_path = 'kriging_result_raw_(with_outliers).tif'\\noutput_path = 'kriging_result.tif'\\n\\n# Open the input GeoTIFF\\nwith rasterio.open(input_path) as src:\\n    profile = src.profile\\n    data = src.read(1)  # Read the first band\\n\\n# Remove outliers: set values < -3 or > 3 to NaN (or nodata)\\ncleaned_data = data.astype('float32')  # Ensure we can store NaNs\\ncleaned_data[(cleaned_data < -3) | (cleaned_data > 3)] = np.nan\\n\\n# Optionally update nodata value in metadata\\nprofile.update(dtype='float32', nodata=np.nan)\\n\\n# Save cleaned data to new GeoTIFF\\nwith rasterio.open(output_path, 'w', **profile) as dst:\\n    dst.write(cleaned_data, 1)\""
      ]
     },
     "execution_count": 1,
     "metadata": {},
     "output_type": "execute_result"
    }
   ],
   "source": [
    "'''import rasterio\n",
    "import numpy as np\n",
    "from rasterio import Affine\n",
    "from rasterio.enums import Resampling\n",
    "\n",
    "# Input and output file paths\n",
    "input_path = 'kriging_result_raw_(with_outliers).tif'\n",
    "output_path = 'kriging_result.tif'\n",
    "\n",
    "# Open the input GeoTIFF\n",
    "with rasterio.open(input_path) as src:\n",
    "    profile = src.profile\n",
    "    data = src.read(1)  # Read the first band\n",
    "\n",
    "# Remove outliers: set values < -3 or > 3 to NaN (or nodata)\n",
    "cleaned_data = data.astype('float32')  # Ensure we can store NaNs\n",
    "cleaned_data[(cleaned_data < -3) | (cleaned_data > 3)] = np.nan\n",
    "\n",
    "# Optionally update nodata value in metadata\n",
    "profile.update(dtype='float32', nodata=np.nan)\n",
    "\n",
    "# Save cleaned data to new GeoTIFF\n",
    "with rasterio.open(output_path, 'w', **profile) as dst:\n",
    "    dst.write(cleaned_data, 1)'''"
   ]
  },
  {
   "cell_type": "code",
   "execution_count": 3,
   "id": "51fe6b4a-fb11-4f2a-b4c8-9d92bc133611",
   "metadata": {},
   "outputs": [],
   "source": [
    "import rasterio\n",
    "import numpy as np\n",
    "\n",
    "# Input and output file paths\n",
    "#input_path = 'kriging_result_raw_(with_outliers).tif'\n",
    "#output_path = 'kriging_result.tif'\n",
    "input_path = 'cnn_result_raw_(with_outliers).tif'\n",
    "output_path = 'cnn_result.tif'\n",
    "\n",
    "# Open the input GeoTIFF\n",
    "with rasterio.open(input_path) as src:\n",
    "    profile = src.profile\n",
    "    data = src.read(1)  # Read the first band\n",
    "\n",
    "# Make a copy as float32 to avoid type overflow\n",
    "cleaned_data = data.astype('float32')\n",
    "\n",
    "# Get mask of inlier values\n",
    "inliers = (cleaned_data >= -3) & (cleaned_data <= 3)\n",
    "\n",
    "# Compute min and max of inlier values\n",
    "inlier_min = cleaned_data[inliers].min()\n",
    "inlier_max = cleaned_data[inliers].max()\n",
    "\n",
    "# Clip outliers\n",
    "cleaned_data[cleaned_data < -3] = inlier_min\n",
    "cleaned_data[cleaned_data > 3] = inlier_max\n",
    "\n",
    "# Save the cleaned data\n",
    "profile.update(dtype='float32')  # Ensure correct data type\n",
    "\n",
    "with rasterio.open(output_path, 'w', **profile) as dst:\n",
    "    dst.write(cleaned_data, 1)\n"
   ]
  },
  {
   "cell_type": "code",
   "execution_count": null,
   "id": "8a35803d-6497-48f7-b401-9d57d7b2f8b2",
   "metadata": {},
   "outputs": [],
   "source": []
  }
 ],
 "metadata": {
  "kernelspec": {
   "display_name": "Python (myenv)",
   "language": "python",
   "name": "myenv"
  },
  "language_info": {
   "codemirror_mode": {
    "name": "ipython",
    "version": 3
   },
   "file_extension": ".py",
   "mimetype": "text/x-python",
   "name": "python",
   "nbconvert_exporter": "python",
   "pygments_lexer": "ipython3",
   "version": "3.10.12"
  }
 },
 "nbformat": 4,
 "nbformat_minor": 5
}
