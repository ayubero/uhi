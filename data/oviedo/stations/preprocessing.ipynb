{
 "cells": [
  {
   "cell_type": "code",
   "execution_count": 1,
   "id": "1f49e332-3dde-4051-9caf-66586bd40d3f",
   "metadata": {},
   "outputs": [
    {
     "name": "stderr",
     "output_type": "stream",
     "text": [
      "/home/andres/.local/lib/python3.10/site-packages/matplotlib/projections/__init__.py:63: UserWarning: Unable to import Axes3D. This may be due to multiple versions of Matplotlib being installed (e.g. as a system package and as a pip package). As a result, the 3D projection is not available.\n",
      "  warnings.warn(\"Unable to import Axes3D. This may be due to multiple versions of \"\n"
     ]
    }
   ],
   "source": [
    "import pandas as pd\n",
    "import glob\n",
    "import os\n",
    "import seaborn as sns\n",
    "import matplotlib.pyplot as plt\n",
    "import re"
   ]
  },
  {
   "cell_type": "code",
   "execution_count": 2,
   "id": "566cfc26-6303-437c-8717-61b7037f9ba6",
   "metadata": {},
   "outputs": [],
   "source": [
    "# Remove all empty files\n",
    "folder_path = '.'\n",
    "for file_name in os.listdir(folder_path):\n",
    "    file_path = os.path.join(folder_path, file_name)\n",
    "    if os.path.isfile(file_path) and os.path.getsize(file_path) < 5: # Less than 5 bytes\n",
    "        os.remove(file_path)\n",
    "        print(f'Deleted: {file_path}')"
   ]
  },
  {
   "cell_type": "code",
   "execution_count": 4,
   "id": "5b65fd7c-592b-4d51-ab73-e3a67bc4ed5e",
   "metadata": {},
   "outputs": [
    {
     "data": {
      "text/plain": [
       "['70:ee:50:00:c9:6e.csv',\n",
       " '70:ee:50:00:ea:00.csv',\n",
       " '70:ee:50:01:33:6a.csv',\n",
       " '70:ee:50:02:e6:38.csv',\n",
       " '70:ee:50:03:d3:d8.csv',\n",
       " '70:ee:50:04:d9:6a.csv',\n",
       " '70:ee:50:04:f0:c2.csv',\n",
       " '70:ee:50:05:53:70.csv',\n",
       " '70:ee:50:12:69:86.csv',\n",
       " '70:ee:50:12:7e:fc.csv',\n",
       " '70:ee:50:12:ce:a6.csv',\n",
       " '70:ee:50:13:68:8e.csv',\n",
       " '70:ee:50:17:64:42.csv',\n",
       " '70:ee:50:1b:0f:34.csv',\n",
       " '70:ee:50:1e:05:66.csv',\n",
       " '70:ee:50:22:b4:1c.csv',\n",
       " '70:ee:50:28:8e:30.csv',\n",
       " '70:ee:50:28:ed:dc.csv',\n",
       " '70:ee:50:2b:15:26.csv',\n",
       " '70:ee:50:2b:5b:da.csv',\n",
       " '70:ee:50:2c:73:12.csv',\n",
       " '70:ee:50:2c:fe:4c.csv',\n",
       " '70:ee:50:2e:d0:4c.csv',\n",
       " '70:ee:50:2e:ec:20.csv',\n",
       " '70:ee:50:2f:28:5e.csv',\n",
       " '70:ee:50:37:22:1c.csv',\n",
       " '70:ee:50:3a:22:2c.csv',\n",
       " '70:ee:50:3f:22:b0.csv',\n",
       " '70:ee:50:58:ac:20.csv',\n",
       " '70:ee:50:5e:f5:44.csv',\n",
       " '70:ee:50:5e:fd:d8.csv',\n",
       " '70:ee:50:5f:29:bc.csv',\n",
       " '70:ee:50:65:19:62.csv',\n",
       " '70:ee:50:65:24:78.csv',\n",
       " '70:ee:50:71:22:fe.csv',\n",
       " '70:ee:50:71:2b:48.csv',\n",
       " '70:ee:50:71:49:30.csv',\n",
       " '70:ee:50:71:4d:2a.csv',\n",
       " '70:ee:50:7a:93:7c.csv',\n",
       " '70:ee:50:7a:e8:5c.csv',\n",
       " '70:ee:50:7f:a7:00.csv',\n",
       " '70:ee:50:7f:b5:f2.csv',\n",
       " '70:ee:50:7f:ba:40.csv',\n",
       " '70:ee:50:83:8c:58.csv',\n",
       " '70:ee:50:96:a9:8a.csv',\n",
       " '70:ee:50:96:b2:22.csv',\n",
       " '70:ee:50:a2:16:44.csv',\n",
       " '70:ee:50:a2:20:c2.csv']"
      ]
     },
     "execution_count": 4,
     "metadata": {},
     "output_type": "execute_result"
    }
   ],
   "source": [
    "station_files = sorted(glob.glob('*.csv'))\n",
    "station_files.remove('netatmo_stations.csv')\n",
    "try:\n",
    "    station_files.remove('temperatures.csv')\n",
    "except:\n",
    "    pass\n",
    "try:\n",
    "    station_files.remove('diff.csv')\n",
    "except:\n",
    "    pass\n",
    "station_files"
   ]
  },
  {
   "cell_type": "code",
   "execution_count": 5,
   "id": "98e8178a-dc37-46d4-979d-cd42a7a7d4e0",
   "metadata": {},
   "outputs": [
    {
     "data": {
      "text/html": [
       "<div>\n",
       "<style scoped>\n",
       "    .dataframe tbody tr th:only-of-type {\n",
       "        vertical-align: middle;\n",
       "    }\n",
       "\n",
       "    .dataframe tbody tr th {\n",
       "        vertical-align: top;\n",
       "    }\n",
       "\n",
       "    .dataframe thead th {\n",
       "        text-align: right;\n",
       "    }\n",
       "</style>\n",
       "<table border=\"1\" class=\"dataframe\">\n",
       "  <thead>\n",
       "    <tr style=\"text-align: right;\">\n",
       "      <th></th>\n",
       "      <th>date</th>\n",
       "      <th>time</th>\n",
       "      <th>temp</th>\n",
       "    </tr>\n",
       "  </thead>\n",
       "  <tbody>\n",
       "    <tr>\n",
       "      <th>0</th>\n",
       "      <td>2023-05-31</td>\n",
       "      <td>21:00:37</td>\n",
       "      <td>19.6</td>\n",
       "    </tr>\n",
       "    <tr>\n",
       "      <th>1</th>\n",
       "      <td>2023-05-31</td>\n",
       "      <td>21:25:24</td>\n",
       "      <td>19.6</td>\n",
       "    </tr>\n",
       "    <tr>\n",
       "      <th>2</th>\n",
       "      <td>2023-05-31</td>\n",
       "      <td>21:40:47</td>\n",
       "      <td>19.6</td>\n",
       "    </tr>\n",
       "    <tr>\n",
       "      <th>3</th>\n",
       "      <td>2023-05-31</td>\n",
       "      <td>21:51:02</td>\n",
       "      <td>19.4</td>\n",
       "    </tr>\n",
       "    <tr>\n",
       "      <th>4</th>\n",
       "      <td>2023-05-31</td>\n",
       "      <td>22:06:25</td>\n",
       "      <td>19.2</td>\n",
       "    </tr>\n",
       "  </tbody>\n",
       "</table>\n",
       "</div>"
      ],
      "text/plain": [
       "         date      time  temp\n",
       "0  2023-05-31  21:00:37  19.6\n",
       "1  2023-05-31  21:25:24  19.6\n",
       "2  2023-05-31  21:40:47  19.6\n",
       "3  2023-05-31  21:51:02  19.4\n",
       "4  2023-05-31  22:06:25  19.2"
      ]
     },
     "execution_count": 5,
     "metadata": {},
     "output_type": "execute_result"
    }
   ],
   "source": [
    "#for csv_file in station_files:\n",
    "df = pd.read_csv(station_files[0], delimiter=',')\n",
    "df.head()"
   ]
  },
  {
   "cell_type": "code",
   "execution_count": 6,
   "id": "d3e7069b-83ff-4978-ba15-d1f0d24e068f",
   "metadata": {},
   "outputs": [
    {
     "data": {
      "text/html": [
       "<div>\n",
       "<style scoped>\n",
       "    .dataframe tbody tr th:only-of-type {\n",
       "        vertical-align: middle;\n",
       "    }\n",
       "\n",
       "    .dataframe tbody tr th {\n",
       "        vertical-align: top;\n",
       "    }\n",
       "\n",
       "    .dataframe thead th {\n",
       "        text-align: right;\n",
       "    }\n",
       "</style>\n",
       "<table border=\"1\" class=\"dataframe\">\n",
       "  <thead>\n",
       "    <tr style=\"text-align: right;\">\n",
       "      <th></th>\n",
       "      <th>date</th>\n",
       "      <th>time</th>\n",
       "      <th>temp</th>\n",
       "    </tr>\n",
       "  </thead>\n",
       "  <tbody>\n",
       "    <tr>\n",
       "      <th>0</th>\n",
       "      <td>2023-05-31</td>\n",
       "      <td>2023-05-31 21:00:37</td>\n",
       "      <td>19.6</td>\n",
       "    </tr>\n",
       "    <tr>\n",
       "      <th>1</th>\n",
       "      <td>2023-05-31</td>\n",
       "      <td>2023-05-31 21:25:24</td>\n",
       "      <td>19.6</td>\n",
       "    </tr>\n",
       "    <tr>\n",
       "      <th>2</th>\n",
       "      <td>2023-05-31</td>\n",
       "      <td>2023-05-31 21:40:47</td>\n",
       "      <td>19.6</td>\n",
       "    </tr>\n",
       "    <tr>\n",
       "      <th>3</th>\n",
       "      <td>2023-05-31</td>\n",
       "      <td>2023-05-31 21:51:02</td>\n",
       "      <td>19.4</td>\n",
       "    </tr>\n",
       "    <tr>\n",
       "      <th>4</th>\n",
       "      <td>2023-05-31</td>\n",
       "      <td>2023-05-31 22:06:25</td>\n",
       "      <td>19.2</td>\n",
       "    </tr>\n",
       "    <tr>\n",
       "      <th>5</th>\n",
       "      <td>2023-05-31</td>\n",
       "      <td>2023-05-31 22:16:39</td>\n",
       "      <td>19.1</td>\n",
       "    </tr>\n",
       "    <tr>\n",
       "      <th>6</th>\n",
       "      <td>2023-05-31</td>\n",
       "      <td>2023-05-31 22:26:03</td>\n",
       "      <td>19.0</td>\n",
       "    </tr>\n",
       "    <tr>\n",
       "      <th>7</th>\n",
       "      <td>2023-05-31</td>\n",
       "      <td>2023-05-31 22:41:26</td>\n",
       "      <td>18.9</td>\n",
       "    </tr>\n",
       "    <tr>\n",
       "      <th>8</th>\n",
       "      <td>2023-05-31</td>\n",
       "      <td>2023-05-31 22:51:42</td>\n",
       "      <td>18.7</td>\n",
       "    </tr>\n",
       "    <tr>\n",
       "      <th>9</th>\n",
       "      <td>2023-05-31</td>\n",
       "      <td>2023-05-31 23:01:57</td>\n",
       "      <td>18.5</td>\n",
       "    </tr>\n",
       "  </tbody>\n",
       "</table>\n",
       "</div>"
      ],
      "text/plain": [
       "         date                time  temp\n",
       "0  2023-05-31 2023-05-31 21:00:37  19.6\n",
       "1  2023-05-31 2023-05-31 21:25:24  19.6\n",
       "2  2023-05-31 2023-05-31 21:40:47  19.6\n",
       "3  2023-05-31 2023-05-31 21:51:02  19.4\n",
       "4  2023-05-31 2023-05-31 22:06:25  19.2\n",
       "5  2023-05-31 2023-05-31 22:16:39  19.1\n",
       "6  2023-05-31 2023-05-31 22:26:03  19.0\n",
       "7  2023-05-31 2023-05-31 22:41:26  18.9\n",
       "8  2023-05-31 2023-05-31 22:51:42  18.7\n",
       "9  2023-05-31 2023-05-31 23:01:57  18.5"
      ]
     },
     "execution_count": 6,
     "metadata": {},
     "output_type": "execute_result"
    }
   ],
   "source": [
    "df['time'] = pd.to_datetime(df['date'] + ' ' + df['time'], format='%Y-%m-%d %H:%M:%S')\n",
    "df.head(10)"
   ]
  },
  {
   "cell_type": "code",
   "execution_count": 7,
   "id": "17b3dcb7-9d05-4352-9790-90de442ec962",
   "metadata": {},
   "outputs": [
    {
     "data": {
      "text/html": [
       "<div>\n",
       "<style scoped>\n",
       "    .dataframe tbody tr th:only-of-type {\n",
       "        vertical-align: middle;\n",
       "    }\n",
       "\n",
       "    .dataframe tbody tr th {\n",
       "        vertical-align: top;\n",
       "    }\n",
       "\n",
       "    .dataframe thead th {\n",
       "        text-align: right;\n",
       "    }\n",
       "</style>\n",
       "<table border=\"1\" class=\"dataframe\">\n",
       "  <thead>\n",
       "    <tr style=\"text-align: right;\">\n",
       "      <th></th>\n",
       "      <th>date</th>\n",
       "      <th>time</th>\n",
       "      <th>temp</th>\n",
       "      <th>hour</th>\n",
       "    </tr>\n",
       "  </thead>\n",
       "  <tbody>\n",
       "    <tr>\n",
       "      <th>0</th>\n",
       "      <td>2023-05-31</td>\n",
       "      <td>2023-05-31 21:00:37</td>\n",
       "      <td>19.6</td>\n",
       "      <td>21</td>\n",
       "    </tr>\n",
       "    <tr>\n",
       "      <th>1</th>\n",
       "      <td>2023-05-31</td>\n",
       "      <td>2023-05-31 21:25:24</td>\n",
       "      <td>19.6</td>\n",
       "      <td>21</td>\n",
       "    </tr>\n",
       "    <tr>\n",
       "      <th>2</th>\n",
       "      <td>2023-05-31</td>\n",
       "      <td>2023-05-31 21:40:47</td>\n",
       "      <td>19.6</td>\n",
       "      <td>21</td>\n",
       "    </tr>\n",
       "    <tr>\n",
       "      <th>3</th>\n",
       "      <td>2023-05-31</td>\n",
       "      <td>2023-05-31 21:51:02</td>\n",
       "      <td>19.4</td>\n",
       "      <td>21</td>\n",
       "    </tr>\n",
       "    <tr>\n",
       "      <th>4</th>\n",
       "      <td>2023-05-31</td>\n",
       "      <td>2023-05-31 22:06:25</td>\n",
       "      <td>19.2</td>\n",
       "      <td>22</td>\n",
       "    </tr>\n",
       "    <tr>\n",
       "      <th>5</th>\n",
       "      <td>2023-05-31</td>\n",
       "      <td>2023-05-31 22:16:39</td>\n",
       "      <td>19.1</td>\n",
       "      <td>22</td>\n",
       "    </tr>\n",
       "    <tr>\n",
       "      <th>6</th>\n",
       "      <td>2023-05-31</td>\n",
       "      <td>2023-05-31 22:26:03</td>\n",
       "      <td>19.0</td>\n",
       "      <td>22</td>\n",
       "    </tr>\n",
       "    <tr>\n",
       "      <th>7</th>\n",
       "      <td>2023-05-31</td>\n",
       "      <td>2023-05-31 22:41:26</td>\n",
       "      <td>18.9</td>\n",
       "      <td>22</td>\n",
       "    </tr>\n",
       "    <tr>\n",
       "      <th>8</th>\n",
       "      <td>2023-05-31</td>\n",
       "      <td>2023-05-31 22:51:42</td>\n",
       "      <td>18.7</td>\n",
       "      <td>22</td>\n",
       "    </tr>\n",
       "    <tr>\n",
       "      <th>9</th>\n",
       "      <td>2023-05-31</td>\n",
       "      <td>2023-05-31 23:01:57</td>\n",
       "      <td>18.5</td>\n",
       "      <td>23</td>\n",
       "    </tr>\n",
       "  </tbody>\n",
       "</table>\n",
       "</div>"
      ],
      "text/plain": [
       "         date                time  temp  hour\n",
       "0  2023-05-31 2023-05-31 21:00:37  19.6    21\n",
       "1  2023-05-31 2023-05-31 21:25:24  19.6    21\n",
       "2  2023-05-31 2023-05-31 21:40:47  19.6    21\n",
       "3  2023-05-31 2023-05-31 21:51:02  19.4    21\n",
       "4  2023-05-31 2023-05-31 22:06:25  19.2    22\n",
       "5  2023-05-31 2023-05-31 22:16:39  19.1    22\n",
       "6  2023-05-31 2023-05-31 22:26:03  19.0    22\n",
       "7  2023-05-31 2023-05-31 22:41:26  18.9    22\n",
       "8  2023-05-31 2023-05-31 22:51:42  18.7    22\n",
       "9  2023-05-31 2023-05-31 23:01:57  18.5    23"
      ]
     },
     "execution_count": 7,
     "metadata": {},
     "output_type": "execute_result"
    }
   ],
   "source": [
    "df['hour'] = df['time'].dt.hour\n",
    "df.head(10)"
   ]
  },
  {
   "cell_type": "code",
   "execution_count": 8,
   "id": "5f09fb92-64d6-49b2-8d00-d21c0c55ec69",
   "metadata": {},
   "outputs": [
    {
     "name": "stderr",
     "output_type": "stream",
     "text": [
      "/tmp/ipykernel_9662/710818299.py:9: DeprecationWarning: DataFrameGroupBy.apply operated on the grouping columns. This behavior is deprecated, and in a future version of pandas the grouping columns will be excluded from the operation. Either pass `include_groups=False` to exclude the groupings or explicitly select the grouping columns after groupby to silence this warning.\n",
      "  closest_temps = df.groupby(['date', 'hour'], group_keys=False).apply(lambda group: get_closest_hour(group.iloc[0], group))\n"
     ]
    },
    {
     "data": {
      "text/html": [
       "<div>\n",
       "<style scoped>\n",
       "    .dataframe tbody tr th:only-of-type {\n",
       "        vertical-align: middle;\n",
       "    }\n",
       "\n",
       "    .dataframe tbody tr th {\n",
       "        vertical-align: top;\n",
       "    }\n",
       "\n",
       "    .dataframe thead th {\n",
       "        text-align: right;\n",
       "    }\n",
       "</style>\n",
       "<table border=\"1\" class=\"dataframe\">\n",
       "  <thead>\n",
       "    <tr style=\"text-align: right;\">\n",
       "      <th></th>\n",
       "      <th>date</th>\n",
       "      <th>time</th>\n",
       "      <th>temp</th>\n",
       "    </tr>\n",
       "  </thead>\n",
       "  <tbody>\n",
       "    <tr>\n",
       "      <th>0</th>\n",
       "      <td>2023-05-31</td>\n",
       "      <td>2023-05-31 21:00:37</td>\n",
       "      <td>19.6</td>\n",
       "    </tr>\n",
       "    <tr>\n",
       "      <th>1</th>\n",
       "      <td>2023-05-31</td>\n",
       "      <td>2023-05-31 22:06:25</td>\n",
       "      <td>19.2</td>\n",
       "    </tr>\n",
       "    <tr>\n",
       "      <th>2</th>\n",
       "      <td>2023-05-31</td>\n",
       "      <td>2023-05-31 23:01:57</td>\n",
       "      <td>18.5</td>\n",
       "    </tr>\n",
       "    <tr>\n",
       "      <th>3</th>\n",
       "      <td>2023-06-01</td>\n",
       "      <td>2023-06-01 00:06:53</td>\n",
       "      <td>18.0</td>\n",
       "    </tr>\n",
       "    <tr>\n",
       "      <th>4</th>\n",
       "      <td>2023-06-01</td>\n",
       "      <td>2023-06-01 01:17:48</td>\n",
       "      <td>17.3</td>\n",
       "    </tr>\n",
       "    <tr>\n",
       "      <th>5</th>\n",
       "      <td>2023-06-01</td>\n",
       "      <td>2023-06-01 02:08:12</td>\n",
       "      <td>17.1</td>\n",
       "    </tr>\n",
       "    <tr>\n",
       "      <th>6</th>\n",
       "      <td>2023-06-01</td>\n",
       "      <td>2023-06-01 03:08:53</td>\n",
       "      <td>16.9</td>\n",
       "    </tr>\n",
       "    <tr>\n",
       "      <th>7</th>\n",
       "      <td>2023-06-01</td>\n",
       "      <td>2023-06-01 04:09:32</td>\n",
       "      <td>16.6</td>\n",
       "    </tr>\n",
       "    <tr>\n",
       "      <th>8</th>\n",
       "      <td>2023-06-01</td>\n",
       "      <td>2023-06-01 05:05:04</td>\n",
       "      <td>16.4</td>\n",
       "    </tr>\n",
       "    <tr>\n",
       "      <th>9</th>\n",
       "      <td>2023-06-01</td>\n",
       "      <td>2023-06-01 06:00:36</td>\n",
       "      <td>16.4</td>\n",
       "    </tr>\n",
       "  </tbody>\n",
       "</table>\n",
       "</div>"
      ],
      "text/plain": [
       "         date                time  temp\n",
       "0  2023-05-31 2023-05-31 21:00:37  19.6\n",
       "1  2023-05-31 2023-05-31 22:06:25  19.2\n",
       "2  2023-05-31 2023-05-31 23:01:57  18.5\n",
       "3  2023-06-01 2023-06-01 00:06:53  18.0\n",
       "4  2023-06-01 2023-06-01 01:17:48  17.3\n",
       "5  2023-06-01 2023-06-01 02:08:12  17.1\n",
       "6  2023-06-01 2023-06-01 03:08:53  16.9\n",
       "7  2023-06-01 2023-06-01 04:09:32  16.6\n",
       "8  2023-06-01 2023-06-01 05:05:04  16.4\n",
       "9  2023-06-01 2023-06-01 06:00:36  16.4"
      ]
     },
     "execution_count": 8,
     "metadata": {},
     "output_type": "execute_result"
    }
   ],
   "source": [
    "# For each hour, find the closest timestamp (either before or after)\n",
    "def get_closest_hour(row, df):\n",
    "    # Find all rows for the target hour and the next hour (or previous if needed)\n",
    "    target_hour = row['hour']\n",
    "    closest_row = df.iloc[(df['time'] - row['time']).abs().argmin()]\n",
    "    return closest_row\n",
    "\n",
    "# Apply the function to each row in the dataframe\n",
    "closest_temps = df.groupby(['date', 'hour'], group_keys=False).apply(lambda group: get_closest_hour(group.iloc[0], group))\n",
    "\n",
    "# Convert the result back into a dataframe\n",
    "result = closest_temps.reset_index(drop=True)[['date', 'time', 'temp']]\n",
    "result.head(10)"
   ]
  },
  {
   "cell_type": "code",
   "execution_count": 9,
   "id": "10e7b079-e1e0-4a1b-acf8-bceb4850916b",
   "metadata": {},
   "outputs": [
    {
     "data": {
      "text/html": [
       "<div>\n",
       "<style scoped>\n",
       "    .dataframe tbody tr th:only-of-type {\n",
       "        vertical-align: middle;\n",
       "    }\n",
       "\n",
       "    .dataframe tbody tr th {\n",
       "        vertical-align: top;\n",
       "    }\n",
       "\n",
       "    .dataframe thead th {\n",
       "        text-align: right;\n",
       "    }\n",
       "</style>\n",
       "<table border=\"1\" class=\"dataframe\">\n",
       "  <thead>\n",
       "    <tr style=\"text-align: right;\">\n",
       "      <th></th>\n",
       "      <th>date</th>\n",
       "      <th>time</th>\n",
       "      <th>temp</th>\n",
       "    </tr>\n",
       "  </thead>\n",
       "  <tbody>\n",
       "    <tr>\n",
       "      <th>0</th>\n",
       "      <td>2023-05-31</td>\n",
       "      <td>21</td>\n",
       "      <td>19.6</td>\n",
       "    </tr>\n",
       "    <tr>\n",
       "      <th>1</th>\n",
       "      <td>2023-05-31</td>\n",
       "      <td>22</td>\n",
       "      <td>19.2</td>\n",
       "    </tr>\n",
       "    <tr>\n",
       "      <th>2</th>\n",
       "      <td>2023-05-31</td>\n",
       "      <td>23</td>\n",
       "      <td>18.5</td>\n",
       "    </tr>\n",
       "    <tr>\n",
       "      <th>3</th>\n",
       "      <td>2023-06-01</td>\n",
       "      <td>0</td>\n",
       "      <td>18.0</td>\n",
       "    </tr>\n",
       "    <tr>\n",
       "      <th>4</th>\n",
       "      <td>2023-06-01</td>\n",
       "      <td>1</td>\n",
       "      <td>17.3</td>\n",
       "    </tr>\n",
       "  </tbody>\n",
       "</table>\n",
       "</div>"
      ],
      "text/plain": [
       "         date  time  temp\n",
       "0  2023-05-31    21  19.6\n",
       "1  2023-05-31    22  19.2\n",
       "2  2023-05-31    23  18.5\n",
       "3  2023-06-01     0  18.0\n",
       "4  2023-06-01     1  17.3"
      ]
     },
     "execution_count": 9,
     "metadata": {},
     "output_type": "execute_result"
    }
   ],
   "source": [
    "result['time'] = result['time'].dt.hour\n",
    "result.head()"
   ]
  },
  {
   "cell_type": "code",
   "execution_count": 10,
   "id": "f0efbab0-0ae9-4c6a-8d1e-f94498d38dc1",
   "metadata": {},
   "outputs": [
    {
     "data": {
      "text/html": [
       "<div>\n",
       "<style scoped>\n",
       "    .dataframe tbody tr th:only-of-type {\n",
       "        vertical-align: middle;\n",
       "    }\n",
       "\n",
       "    .dataframe tbody tr th {\n",
       "        vertical-align: top;\n",
       "    }\n",
       "\n",
       "    .dataframe thead th {\n",
       "        text-align: right;\n",
       "    }\n",
       "</style>\n",
       "<table border=\"1\" class=\"dataframe\">\n",
       "  <thead>\n",
       "    <tr style=\"text-align: right;\">\n",
       "      <th></th>\n",
       "      <th>date</th>\n",
       "      <th>time</th>\n",
       "      <th>temp</th>\n",
       "    </tr>\n",
       "  </thead>\n",
       "  <tbody>\n",
       "    <tr>\n",
       "      <th>3</th>\n",
       "      <td>2023-06-01</td>\n",
       "      <td>0</td>\n",
       "      <td>18.0</td>\n",
       "    </tr>\n",
       "    <tr>\n",
       "      <th>4</th>\n",
       "      <td>2023-06-01</td>\n",
       "      <td>1</td>\n",
       "      <td>17.3</td>\n",
       "    </tr>\n",
       "    <tr>\n",
       "      <th>5</th>\n",
       "      <td>2023-06-01</td>\n",
       "      <td>2</td>\n",
       "      <td>17.1</td>\n",
       "    </tr>\n",
       "    <tr>\n",
       "      <th>6</th>\n",
       "      <td>2023-06-01</td>\n",
       "      <td>3</td>\n",
       "      <td>16.9</td>\n",
       "    </tr>\n",
       "    <tr>\n",
       "      <th>7</th>\n",
       "      <td>2023-06-01</td>\n",
       "      <td>4</td>\n",
       "      <td>16.6</td>\n",
       "    </tr>\n",
       "  </tbody>\n",
       "</table>\n",
       "</div>"
      ],
      "text/plain": [
       "         date  time  temp\n",
       "3  2023-06-01     0  18.0\n",
       "4  2023-06-01     1  17.3\n",
       "5  2023-06-01     2  17.1\n",
       "6  2023-06-01     3  16.9\n",
       "7  2023-06-01     4  16.6"
      ]
     },
     "execution_count": 10,
     "metadata": {},
     "output_type": "execute_result"
    }
   ],
   "source": [
    "# Filter by date interval\n",
    "start_date = '2023-06-01'\n",
    "end_date = '2023-08-31'\n",
    "\n",
    "result = result[(result['date'] >= start_date) & (result['date'] <= end_date)]\n",
    "result.head()"
   ]
  },
  {
   "cell_type": "code",
   "execution_count": 11,
   "id": "9bcf7df2-58e4-4739-9e5b-a00f9b12b49c",
   "metadata": {},
   "outputs": [
    {
     "data": {
      "text/html": [
       "<div>\n",
       "<style scoped>\n",
       "    .dataframe tbody tr th:only-of-type {\n",
       "        vertical-align: middle;\n",
       "    }\n",
       "\n",
       "    .dataframe tbody tr th {\n",
       "        vertical-align: top;\n",
       "    }\n",
       "\n",
       "    .dataframe thead th {\n",
       "        text-align: right;\n",
       "    }\n",
       "</style>\n",
       "<table border=\"1\" class=\"dataframe\">\n",
       "  <thead>\n",
       "    <tr style=\"text-align: right;\">\n",
       "      <th></th>\n",
       "      <th>date</th>\n",
       "      <th>time</th>\n",
       "      <th>temp</th>\n",
       "    </tr>\n",
       "  </thead>\n",
       "  <tbody>\n",
       "    <tr>\n",
       "      <th>2128</th>\n",
       "      <td>2023-08-31</td>\n",
       "      <td>19</td>\n",
       "      <td>26.4</td>\n",
       "    </tr>\n",
       "    <tr>\n",
       "      <th>2129</th>\n",
       "      <td>2023-08-31</td>\n",
       "      <td>20</td>\n",
       "      <td>24.7</td>\n",
       "    </tr>\n",
       "    <tr>\n",
       "      <th>2130</th>\n",
       "      <td>2023-08-31</td>\n",
       "      <td>21</td>\n",
       "      <td>23.7</td>\n",
       "    </tr>\n",
       "    <tr>\n",
       "      <th>2131</th>\n",
       "      <td>2023-08-31</td>\n",
       "      <td>22</td>\n",
       "      <td>23.0</td>\n",
       "    </tr>\n",
       "    <tr>\n",
       "      <th>2132</th>\n",
       "      <td>2023-08-31</td>\n",
       "      <td>23</td>\n",
       "      <td>22.5</td>\n",
       "    </tr>\n",
       "  </tbody>\n",
       "</table>\n",
       "</div>"
      ],
      "text/plain": [
       "            date  time  temp\n",
       "2128  2023-08-31    19  26.4\n",
       "2129  2023-08-31    20  24.7\n",
       "2130  2023-08-31    21  23.7\n",
       "2131  2023-08-31    22  23.0\n",
       "2132  2023-08-31    23  22.5"
      ]
     },
     "execution_count": 11,
     "metadata": {},
     "output_type": "execute_result"
    }
   ],
   "source": [
    "result.tail()"
   ]
  },
  {
   "cell_type": "markdown",
   "id": "3ce24148-0c8e-4409-9941-80e0bb5e26ca",
   "metadata": {},
   "source": [
    "## Preprocess all stations"
   ]
  },
  {
   "cell_type": "code",
   "execution_count": 12,
   "id": "ab15f351-ffb0-400c-80f6-5c950f4737da",
   "metadata": {},
   "outputs": [],
   "source": [
    "all_dataframes = []"
   ]
  },
  {
   "cell_type": "code",
   "execution_count": 13,
   "id": "bac9189e-c44c-461c-96f2-495b1d3d5c3f",
   "metadata": {},
   "outputs": [
    {
     "name": "stdout",
     "output_type": "stream",
     "text": [
      "Processing 70:ee:50:00:c9:6e.csv\n"
     ]
    },
    {
     "name": "stderr",
     "output_type": "stream",
     "text": [
      "/tmp/ipykernel_9662/2686556054.py:15: DeprecationWarning: DataFrameGroupBy.apply operated on the grouping columns. This behavior is deprecated, and in a future version of pandas the grouping columns will be excluded from the operation. Either pass `include_groups=False` to exclude the groupings or explicitly select the grouping columns after groupby to silence this warning.\n",
      "  closest_temps = df.groupby(['date', 'hour'], group_keys=False).apply(lambda group: get_closest_hour(group.iloc[0], group))\n"
     ]
    },
    {
     "name": "stdout",
     "output_type": "stream",
     "text": [
      "Processing 70:ee:50:00:ea:00.csv\n"
     ]
    },
    {
     "name": "stderr",
     "output_type": "stream",
     "text": [
      "/tmp/ipykernel_9662/2686556054.py:15: DeprecationWarning: DataFrameGroupBy.apply operated on the grouping columns. This behavior is deprecated, and in a future version of pandas the grouping columns will be excluded from the operation. Either pass `include_groups=False` to exclude the groupings or explicitly select the grouping columns after groupby to silence this warning.\n",
      "  closest_temps = df.groupby(['date', 'hour'], group_keys=False).apply(lambda group: get_closest_hour(group.iloc[0], group))\n"
     ]
    },
    {
     "name": "stdout",
     "output_type": "stream",
     "text": [
      "Processing 70:ee:50:01:33:6a.csv\n"
     ]
    },
    {
     "name": "stderr",
     "output_type": "stream",
     "text": [
      "/tmp/ipykernel_9662/2686556054.py:15: DeprecationWarning: DataFrameGroupBy.apply operated on the grouping columns. This behavior is deprecated, and in a future version of pandas the grouping columns will be excluded from the operation. Either pass `include_groups=False` to exclude the groupings or explicitly select the grouping columns after groupby to silence this warning.\n",
      "  closest_temps = df.groupby(['date', 'hour'], group_keys=False).apply(lambda group: get_closest_hour(group.iloc[0], group))\n"
     ]
    },
    {
     "name": "stdout",
     "output_type": "stream",
     "text": [
      "Processing 70:ee:50:02:e6:38.csv\n"
     ]
    },
    {
     "name": "stderr",
     "output_type": "stream",
     "text": [
      "/tmp/ipykernel_9662/2686556054.py:15: DeprecationWarning: DataFrameGroupBy.apply operated on the grouping columns. This behavior is deprecated, and in a future version of pandas the grouping columns will be excluded from the operation. Either pass `include_groups=False` to exclude the groupings or explicitly select the grouping columns after groupby to silence this warning.\n",
      "  closest_temps = df.groupby(['date', 'hour'], group_keys=False).apply(lambda group: get_closest_hour(group.iloc[0], group))\n"
     ]
    },
    {
     "name": "stdout",
     "output_type": "stream",
     "text": [
      "Processing 70:ee:50:03:d3:d8.csv\n"
     ]
    },
    {
     "name": "stderr",
     "output_type": "stream",
     "text": [
      "/tmp/ipykernel_9662/2686556054.py:15: DeprecationWarning: DataFrameGroupBy.apply operated on the grouping columns. This behavior is deprecated, and in a future version of pandas the grouping columns will be excluded from the operation. Either pass `include_groups=False` to exclude the groupings or explicitly select the grouping columns after groupby to silence this warning.\n",
      "  closest_temps = df.groupby(['date', 'hour'], group_keys=False).apply(lambda group: get_closest_hour(group.iloc[0], group))\n"
     ]
    },
    {
     "name": "stdout",
     "output_type": "stream",
     "text": [
      "Processing 70:ee:50:04:d9:6a.csv\n"
     ]
    },
    {
     "name": "stderr",
     "output_type": "stream",
     "text": [
      "/tmp/ipykernel_9662/2686556054.py:15: DeprecationWarning: DataFrameGroupBy.apply operated on the grouping columns. This behavior is deprecated, and in a future version of pandas the grouping columns will be excluded from the operation. Either pass `include_groups=False` to exclude the groupings or explicitly select the grouping columns after groupby to silence this warning.\n",
      "  closest_temps = df.groupby(['date', 'hour'], group_keys=False).apply(lambda group: get_closest_hour(group.iloc[0], group))\n"
     ]
    },
    {
     "name": "stdout",
     "output_type": "stream",
     "text": [
      "Processing 70:ee:50:04:f0:c2.csv\n"
     ]
    },
    {
     "name": "stderr",
     "output_type": "stream",
     "text": [
      "/tmp/ipykernel_9662/2686556054.py:15: DeprecationWarning: DataFrameGroupBy.apply operated on the grouping columns. This behavior is deprecated, and in a future version of pandas the grouping columns will be excluded from the operation. Either pass `include_groups=False` to exclude the groupings or explicitly select the grouping columns after groupby to silence this warning.\n",
      "  closest_temps = df.groupby(['date', 'hour'], group_keys=False).apply(lambda group: get_closest_hour(group.iloc[0], group))\n"
     ]
    },
    {
     "name": "stdout",
     "output_type": "stream",
     "text": [
      "Processing 70:ee:50:05:53:70.csv\n"
     ]
    },
    {
     "name": "stderr",
     "output_type": "stream",
     "text": [
      "/tmp/ipykernel_9662/2686556054.py:15: DeprecationWarning: DataFrameGroupBy.apply operated on the grouping columns. This behavior is deprecated, and in a future version of pandas the grouping columns will be excluded from the operation. Either pass `include_groups=False` to exclude the groupings or explicitly select the grouping columns after groupby to silence this warning.\n",
      "  closest_temps = df.groupby(['date', 'hour'], group_keys=False).apply(lambda group: get_closest_hour(group.iloc[0], group))\n"
     ]
    },
    {
     "name": "stdout",
     "output_type": "stream",
     "text": [
      "Processing 70:ee:50:12:69:86.csv\n"
     ]
    },
    {
     "name": "stderr",
     "output_type": "stream",
     "text": [
      "/tmp/ipykernel_9662/2686556054.py:15: DeprecationWarning: DataFrameGroupBy.apply operated on the grouping columns. This behavior is deprecated, and in a future version of pandas the grouping columns will be excluded from the operation. Either pass `include_groups=False` to exclude the groupings or explicitly select the grouping columns after groupby to silence this warning.\n",
      "  closest_temps = df.groupby(['date', 'hour'], group_keys=False).apply(lambda group: get_closest_hour(group.iloc[0], group))\n"
     ]
    },
    {
     "name": "stdout",
     "output_type": "stream",
     "text": [
      "Processing 70:ee:50:12:7e:fc.csv\n"
     ]
    },
    {
     "name": "stderr",
     "output_type": "stream",
     "text": [
      "/tmp/ipykernel_9662/2686556054.py:15: DeprecationWarning: DataFrameGroupBy.apply operated on the grouping columns. This behavior is deprecated, and in a future version of pandas the grouping columns will be excluded from the operation. Either pass `include_groups=False` to exclude the groupings or explicitly select the grouping columns after groupby to silence this warning.\n",
      "  closest_temps = df.groupby(['date', 'hour'], group_keys=False).apply(lambda group: get_closest_hour(group.iloc[0], group))\n"
     ]
    },
    {
     "name": "stdout",
     "output_type": "stream",
     "text": [
      "Processing 70:ee:50:12:ce:a6.csv\n"
     ]
    },
    {
     "name": "stderr",
     "output_type": "stream",
     "text": [
      "/tmp/ipykernel_9662/2686556054.py:15: DeprecationWarning: DataFrameGroupBy.apply operated on the grouping columns. This behavior is deprecated, and in a future version of pandas the grouping columns will be excluded from the operation. Either pass `include_groups=False` to exclude the groupings or explicitly select the grouping columns after groupby to silence this warning.\n",
      "  closest_temps = df.groupby(['date', 'hour'], group_keys=False).apply(lambda group: get_closest_hour(group.iloc[0], group))\n"
     ]
    },
    {
     "name": "stdout",
     "output_type": "stream",
     "text": [
      "Processing 70:ee:50:13:68:8e.csv\n"
     ]
    },
    {
     "name": "stderr",
     "output_type": "stream",
     "text": [
      "/tmp/ipykernel_9662/2686556054.py:15: DeprecationWarning: DataFrameGroupBy.apply operated on the grouping columns. This behavior is deprecated, and in a future version of pandas the grouping columns will be excluded from the operation. Either pass `include_groups=False` to exclude the groupings or explicitly select the grouping columns after groupby to silence this warning.\n",
      "  closest_temps = df.groupby(['date', 'hour'], group_keys=False).apply(lambda group: get_closest_hour(group.iloc[0], group))\n"
     ]
    },
    {
     "name": "stdout",
     "output_type": "stream",
     "text": [
      "Processing 70:ee:50:17:64:42.csv\n"
     ]
    },
    {
     "name": "stderr",
     "output_type": "stream",
     "text": [
      "/tmp/ipykernel_9662/2686556054.py:15: DeprecationWarning: DataFrameGroupBy.apply operated on the grouping columns. This behavior is deprecated, and in a future version of pandas the grouping columns will be excluded from the operation. Either pass `include_groups=False` to exclude the groupings or explicitly select the grouping columns after groupby to silence this warning.\n",
      "  closest_temps = df.groupby(['date', 'hour'], group_keys=False).apply(lambda group: get_closest_hour(group.iloc[0], group))\n"
     ]
    },
    {
     "name": "stdout",
     "output_type": "stream",
     "text": [
      "Processing 70:ee:50:1b:0f:34.csv\n"
     ]
    },
    {
     "name": "stderr",
     "output_type": "stream",
     "text": [
      "/tmp/ipykernel_9662/2686556054.py:15: DeprecationWarning: DataFrameGroupBy.apply operated on the grouping columns. This behavior is deprecated, and in a future version of pandas the grouping columns will be excluded from the operation. Either pass `include_groups=False` to exclude the groupings or explicitly select the grouping columns after groupby to silence this warning.\n",
      "  closest_temps = df.groupby(['date', 'hour'], group_keys=False).apply(lambda group: get_closest_hour(group.iloc[0], group))\n"
     ]
    },
    {
     "name": "stdout",
     "output_type": "stream",
     "text": [
      "Processing 70:ee:50:1e:05:66.csv\n"
     ]
    },
    {
     "name": "stderr",
     "output_type": "stream",
     "text": [
      "/tmp/ipykernel_9662/2686556054.py:15: DeprecationWarning: DataFrameGroupBy.apply operated on the grouping columns. This behavior is deprecated, and in a future version of pandas the grouping columns will be excluded from the operation. Either pass `include_groups=False` to exclude the groupings or explicitly select the grouping columns after groupby to silence this warning.\n",
      "  closest_temps = df.groupby(['date', 'hour'], group_keys=False).apply(lambda group: get_closest_hour(group.iloc[0], group))\n"
     ]
    },
    {
     "name": "stdout",
     "output_type": "stream",
     "text": [
      "Processing 70:ee:50:22:b4:1c.csv\n"
     ]
    },
    {
     "name": "stderr",
     "output_type": "stream",
     "text": [
      "/tmp/ipykernel_9662/2686556054.py:15: DeprecationWarning: DataFrameGroupBy.apply operated on the grouping columns. This behavior is deprecated, and in a future version of pandas the grouping columns will be excluded from the operation. Either pass `include_groups=False` to exclude the groupings or explicitly select the grouping columns after groupby to silence this warning.\n",
      "  closest_temps = df.groupby(['date', 'hour'], group_keys=False).apply(lambda group: get_closest_hour(group.iloc[0], group))\n"
     ]
    },
    {
     "name": "stdout",
     "output_type": "stream",
     "text": [
      "Processing 70:ee:50:28:8e:30.csv\n"
     ]
    },
    {
     "name": "stderr",
     "output_type": "stream",
     "text": [
      "/tmp/ipykernel_9662/2686556054.py:15: DeprecationWarning: DataFrameGroupBy.apply operated on the grouping columns. This behavior is deprecated, and in a future version of pandas the grouping columns will be excluded from the operation. Either pass `include_groups=False` to exclude the groupings or explicitly select the grouping columns after groupby to silence this warning.\n",
      "  closest_temps = df.groupby(['date', 'hour'], group_keys=False).apply(lambda group: get_closest_hour(group.iloc[0], group))\n"
     ]
    },
    {
     "name": "stdout",
     "output_type": "stream",
     "text": [
      "Processing 70:ee:50:28:ed:dc.csv\n"
     ]
    },
    {
     "name": "stderr",
     "output_type": "stream",
     "text": [
      "/tmp/ipykernel_9662/2686556054.py:15: DeprecationWarning: DataFrameGroupBy.apply operated on the grouping columns. This behavior is deprecated, and in a future version of pandas the grouping columns will be excluded from the operation. Either pass `include_groups=False` to exclude the groupings or explicitly select the grouping columns after groupby to silence this warning.\n",
      "  closest_temps = df.groupby(['date', 'hour'], group_keys=False).apply(lambda group: get_closest_hour(group.iloc[0], group))\n"
     ]
    },
    {
     "name": "stdout",
     "output_type": "stream",
     "text": [
      "Processing 70:ee:50:2b:15:26.csv\n"
     ]
    },
    {
     "name": "stderr",
     "output_type": "stream",
     "text": [
      "/tmp/ipykernel_9662/2686556054.py:15: DeprecationWarning: DataFrameGroupBy.apply operated on the grouping columns. This behavior is deprecated, and in a future version of pandas the grouping columns will be excluded from the operation. Either pass `include_groups=False` to exclude the groupings or explicitly select the grouping columns after groupby to silence this warning.\n",
      "  closest_temps = df.groupby(['date', 'hour'], group_keys=False).apply(lambda group: get_closest_hour(group.iloc[0], group))\n"
     ]
    },
    {
     "name": "stdout",
     "output_type": "stream",
     "text": [
      "Processing 70:ee:50:2b:5b:da.csv\n"
     ]
    },
    {
     "name": "stderr",
     "output_type": "stream",
     "text": [
      "/tmp/ipykernel_9662/2686556054.py:15: DeprecationWarning: DataFrameGroupBy.apply operated on the grouping columns. This behavior is deprecated, and in a future version of pandas the grouping columns will be excluded from the operation. Either pass `include_groups=False` to exclude the groupings or explicitly select the grouping columns after groupby to silence this warning.\n",
      "  closest_temps = df.groupby(['date', 'hour'], group_keys=False).apply(lambda group: get_closest_hour(group.iloc[0], group))\n"
     ]
    },
    {
     "name": "stdout",
     "output_type": "stream",
     "text": [
      "Processing 70:ee:50:2c:73:12.csv\n"
     ]
    },
    {
     "name": "stderr",
     "output_type": "stream",
     "text": [
      "/tmp/ipykernel_9662/2686556054.py:15: DeprecationWarning: DataFrameGroupBy.apply operated on the grouping columns. This behavior is deprecated, and in a future version of pandas the grouping columns will be excluded from the operation. Either pass `include_groups=False` to exclude the groupings or explicitly select the grouping columns after groupby to silence this warning.\n",
      "  closest_temps = df.groupby(['date', 'hour'], group_keys=False).apply(lambda group: get_closest_hour(group.iloc[0], group))\n"
     ]
    },
    {
     "name": "stdout",
     "output_type": "stream",
     "text": [
      "Processing 70:ee:50:2c:fe:4c.csv\n"
     ]
    },
    {
     "name": "stderr",
     "output_type": "stream",
     "text": [
      "/tmp/ipykernel_9662/2686556054.py:15: DeprecationWarning: DataFrameGroupBy.apply operated on the grouping columns. This behavior is deprecated, and in a future version of pandas the grouping columns will be excluded from the operation. Either pass `include_groups=False` to exclude the groupings or explicitly select the grouping columns after groupby to silence this warning.\n",
      "  closest_temps = df.groupby(['date', 'hour'], group_keys=False).apply(lambda group: get_closest_hour(group.iloc[0], group))\n"
     ]
    },
    {
     "name": "stdout",
     "output_type": "stream",
     "text": [
      "Processing 70:ee:50:2e:d0:4c.csv\n"
     ]
    },
    {
     "name": "stderr",
     "output_type": "stream",
     "text": [
      "/tmp/ipykernel_9662/2686556054.py:15: DeprecationWarning: DataFrameGroupBy.apply operated on the grouping columns. This behavior is deprecated, and in a future version of pandas the grouping columns will be excluded from the operation. Either pass `include_groups=False` to exclude the groupings or explicitly select the grouping columns after groupby to silence this warning.\n",
      "  closest_temps = df.groupby(['date', 'hour'], group_keys=False).apply(lambda group: get_closest_hour(group.iloc[0], group))\n"
     ]
    },
    {
     "name": "stdout",
     "output_type": "stream",
     "text": [
      "Processing 70:ee:50:2e:ec:20.csv\n"
     ]
    },
    {
     "name": "stderr",
     "output_type": "stream",
     "text": [
      "/tmp/ipykernel_9662/2686556054.py:15: DeprecationWarning: DataFrameGroupBy.apply operated on the grouping columns. This behavior is deprecated, and in a future version of pandas the grouping columns will be excluded from the operation. Either pass `include_groups=False` to exclude the groupings or explicitly select the grouping columns after groupby to silence this warning.\n",
      "  closest_temps = df.groupby(['date', 'hour'], group_keys=False).apply(lambda group: get_closest_hour(group.iloc[0], group))\n"
     ]
    },
    {
     "name": "stdout",
     "output_type": "stream",
     "text": [
      "Processing 70:ee:50:2f:28:5e.csv\n"
     ]
    },
    {
     "name": "stderr",
     "output_type": "stream",
     "text": [
      "/tmp/ipykernel_9662/2686556054.py:15: DeprecationWarning: DataFrameGroupBy.apply operated on the grouping columns. This behavior is deprecated, and in a future version of pandas the grouping columns will be excluded from the operation. Either pass `include_groups=False` to exclude the groupings or explicitly select the grouping columns after groupby to silence this warning.\n",
      "  closest_temps = df.groupby(['date', 'hour'], group_keys=False).apply(lambda group: get_closest_hour(group.iloc[0], group))\n"
     ]
    },
    {
     "name": "stdout",
     "output_type": "stream",
     "text": [
      "Processing 70:ee:50:37:22:1c.csv\n"
     ]
    },
    {
     "name": "stderr",
     "output_type": "stream",
     "text": [
      "/tmp/ipykernel_9662/2686556054.py:15: DeprecationWarning: DataFrameGroupBy.apply operated on the grouping columns. This behavior is deprecated, and in a future version of pandas the grouping columns will be excluded from the operation. Either pass `include_groups=False` to exclude the groupings or explicitly select the grouping columns after groupby to silence this warning.\n",
      "  closest_temps = df.groupby(['date', 'hour'], group_keys=False).apply(lambda group: get_closest_hour(group.iloc[0], group))\n"
     ]
    },
    {
     "name": "stdout",
     "output_type": "stream",
     "text": [
      "Processing 70:ee:50:3a:22:2c.csv\n"
     ]
    },
    {
     "name": "stderr",
     "output_type": "stream",
     "text": [
      "/tmp/ipykernel_9662/2686556054.py:15: DeprecationWarning: DataFrameGroupBy.apply operated on the grouping columns. This behavior is deprecated, and in a future version of pandas the grouping columns will be excluded from the operation. Either pass `include_groups=False` to exclude the groupings or explicitly select the grouping columns after groupby to silence this warning.\n",
      "  closest_temps = df.groupby(['date', 'hour'], group_keys=False).apply(lambda group: get_closest_hour(group.iloc[0], group))\n"
     ]
    },
    {
     "name": "stdout",
     "output_type": "stream",
     "text": [
      "Processing 70:ee:50:3f:22:b0.csv\n"
     ]
    },
    {
     "name": "stderr",
     "output_type": "stream",
     "text": [
      "/tmp/ipykernel_9662/2686556054.py:15: DeprecationWarning: DataFrameGroupBy.apply operated on the grouping columns. This behavior is deprecated, and in a future version of pandas the grouping columns will be excluded from the operation. Either pass `include_groups=False` to exclude the groupings or explicitly select the grouping columns after groupby to silence this warning.\n",
      "  closest_temps = df.groupby(['date', 'hour'], group_keys=False).apply(lambda group: get_closest_hour(group.iloc[0], group))\n"
     ]
    },
    {
     "name": "stdout",
     "output_type": "stream",
     "text": [
      "Processing 70:ee:50:58:ac:20.csv\n"
     ]
    },
    {
     "name": "stderr",
     "output_type": "stream",
     "text": [
      "/tmp/ipykernel_9662/2686556054.py:15: DeprecationWarning: DataFrameGroupBy.apply operated on the grouping columns. This behavior is deprecated, and in a future version of pandas the grouping columns will be excluded from the operation. Either pass `include_groups=False` to exclude the groupings or explicitly select the grouping columns after groupby to silence this warning.\n",
      "  closest_temps = df.groupby(['date', 'hour'], group_keys=False).apply(lambda group: get_closest_hour(group.iloc[0], group))\n"
     ]
    },
    {
     "name": "stdout",
     "output_type": "stream",
     "text": [
      "Processing 70:ee:50:5e:f5:44.csv\n"
     ]
    },
    {
     "name": "stderr",
     "output_type": "stream",
     "text": [
      "/tmp/ipykernel_9662/2686556054.py:15: DeprecationWarning: DataFrameGroupBy.apply operated on the grouping columns. This behavior is deprecated, and in a future version of pandas the grouping columns will be excluded from the operation. Either pass `include_groups=False` to exclude the groupings or explicitly select the grouping columns after groupby to silence this warning.\n",
      "  closest_temps = df.groupby(['date', 'hour'], group_keys=False).apply(lambda group: get_closest_hour(group.iloc[0], group))\n"
     ]
    },
    {
     "name": "stdout",
     "output_type": "stream",
     "text": [
      "Processing 70:ee:50:5e:fd:d8.csv\n"
     ]
    },
    {
     "name": "stderr",
     "output_type": "stream",
     "text": [
      "/tmp/ipykernel_9662/2686556054.py:15: DeprecationWarning: DataFrameGroupBy.apply operated on the grouping columns. This behavior is deprecated, and in a future version of pandas the grouping columns will be excluded from the operation. Either pass `include_groups=False` to exclude the groupings or explicitly select the grouping columns after groupby to silence this warning.\n",
      "  closest_temps = df.groupby(['date', 'hour'], group_keys=False).apply(lambda group: get_closest_hour(group.iloc[0], group))\n"
     ]
    },
    {
     "name": "stdout",
     "output_type": "stream",
     "text": [
      "Processing 70:ee:50:5f:29:bc.csv\n"
     ]
    },
    {
     "name": "stderr",
     "output_type": "stream",
     "text": [
      "/tmp/ipykernel_9662/2686556054.py:15: DeprecationWarning: DataFrameGroupBy.apply operated on the grouping columns. This behavior is deprecated, and in a future version of pandas the grouping columns will be excluded from the operation. Either pass `include_groups=False` to exclude the groupings or explicitly select the grouping columns after groupby to silence this warning.\n",
      "  closest_temps = df.groupby(['date', 'hour'], group_keys=False).apply(lambda group: get_closest_hour(group.iloc[0], group))\n"
     ]
    },
    {
     "name": "stdout",
     "output_type": "stream",
     "text": [
      "Processing 70:ee:50:65:19:62.csv\n"
     ]
    },
    {
     "name": "stderr",
     "output_type": "stream",
     "text": [
      "/tmp/ipykernel_9662/2686556054.py:15: DeprecationWarning: DataFrameGroupBy.apply operated on the grouping columns. This behavior is deprecated, and in a future version of pandas the grouping columns will be excluded from the operation. Either pass `include_groups=False` to exclude the groupings or explicitly select the grouping columns after groupby to silence this warning.\n",
      "  closest_temps = df.groupby(['date', 'hour'], group_keys=False).apply(lambda group: get_closest_hour(group.iloc[0], group))\n"
     ]
    },
    {
     "name": "stdout",
     "output_type": "stream",
     "text": [
      "Processing 70:ee:50:65:24:78.csv\n"
     ]
    },
    {
     "name": "stderr",
     "output_type": "stream",
     "text": [
      "/tmp/ipykernel_9662/2686556054.py:15: DeprecationWarning: DataFrameGroupBy.apply operated on the grouping columns. This behavior is deprecated, and in a future version of pandas the grouping columns will be excluded from the operation. Either pass `include_groups=False` to exclude the groupings or explicitly select the grouping columns after groupby to silence this warning.\n",
      "  closest_temps = df.groupby(['date', 'hour'], group_keys=False).apply(lambda group: get_closest_hour(group.iloc[0], group))\n"
     ]
    },
    {
     "name": "stdout",
     "output_type": "stream",
     "text": [
      "Processing 70:ee:50:71:22:fe.csv\n"
     ]
    },
    {
     "name": "stderr",
     "output_type": "stream",
     "text": [
      "/tmp/ipykernel_9662/2686556054.py:15: DeprecationWarning: DataFrameGroupBy.apply operated on the grouping columns. This behavior is deprecated, and in a future version of pandas the grouping columns will be excluded from the operation. Either pass `include_groups=False` to exclude the groupings or explicitly select the grouping columns after groupby to silence this warning.\n",
      "  closest_temps = df.groupby(['date', 'hour'], group_keys=False).apply(lambda group: get_closest_hour(group.iloc[0], group))\n"
     ]
    },
    {
     "name": "stdout",
     "output_type": "stream",
     "text": [
      "Processing 70:ee:50:71:2b:48.csv\n"
     ]
    },
    {
     "name": "stderr",
     "output_type": "stream",
     "text": [
      "/tmp/ipykernel_9662/2686556054.py:15: DeprecationWarning: DataFrameGroupBy.apply operated on the grouping columns. This behavior is deprecated, and in a future version of pandas the grouping columns will be excluded from the operation. Either pass `include_groups=False` to exclude the groupings or explicitly select the grouping columns after groupby to silence this warning.\n",
      "  closest_temps = df.groupby(['date', 'hour'], group_keys=False).apply(lambda group: get_closest_hour(group.iloc[0], group))\n"
     ]
    },
    {
     "name": "stdout",
     "output_type": "stream",
     "text": [
      "Processing 70:ee:50:71:49:30.csv\n"
     ]
    },
    {
     "name": "stderr",
     "output_type": "stream",
     "text": [
      "/tmp/ipykernel_9662/2686556054.py:15: DeprecationWarning: DataFrameGroupBy.apply operated on the grouping columns. This behavior is deprecated, and in a future version of pandas the grouping columns will be excluded from the operation. Either pass `include_groups=False` to exclude the groupings or explicitly select the grouping columns after groupby to silence this warning.\n",
      "  closest_temps = df.groupby(['date', 'hour'], group_keys=False).apply(lambda group: get_closest_hour(group.iloc[0], group))\n"
     ]
    },
    {
     "name": "stdout",
     "output_type": "stream",
     "text": [
      "Processing 70:ee:50:71:4d:2a.csv\n"
     ]
    },
    {
     "name": "stderr",
     "output_type": "stream",
     "text": [
      "/tmp/ipykernel_9662/2686556054.py:15: DeprecationWarning: DataFrameGroupBy.apply operated on the grouping columns. This behavior is deprecated, and in a future version of pandas the grouping columns will be excluded from the operation. Either pass `include_groups=False` to exclude the groupings or explicitly select the grouping columns after groupby to silence this warning.\n",
      "  closest_temps = df.groupby(['date', 'hour'], group_keys=False).apply(lambda group: get_closest_hour(group.iloc[0], group))\n"
     ]
    },
    {
     "name": "stdout",
     "output_type": "stream",
     "text": [
      "Processing 70:ee:50:7a:93:7c.csv\n"
     ]
    },
    {
     "name": "stderr",
     "output_type": "stream",
     "text": [
      "/tmp/ipykernel_9662/2686556054.py:15: DeprecationWarning: DataFrameGroupBy.apply operated on the grouping columns. This behavior is deprecated, and in a future version of pandas the grouping columns will be excluded from the operation. Either pass `include_groups=False` to exclude the groupings or explicitly select the grouping columns after groupby to silence this warning.\n",
      "  closest_temps = df.groupby(['date', 'hour'], group_keys=False).apply(lambda group: get_closest_hour(group.iloc[0], group))\n"
     ]
    },
    {
     "name": "stdout",
     "output_type": "stream",
     "text": [
      "Processing 70:ee:50:7a:e8:5c.csv\n"
     ]
    },
    {
     "name": "stderr",
     "output_type": "stream",
     "text": [
      "/tmp/ipykernel_9662/2686556054.py:15: DeprecationWarning: DataFrameGroupBy.apply operated on the grouping columns. This behavior is deprecated, and in a future version of pandas the grouping columns will be excluded from the operation. Either pass `include_groups=False` to exclude the groupings or explicitly select the grouping columns after groupby to silence this warning.\n",
      "  closest_temps = df.groupby(['date', 'hour'], group_keys=False).apply(lambda group: get_closest_hour(group.iloc[0], group))\n"
     ]
    },
    {
     "name": "stdout",
     "output_type": "stream",
     "text": [
      "Processing 70:ee:50:7f:a7:00.csv\n"
     ]
    },
    {
     "name": "stderr",
     "output_type": "stream",
     "text": [
      "/tmp/ipykernel_9662/2686556054.py:15: DeprecationWarning: DataFrameGroupBy.apply operated on the grouping columns. This behavior is deprecated, and in a future version of pandas the grouping columns will be excluded from the operation. Either pass `include_groups=False` to exclude the groupings or explicitly select the grouping columns after groupby to silence this warning.\n",
      "  closest_temps = df.groupby(['date', 'hour'], group_keys=False).apply(lambda group: get_closest_hour(group.iloc[0], group))\n"
     ]
    },
    {
     "name": "stdout",
     "output_type": "stream",
     "text": [
      "Processing 70:ee:50:7f:b5:f2.csv\n"
     ]
    },
    {
     "name": "stderr",
     "output_type": "stream",
     "text": [
      "/tmp/ipykernel_9662/2686556054.py:15: DeprecationWarning: DataFrameGroupBy.apply operated on the grouping columns. This behavior is deprecated, and in a future version of pandas the grouping columns will be excluded from the operation. Either pass `include_groups=False` to exclude the groupings or explicitly select the grouping columns after groupby to silence this warning.\n",
      "  closest_temps = df.groupby(['date', 'hour'], group_keys=False).apply(lambda group: get_closest_hour(group.iloc[0], group))\n"
     ]
    },
    {
     "name": "stdout",
     "output_type": "stream",
     "text": [
      "Processing 70:ee:50:7f:ba:40.csv\n"
     ]
    },
    {
     "name": "stderr",
     "output_type": "stream",
     "text": [
      "/tmp/ipykernel_9662/2686556054.py:15: DeprecationWarning: DataFrameGroupBy.apply operated on the grouping columns. This behavior is deprecated, and in a future version of pandas the grouping columns will be excluded from the operation. Either pass `include_groups=False` to exclude the groupings or explicitly select the grouping columns after groupby to silence this warning.\n",
      "  closest_temps = df.groupby(['date', 'hour'], group_keys=False).apply(lambda group: get_closest_hour(group.iloc[0], group))\n"
     ]
    },
    {
     "name": "stdout",
     "output_type": "stream",
     "text": [
      "Processing 70:ee:50:83:8c:58.csv\n"
     ]
    },
    {
     "name": "stderr",
     "output_type": "stream",
     "text": [
      "/tmp/ipykernel_9662/2686556054.py:15: DeprecationWarning: DataFrameGroupBy.apply operated on the grouping columns. This behavior is deprecated, and in a future version of pandas the grouping columns will be excluded from the operation. Either pass `include_groups=False` to exclude the groupings or explicitly select the grouping columns after groupby to silence this warning.\n",
      "  closest_temps = df.groupby(['date', 'hour'], group_keys=False).apply(lambda group: get_closest_hour(group.iloc[0], group))\n"
     ]
    },
    {
     "name": "stdout",
     "output_type": "stream",
     "text": [
      "Processing 70:ee:50:96:a9:8a.csv\n"
     ]
    },
    {
     "name": "stderr",
     "output_type": "stream",
     "text": [
      "/tmp/ipykernel_9662/2686556054.py:15: DeprecationWarning: DataFrameGroupBy.apply operated on the grouping columns. This behavior is deprecated, and in a future version of pandas the grouping columns will be excluded from the operation. Either pass `include_groups=False` to exclude the groupings or explicitly select the grouping columns after groupby to silence this warning.\n",
      "  closest_temps = df.groupby(['date', 'hour'], group_keys=False).apply(lambda group: get_closest_hour(group.iloc[0], group))\n"
     ]
    },
    {
     "name": "stdout",
     "output_type": "stream",
     "text": [
      "Processing 70:ee:50:96:b2:22.csv\n"
     ]
    },
    {
     "name": "stderr",
     "output_type": "stream",
     "text": [
      "/tmp/ipykernel_9662/2686556054.py:15: DeprecationWarning: DataFrameGroupBy.apply operated on the grouping columns. This behavior is deprecated, and in a future version of pandas the grouping columns will be excluded from the operation. Either pass `include_groups=False` to exclude the groupings or explicitly select the grouping columns after groupby to silence this warning.\n",
      "  closest_temps = df.groupby(['date', 'hour'], group_keys=False).apply(lambda group: get_closest_hour(group.iloc[0], group))\n"
     ]
    },
    {
     "name": "stdout",
     "output_type": "stream",
     "text": [
      "Processing 70:ee:50:a2:16:44.csv\n"
     ]
    },
    {
     "name": "stderr",
     "output_type": "stream",
     "text": [
      "/tmp/ipykernel_9662/2686556054.py:15: DeprecationWarning: DataFrameGroupBy.apply operated on the grouping columns. This behavior is deprecated, and in a future version of pandas the grouping columns will be excluded from the operation. Either pass `include_groups=False` to exclude the groupings or explicitly select the grouping columns after groupby to silence this warning.\n",
      "  closest_temps = df.groupby(['date', 'hour'], group_keys=False).apply(lambda group: get_closest_hour(group.iloc[0], group))\n"
     ]
    },
    {
     "name": "stdout",
     "output_type": "stream",
     "text": [
      "Processing 70:ee:50:a2:20:c2.csv\n"
     ]
    },
    {
     "name": "stderr",
     "output_type": "stream",
     "text": [
      "/tmp/ipykernel_9662/2686556054.py:15: DeprecationWarning: DataFrameGroupBy.apply operated on the grouping columns. This behavior is deprecated, and in a future version of pandas the grouping columns will be excluded from the operation. Either pass `include_groups=False` to exclude the groupings or explicitly select the grouping columns after groupby to silence this warning.\n",
      "  closest_temps = df.groupby(['date', 'hour'], group_keys=False).apply(lambda group: get_closest_hour(group.iloc[0], group))\n"
     ]
    }
   ],
   "source": [
    "# For each hour, find the closest timestamp (either before or after)\n",
    "def get_closest_hour(row, df):\n",
    "    # Find all rows for the target hour and the next hour (or previous if needed)\n",
    "    target_hour = row['hour']\n",
    "    closest_row = df.iloc[(df['time'] - row['time']).abs().argmin()]\n",
    "    return closest_row\n",
    "\n",
    "for csv_file in station_files:\n",
    "    print(f'Processing {csv_file}')\n",
    "    df = pd.read_csv(csv_file, delimiter=',')\n",
    "    df['time'] = pd.to_datetime(df['date'] + ' ' + df['time'], format='%Y-%m-%d %H:%M:%S')\n",
    "    df['hour'] = df['time'].dt.hour\n",
    "    \n",
    "    # Apply the function to each row in the dataframe\n",
    "    closest_temps = df.groupby(['date', 'hour'], group_keys=False).apply(lambda group: get_closest_hour(group.iloc[0], group))\n",
    "\n",
    "    # Convert the result back into a dataframe\n",
    "    result = closest_temps.reset_index(drop=True)[['date', 'time', 'temp']]\n",
    "\n",
    "    # Get just the time\n",
    "    result['time'] = result['time'].dt.hour\n",
    "    \n",
    "    # Filter by date interval\n",
    "    start_date = '2023-06-01'\n",
    "    end_date = '2023-08-31'\n",
    "    result = result[(result['date'] >= start_date) & (result['date'] <= end_date)]\n",
    "    #result['station'] = re.search(r\"/([^/]+)\\.csv$\", csv_file).group(1)\n",
    "    result['station'] = re.search(r\"(.+)\\.csv$\", csv_file).group(1)\n",
    "\n",
    "    all_dataframes.append(result)"
   ]
  },
  {
   "cell_type": "code",
   "execution_count": 14,
   "id": "796e81f5-b0ed-40d3-a83c-a93c93f000df",
   "metadata": {},
   "outputs": [
    {
     "data": {
      "text/html": [
       "<div>\n",
       "<style scoped>\n",
       "    .dataframe tbody tr th:only-of-type {\n",
       "        vertical-align: middle;\n",
       "    }\n",
       "\n",
       "    .dataframe tbody tr th {\n",
       "        vertical-align: top;\n",
       "    }\n",
       "\n",
       "    .dataframe thead th {\n",
       "        text-align: right;\n",
       "    }\n",
       "</style>\n",
       "<table border=\"1\" class=\"dataframe\">\n",
       "  <thead>\n",
       "    <tr style=\"text-align: right;\">\n",
       "      <th></th>\n",
       "      <th>date</th>\n",
       "      <th>time</th>\n",
       "      <th>temp</th>\n",
       "      <th>station</th>\n",
       "    </tr>\n",
       "  </thead>\n",
       "  <tbody>\n",
       "    <tr>\n",
       "      <th>3</th>\n",
       "      <td>2023-06-01</td>\n",
       "      <td>0</td>\n",
       "      <td>18.0</td>\n",
       "      <td>70:ee:50:00:c9:6e</td>\n",
       "    </tr>\n",
       "    <tr>\n",
       "      <th>4</th>\n",
       "      <td>2023-06-01</td>\n",
       "      <td>1</td>\n",
       "      <td>17.3</td>\n",
       "      <td>70:ee:50:00:c9:6e</td>\n",
       "    </tr>\n",
       "    <tr>\n",
       "      <th>5</th>\n",
       "      <td>2023-06-01</td>\n",
       "      <td>2</td>\n",
       "      <td>17.1</td>\n",
       "      <td>70:ee:50:00:c9:6e</td>\n",
       "    </tr>\n",
       "    <tr>\n",
       "      <th>6</th>\n",
       "      <td>2023-06-01</td>\n",
       "      <td>3</td>\n",
       "      <td>16.9</td>\n",
       "      <td>70:ee:50:00:c9:6e</td>\n",
       "    </tr>\n",
       "    <tr>\n",
       "      <th>7</th>\n",
       "      <td>2023-06-01</td>\n",
       "      <td>4</td>\n",
       "      <td>16.6</td>\n",
       "      <td>70:ee:50:00:c9:6e</td>\n",
       "    </tr>\n",
       "    <tr>\n",
       "      <th>...</th>\n",
       "      <td>...</td>\n",
       "      <td>...</td>\n",
       "      <td>...</td>\n",
       "      <td>...</td>\n",
       "    </tr>\n",
       "    <tr>\n",
       "      <th>2128</th>\n",
       "      <td>2023-08-31</td>\n",
       "      <td>19</td>\n",
       "      <td>26.4</td>\n",
       "      <td>70:ee:50:00:c9:6e</td>\n",
       "    </tr>\n",
       "    <tr>\n",
       "      <th>2129</th>\n",
       "      <td>2023-08-31</td>\n",
       "      <td>20</td>\n",
       "      <td>24.7</td>\n",
       "      <td>70:ee:50:00:c9:6e</td>\n",
       "    </tr>\n",
       "    <tr>\n",
       "      <th>2130</th>\n",
       "      <td>2023-08-31</td>\n",
       "      <td>21</td>\n",
       "      <td>23.7</td>\n",
       "      <td>70:ee:50:00:c9:6e</td>\n",
       "    </tr>\n",
       "    <tr>\n",
       "      <th>2131</th>\n",
       "      <td>2023-08-31</td>\n",
       "      <td>22</td>\n",
       "      <td>23.0</td>\n",
       "      <td>70:ee:50:00:c9:6e</td>\n",
       "    </tr>\n",
       "    <tr>\n",
       "      <th>2132</th>\n",
       "      <td>2023-08-31</td>\n",
       "      <td>23</td>\n",
       "      <td>22.5</td>\n",
       "      <td>70:ee:50:00:c9:6e</td>\n",
       "    </tr>\n",
       "  </tbody>\n",
       "</table>\n",
       "<p>2130 rows × 4 columns</p>\n",
       "</div>"
      ],
      "text/plain": [
       "            date  time  temp            station\n",
       "3     2023-06-01     0  18.0  70:ee:50:00:c9:6e\n",
       "4     2023-06-01     1  17.3  70:ee:50:00:c9:6e\n",
       "5     2023-06-01     2  17.1  70:ee:50:00:c9:6e\n",
       "6     2023-06-01     3  16.9  70:ee:50:00:c9:6e\n",
       "7     2023-06-01     4  16.6  70:ee:50:00:c9:6e\n",
       "...          ...   ...   ...                ...\n",
       "2128  2023-08-31    19  26.4  70:ee:50:00:c9:6e\n",
       "2129  2023-08-31    20  24.7  70:ee:50:00:c9:6e\n",
       "2130  2023-08-31    21  23.7  70:ee:50:00:c9:6e\n",
       "2131  2023-08-31    22  23.0  70:ee:50:00:c9:6e\n",
       "2132  2023-08-31    23  22.5  70:ee:50:00:c9:6e\n",
       "\n",
       "[2130 rows x 4 columns]"
      ]
     },
     "execution_count": 14,
     "metadata": {},
     "output_type": "execute_result"
    }
   ],
   "source": [
    "all_dataframes[0]"
   ]
  },
  {
   "cell_type": "code",
   "execution_count": 15,
   "id": "ae3dd4de-7bd1-4eab-9216-16ab9d3823ec",
   "metadata": {},
   "outputs": [
    {
     "data": {
      "text/html": [
       "<div>\n",
       "<style scoped>\n",
       "    .dataframe tbody tr th:only-of-type {\n",
       "        vertical-align: middle;\n",
       "    }\n",
       "\n",
       "    .dataframe tbody tr th {\n",
       "        vertical-align: top;\n",
       "    }\n",
       "\n",
       "    .dataframe thead th {\n",
       "        text-align: right;\n",
       "    }\n",
       "</style>\n",
       "<table border=\"1\" class=\"dataframe\">\n",
       "  <thead>\n",
       "    <tr style=\"text-align: right;\">\n",
       "      <th></th>\n",
       "      <th>date</th>\n",
       "      <th>time</th>\n",
       "      <th>temp</th>\n",
       "      <th>station</th>\n",
       "    </tr>\n",
       "  </thead>\n",
       "  <tbody>\n",
       "    <tr>\n",
       "      <th>0</th>\n",
       "      <td>2023-06-01</td>\n",
       "      <td>0</td>\n",
       "      <td>18.0</td>\n",
       "      <td>70:ee:50:00:c9:6e</td>\n",
       "    </tr>\n",
       "    <tr>\n",
       "      <th>1</th>\n",
       "      <td>2023-06-01</td>\n",
       "      <td>1</td>\n",
       "      <td>17.3</td>\n",
       "      <td>70:ee:50:00:c9:6e</td>\n",
       "    </tr>\n",
       "    <tr>\n",
       "      <th>2</th>\n",
       "      <td>2023-06-01</td>\n",
       "      <td>2</td>\n",
       "      <td>17.1</td>\n",
       "      <td>70:ee:50:00:c9:6e</td>\n",
       "    </tr>\n",
       "    <tr>\n",
       "      <th>3</th>\n",
       "      <td>2023-06-01</td>\n",
       "      <td>3</td>\n",
       "      <td>16.9</td>\n",
       "      <td>70:ee:50:00:c9:6e</td>\n",
       "    </tr>\n",
       "    <tr>\n",
       "      <th>4</th>\n",
       "      <td>2023-06-01</td>\n",
       "      <td>4</td>\n",
       "      <td>16.6</td>\n",
       "      <td>70:ee:50:00:c9:6e</td>\n",
       "    </tr>\n",
       "  </tbody>\n",
       "</table>\n",
       "</div>"
      ],
      "text/plain": [
       "         date  time  temp            station\n",
       "0  2023-06-01     0  18.0  70:ee:50:00:c9:6e\n",
       "1  2023-06-01     1  17.3  70:ee:50:00:c9:6e\n",
       "2  2023-06-01     2  17.1  70:ee:50:00:c9:6e\n",
       "3  2023-06-01     3  16.9  70:ee:50:00:c9:6e\n",
       "4  2023-06-01     4  16.6  70:ee:50:00:c9:6e"
      ]
     },
     "execution_count": 15,
     "metadata": {},
     "output_type": "execute_result"
    }
   ],
   "source": [
    "temperatures = pd.concat(all_dataframes, ignore_index=True)\n",
    "temperatures.head()"
   ]
  },
  {
   "cell_type": "code",
   "execution_count": 16,
   "id": "c9612fa1-0083-4037-ac7a-35941d365c4c",
   "metadata": {},
   "outputs": [
    {
     "data": {
      "text/html": [
       "<div>\n",
       "<style scoped>\n",
       "    .dataframe tbody tr th:only-of-type {\n",
       "        vertical-align: middle;\n",
       "    }\n",
       "\n",
       "    .dataframe tbody tr th {\n",
       "        vertical-align: top;\n",
       "    }\n",
       "\n",
       "    .dataframe thead th {\n",
       "        text-align: right;\n",
       "    }\n",
       "</style>\n",
       "<table border=\"1\" class=\"dataframe\">\n",
       "  <thead>\n",
       "    <tr style=\"text-align: right;\">\n",
       "      <th></th>\n",
       "      <th>date</th>\n",
       "      <th>time</th>\n",
       "      <th>temp</th>\n",
       "      <th>station</th>\n",
       "    </tr>\n",
       "  </thead>\n",
       "  <tbody>\n",
       "    <tr>\n",
       "      <th>101117</th>\n",
       "      <td>2023-08-31</td>\n",
       "      <td>19</td>\n",
       "      <td>19.9</td>\n",
       "      <td>70:ee:50:a2:20:c2</td>\n",
       "    </tr>\n",
       "    <tr>\n",
       "      <th>101118</th>\n",
       "      <td>2023-08-31</td>\n",
       "      <td>20</td>\n",
       "      <td>19.4</td>\n",
       "      <td>70:ee:50:a2:20:c2</td>\n",
       "    </tr>\n",
       "    <tr>\n",
       "      <th>101119</th>\n",
       "      <td>2023-08-31</td>\n",
       "      <td>21</td>\n",
       "      <td>19.3</td>\n",
       "      <td>70:ee:50:a2:20:c2</td>\n",
       "    </tr>\n",
       "    <tr>\n",
       "      <th>101120</th>\n",
       "      <td>2023-08-31</td>\n",
       "      <td>22</td>\n",
       "      <td>19.3</td>\n",
       "      <td>70:ee:50:a2:20:c2</td>\n",
       "    </tr>\n",
       "    <tr>\n",
       "      <th>101121</th>\n",
       "      <td>2023-08-31</td>\n",
       "      <td>23</td>\n",
       "      <td>19.2</td>\n",
       "      <td>70:ee:50:a2:20:c2</td>\n",
       "    </tr>\n",
       "  </tbody>\n",
       "</table>\n",
       "</div>"
      ],
      "text/plain": [
       "              date  time  temp            station\n",
       "101117  2023-08-31    19  19.9  70:ee:50:a2:20:c2\n",
       "101118  2023-08-31    20  19.4  70:ee:50:a2:20:c2\n",
       "101119  2023-08-31    21  19.3  70:ee:50:a2:20:c2\n",
       "101120  2023-08-31    22  19.3  70:ee:50:a2:20:c2\n",
       "101121  2023-08-31    23  19.2  70:ee:50:a2:20:c2"
      ]
     },
     "execution_count": 16,
     "metadata": {},
     "output_type": "execute_result"
    }
   ],
   "source": [
    "temperatures.tail()"
   ]
  },
  {
   "cell_type": "code",
   "execution_count": 17,
   "id": "f26f5d1d-69c6-453a-baed-e5eca5673cc0",
   "metadata": {},
   "outputs": [],
   "source": [
    "temperatures.to_csv('temperatures.csv', index=False)"
   ]
  },
  {
   "cell_type": "markdown",
   "id": "aaf5f51e-fb1e-4d80-9b2b-67852e9f2006",
   "metadata": {},
   "source": [
    "## Quality Control\n",
    "\n",
    "Baseline defined in the paper \"Citizen data for global mapping of atmospheric urban heat islands\""
   ]
  },
  {
   "cell_type": "code",
   "execution_count": 17,
   "id": "ec45471d-1b50-4ce7-91c6-1621040af50a",
   "metadata": {},
   "outputs": [
    {
     "data": {
      "text/plain": [
       "(75624, 4)"
      ]
     },
     "execution_count": 17,
     "metadata": {},
     "output_type": "execute_result"
    }
   ],
   "source": [
    "temperatures.shape"
   ]
  },
  {
   "cell_type": "code",
   "execution_count": 18,
   "id": "eece0e92-ae5d-45cd-a001-f92da9978b9b",
   "metadata": {},
   "outputs": [
    {
     "data": {
      "text/plain": [
       "(75553, 4)"
      ]
     },
     "execution_count": 18,
     "metadata": {},
     "output_type": "execute_result"
    }
   ],
   "source": [
    "# Remove values below -20ºC and above 45ºC\n",
    "temperatures = temperatures[(temperatures['temp'] >= -20) & (temperatures['temp'] <= 45)]\n",
    "temperatures.shape"
   ]
  },
  {
   "cell_type": "code",
   "execution_count": 19,
   "id": "88c0566f-8c37-43cc-b5e7-47a50707d7aa",
   "metadata": {},
   "outputs": [
    {
     "name": "stderr",
     "output_type": "stream",
     "text": [
      "/tmp/ipykernel_133345/3283187688.py:15: DeprecationWarning: DataFrameGroupBy.apply operated on the grouping columns. This behavior is deprecated, and in a future version of pandas the grouping columns will be excluded from the operation. Either pass `include_groups=False` to exclude the groupings or explicitly select the grouping columns after groupby to silence this warning.\n",
      "  temperatures = temperatures.groupby(\"station\", group_keys=False).apply(filter_station_data)\n"
     ]
    },
    {
     "data": {
      "text/plain": [
       "(75397, 4)"
      ]
     },
     "execution_count": 19,
     "metadata": {},
     "output_type": "execute_result"
    }
   ],
   "source": [
    "# Keep only rows where the temperature difference is within ±thresholdºC\n",
    "threshold = 10\n",
    "# Define a function to filter each station's data\n",
    "def filter_station_data(station_df):\n",
    "    station_df = station_df.copy()  # Avoid modifying the original dataframe\n",
    "    station_df['temp_diff_prev'] = station_df['temp'].diff()\n",
    "    station_df['temp_diff_next'] = station_df['temp'].diff(-1)\n",
    "    \n",
    "    # Keep only rows where the temperature difference is within ±thresholdºC\n",
    "    filtered = station_df[(station_df['temp_diff_prev'].abs() <= threshold) & (station_df['temp_diff_next'].abs() <= threshold)]\n",
    "    \n",
    "    return filtered.drop(columns=[\"temp_diff_prev\", \"temp_diff_next\"])\n",
    "\n",
    "# Apply filtering per station\n",
    "temperatures = temperatures.groupby(\"station\", group_keys=False).apply(filter_station_data)\n",
    "temperatures.shape"
   ]
  },
  {
   "cell_type": "code",
   "execution_count": 20,
   "id": "a0684dea-c34a-422c-8a9c-9f6905fda7ca",
   "metadata": {},
   "outputs": [
    {
     "data": {
      "text/plain": [
       "(71749, 7)"
      ]
     },
     "execution_count": 20,
     "metadata": {},
     "output_type": "execute_result"
    }
   ],
   "source": [
    "# Detect outliers checking the data distribution using z-score\n",
    "\n",
    "# Group by date and time, then compute the mean and standard deviation of temp\n",
    "grouped = temperatures.groupby(['date', 'time'])['temp'].agg(['mean', 'std'])\n",
    "\n",
    "# Merge the mean and std back to the original dataframe\n",
    "temperatures = temperatures.merge(grouped, on=['date', 'time'])\n",
    "\n",
    "# Compute the Z-score\n",
    "temperatures['z_score'] = (temperatures['temp'] - temperatures['mean']) / temperatures['std']\n",
    "\n",
    "# Remove rows where the z-score value is outside the range between -2.32 and 1.64\n",
    "temperatures = temperatures[(temperatures['z_score'].abs() >= -2.32) & ((temperatures['z_score'].abs() <= 1.64))]\n",
    "temperatures.shape"
   ]
  },
  {
   "cell_type": "code",
   "execution_count": 21,
   "id": "ed0cfb6e-f1b8-48c6-b210-128156559833",
   "metadata": {},
   "outputs": [
    {
     "data": {
      "text/html": [
       "<div>\n",
       "<style scoped>\n",
       "    .dataframe tbody tr th:only-of-type {\n",
       "        vertical-align: middle;\n",
       "    }\n",
       "\n",
       "    .dataframe tbody tr th {\n",
       "        vertical-align: top;\n",
       "    }\n",
       "\n",
       "    .dataframe thead th {\n",
       "        text-align: right;\n",
       "    }\n",
       "</style>\n",
       "<table border=\"1\" class=\"dataframe\">\n",
       "  <thead>\n",
       "    <tr style=\"text-align: right;\">\n",
       "      <th></th>\n",
       "      <th>date</th>\n",
       "      <th>time</th>\n",
       "      <th>temp</th>\n",
       "      <th>station</th>\n",
       "    </tr>\n",
       "  </thead>\n",
       "  <tbody>\n",
       "    <tr>\n",
       "      <th>0</th>\n",
       "      <td>2023-06-01</td>\n",
       "      <td>1</td>\n",
       "      <td>22.2</td>\n",
       "      <td>70:ee:50:01:d9:c2</td>\n",
       "    </tr>\n",
       "    <tr>\n",
       "      <th>1</th>\n",
       "      <td>2023-06-01</td>\n",
       "      <td>2</td>\n",
       "      <td>21.7</td>\n",
       "      <td>70:ee:50:01:d9:c2</td>\n",
       "    </tr>\n",
       "    <tr>\n",
       "      <th>2</th>\n",
       "      <td>2023-06-01</td>\n",
       "      <td>3</td>\n",
       "      <td>21.3</td>\n",
       "      <td>70:ee:50:01:d9:c2</td>\n",
       "    </tr>\n",
       "    <tr>\n",
       "      <th>3</th>\n",
       "      <td>2023-06-01</td>\n",
       "      <td>4</td>\n",
       "      <td>21.1</td>\n",
       "      <td>70:ee:50:01:d9:c2</td>\n",
       "    </tr>\n",
       "    <tr>\n",
       "      <th>4</th>\n",
       "      <td>2023-06-01</td>\n",
       "      <td>5</td>\n",
       "      <td>20.8</td>\n",
       "      <td>70:ee:50:01:d9:c2</td>\n",
       "    </tr>\n",
       "    <tr>\n",
       "      <th>...</th>\n",
       "      <td>...</td>\n",
       "      <td>...</td>\n",
       "      <td>...</td>\n",
       "      <td>...</td>\n",
       "    </tr>\n",
       "    <tr>\n",
       "      <th>75392</th>\n",
       "      <td>2023-08-31</td>\n",
       "      <td>18</td>\n",
       "      <td>31.9</td>\n",
       "      <td>70:ee:50:a4:5c:32</td>\n",
       "    </tr>\n",
       "    <tr>\n",
       "      <th>75393</th>\n",
       "      <td>2023-08-31</td>\n",
       "      <td>19</td>\n",
       "      <td>30.9</td>\n",
       "      <td>70:ee:50:a4:5c:32</td>\n",
       "    </tr>\n",
       "    <tr>\n",
       "      <th>75394</th>\n",
       "      <td>2023-08-31</td>\n",
       "      <td>20</td>\n",
       "      <td>29.6</td>\n",
       "      <td>70:ee:50:a4:5c:32</td>\n",
       "    </tr>\n",
       "    <tr>\n",
       "      <th>75395</th>\n",
       "      <td>2023-08-31</td>\n",
       "      <td>21</td>\n",
       "      <td>28.8</td>\n",
       "      <td>70:ee:50:a4:5c:32</td>\n",
       "    </tr>\n",
       "    <tr>\n",
       "      <th>75396</th>\n",
       "      <td>2023-08-31</td>\n",
       "      <td>22</td>\n",
       "      <td>27.9</td>\n",
       "      <td>70:ee:50:a4:5c:32</td>\n",
       "    </tr>\n",
       "  </tbody>\n",
       "</table>\n",
       "<p>71749 rows × 4 columns</p>\n",
       "</div>"
      ],
      "text/plain": [
       "             date  time  temp            station\n",
       "0      2023-06-01     1  22.2  70:ee:50:01:d9:c2\n",
       "1      2023-06-01     2  21.7  70:ee:50:01:d9:c2\n",
       "2      2023-06-01     3  21.3  70:ee:50:01:d9:c2\n",
       "3      2023-06-01     4  21.1  70:ee:50:01:d9:c2\n",
       "4      2023-06-01     5  20.8  70:ee:50:01:d9:c2\n",
       "...           ...   ...   ...                ...\n",
       "75392  2023-08-31    18  31.9  70:ee:50:a4:5c:32\n",
       "75393  2023-08-31    19  30.9  70:ee:50:a4:5c:32\n",
       "75394  2023-08-31    20  29.6  70:ee:50:a4:5c:32\n",
       "75395  2023-08-31    21  28.8  70:ee:50:a4:5c:32\n",
       "75396  2023-08-31    22  27.9  70:ee:50:a4:5c:32\n",
       "\n",
       "[71749 rows x 4 columns]"
      ]
     },
     "execution_count": 21,
     "metadata": {},
     "output_type": "execute_result"
    }
   ],
   "source": [
    "# Remove unnecessary columns\n",
    "temperatures = temperatures.drop(columns=['z_score', 'mean', 'std'])\n",
    "temperatures"
   ]
  },
  {
   "cell_type": "markdown",
   "id": "4a334d4a-7960-48f0-8d09-df2e144f22bf",
   "metadata": {},
   "source": [
    "## Compute temperature differences"
   ]
  },
  {
   "cell_type": "code",
   "execution_count": 18,
   "id": "4a23dc68-41e3-424e-ba36-11d9a7404123",
   "metadata": {},
   "outputs": [],
   "source": [
    "ref_stations = [\n",
    "    '70:ee:50:2b:5b:da', # Villamar\n",
    "    '70:ee:50:5e:f5:44'\n",
    "]"
   ]
  },
  {
   "cell_type": "code",
   "execution_count": 19,
   "id": "caa2b12f-8c9d-489d-9a6c-5bcfed61af96",
   "metadata": {},
   "outputs": [
    {
     "data": {
      "text/html": [
       "<div>\n",
       "<style scoped>\n",
       "    .dataframe tbody tr th:only-of-type {\n",
       "        vertical-align: middle;\n",
       "    }\n",
       "\n",
       "    .dataframe tbody tr th {\n",
       "        vertical-align: top;\n",
       "    }\n",
       "\n",
       "    .dataframe thead th {\n",
       "        text-align: right;\n",
       "    }\n",
       "</style>\n",
       "<table border=\"1\" class=\"dataframe\">\n",
       "  <thead>\n",
       "    <tr style=\"text-align: right;\">\n",
       "      <th></th>\n",
       "      <th>date</th>\n",
       "      <th>time</th>\n",
       "      <th>temp</th>\n",
       "      <th>station</th>\n",
       "      <th>temp_ref</th>\n",
       "    </tr>\n",
       "  </thead>\n",
       "  <tbody>\n",
       "    <tr>\n",
       "      <th>0</th>\n",
       "      <td>2023-06-01</td>\n",
       "      <td>0</td>\n",
       "      <td>18.0</td>\n",
       "      <td>70:ee:50:00:c9:6e</td>\n",
       "      <td>17.55</td>\n",
       "    </tr>\n",
       "    <tr>\n",
       "      <th>1</th>\n",
       "      <td>2023-06-01</td>\n",
       "      <td>1</td>\n",
       "      <td>17.3</td>\n",
       "      <td>70:ee:50:00:c9:6e</td>\n",
       "      <td>17.35</td>\n",
       "    </tr>\n",
       "    <tr>\n",
       "      <th>2</th>\n",
       "      <td>2023-06-01</td>\n",
       "      <td>2</td>\n",
       "      <td>17.1</td>\n",
       "      <td>70:ee:50:00:c9:6e</td>\n",
       "      <td>17.30</td>\n",
       "    </tr>\n",
       "    <tr>\n",
       "      <th>3</th>\n",
       "      <td>2023-06-01</td>\n",
       "      <td>3</td>\n",
       "      <td>16.9</td>\n",
       "      <td>70:ee:50:00:c9:6e</td>\n",
       "      <td>17.10</td>\n",
       "    </tr>\n",
       "    <tr>\n",
       "      <th>4</th>\n",
       "      <td>2023-06-01</td>\n",
       "      <td>4</td>\n",
       "      <td>16.6</td>\n",
       "      <td>70:ee:50:00:c9:6e</td>\n",
       "      <td>16.95</td>\n",
       "    </tr>\n",
       "    <tr>\n",
       "      <th>...</th>\n",
       "      <td>...</td>\n",
       "      <td>...</td>\n",
       "      <td>...</td>\n",
       "      <td>...</td>\n",
       "      <td>...</td>\n",
       "    </tr>\n",
       "    <tr>\n",
       "      <th>101117</th>\n",
       "      <td>2023-08-31</td>\n",
       "      <td>19</td>\n",
       "      <td>19.9</td>\n",
       "      <td>70:ee:50:a2:20:c2</td>\n",
       "      <td>20.65</td>\n",
       "    </tr>\n",
       "    <tr>\n",
       "      <th>101118</th>\n",
       "      <td>2023-08-31</td>\n",
       "      <td>20</td>\n",
       "      <td>19.4</td>\n",
       "      <td>70:ee:50:a2:20:c2</td>\n",
       "      <td>20.35</td>\n",
       "    </tr>\n",
       "    <tr>\n",
       "      <th>101119</th>\n",
       "      <td>2023-08-31</td>\n",
       "      <td>21</td>\n",
       "      <td>19.3</td>\n",
       "      <td>70:ee:50:a2:20:c2</td>\n",
       "      <td>20.45</td>\n",
       "    </tr>\n",
       "    <tr>\n",
       "      <th>101120</th>\n",
       "      <td>2023-08-31</td>\n",
       "      <td>22</td>\n",
       "      <td>19.3</td>\n",
       "      <td>70:ee:50:a2:20:c2</td>\n",
       "      <td>20.30</td>\n",
       "    </tr>\n",
       "    <tr>\n",
       "      <th>101121</th>\n",
       "      <td>2023-08-31</td>\n",
       "      <td>23</td>\n",
       "      <td>19.2</td>\n",
       "      <td>70:ee:50:a2:20:c2</td>\n",
       "      <td>20.20</td>\n",
       "    </tr>\n",
       "  </tbody>\n",
       "</table>\n",
       "<p>101122 rows × 5 columns</p>\n",
       "</div>"
      ],
      "text/plain": [
       "              date  time  temp            station  temp_ref\n",
       "0       2023-06-01     0  18.0  70:ee:50:00:c9:6e     17.55\n",
       "1       2023-06-01     1  17.3  70:ee:50:00:c9:6e     17.35\n",
       "2       2023-06-01     2  17.1  70:ee:50:00:c9:6e     17.30\n",
       "3       2023-06-01     3  16.9  70:ee:50:00:c9:6e     17.10\n",
       "4       2023-06-01     4  16.6  70:ee:50:00:c9:6e     16.95\n",
       "...            ...   ...   ...                ...       ...\n",
       "101117  2023-08-31    19  19.9  70:ee:50:a2:20:c2     20.65\n",
       "101118  2023-08-31    20  19.4  70:ee:50:a2:20:c2     20.35\n",
       "101119  2023-08-31    21  19.3  70:ee:50:a2:20:c2     20.45\n",
       "101120  2023-08-31    22  19.3  70:ee:50:a2:20:c2     20.30\n",
       "101121  2023-08-31    23  19.2  70:ee:50:a2:20:c2     20.20\n",
       "\n",
       "[101122 rows x 5 columns]"
      ]
     },
     "execution_count": 19,
     "metadata": {},
     "output_type": "execute_result"
    }
   ],
   "source": [
    "# Merge the dataframe with itself to compute the difference with the reference station\n",
    "#df_ref = temperatures[temperatures['station'] == '70:ee:50:7a:d1:ce'][['date', 'time', 'temp']].rename(columns={'temp': 'temp_ref'})\n",
    "df_ref = (\n",
    "    temperatures[temperatures['station'].isin(ref_stations)]\n",
    "    .groupby(['date', 'time'])['temp']\n",
    "    .mean()\n",
    "    .reset_index()\n",
    "    .rename(columns={'temp': 'temp_ref'})\n",
    ")\n",
    "df_merged = pd.merge(temperatures, df_ref, on=['date', 'time'])\n",
    "df_merged"
   ]
  },
  {
   "cell_type": "code",
   "execution_count": 20,
   "id": "135278b3-9e00-47d7-bcd6-fa6dec562b1c",
   "metadata": {},
   "outputs": [
    {
     "data": {
      "text/html": [
       "<div>\n",
       "<style scoped>\n",
       "    .dataframe tbody tr th:only-of-type {\n",
       "        vertical-align: middle;\n",
       "    }\n",
       "\n",
       "    .dataframe tbody tr th {\n",
       "        vertical-align: top;\n",
       "    }\n",
       "\n",
       "    .dataframe thead th {\n",
       "        text-align: right;\n",
       "    }\n",
       "</style>\n",
       "<table border=\"1\" class=\"dataframe\">\n",
       "  <thead>\n",
       "    <tr style=\"text-align: right;\">\n",
       "      <th></th>\n",
       "      <th>date</th>\n",
       "      <th>time</th>\n",
       "      <th>temp</th>\n",
       "      <th>station</th>\n",
       "      <th>temp_ref</th>\n",
       "      <th>temp_diff</th>\n",
       "    </tr>\n",
       "  </thead>\n",
       "  <tbody>\n",
       "    <tr>\n",
       "      <th>0</th>\n",
       "      <td>2023-06-01</td>\n",
       "      <td>0</td>\n",
       "      <td>18.0</td>\n",
       "      <td>70:ee:50:00:c9:6e</td>\n",
       "      <td>17.55</td>\n",
       "      <td>0.45</td>\n",
       "    </tr>\n",
       "    <tr>\n",
       "      <th>1</th>\n",
       "      <td>2023-06-01</td>\n",
       "      <td>1</td>\n",
       "      <td>17.3</td>\n",
       "      <td>70:ee:50:00:c9:6e</td>\n",
       "      <td>17.35</td>\n",
       "      <td>-0.05</td>\n",
       "    </tr>\n",
       "    <tr>\n",
       "      <th>2</th>\n",
       "      <td>2023-06-01</td>\n",
       "      <td>2</td>\n",
       "      <td>17.1</td>\n",
       "      <td>70:ee:50:00:c9:6e</td>\n",
       "      <td>17.30</td>\n",
       "      <td>-0.20</td>\n",
       "    </tr>\n",
       "    <tr>\n",
       "      <th>3</th>\n",
       "      <td>2023-06-01</td>\n",
       "      <td>3</td>\n",
       "      <td>16.9</td>\n",
       "      <td>70:ee:50:00:c9:6e</td>\n",
       "      <td>17.10</td>\n",
       "      <td>-0.20</td>\n",
       "    </tr>\n",
       "    <tr>\n",
       "      <th>4</th>\n",
       "      <td>2023-06-01</td>\n",
       "      <td>4</td>\n",
       "      <td>16.6</td>\n",
       "      <td>70:ee:50:00:c9:6e</td>\n",
       "      <td>16.95</td>\n",
       "      <td>-0.35</td>\n",
       "    </tr>\n",
       "    <tr>\n",
       "      <th>...</th>\n",
       "      <td>...</td>\n",
       "      <td>...</td>\n",
       "      <td>...</td>\n",
       "      <td>...</td>\n",
       "      <td>...</td>\n",
       "      <td>...</td>\n",
       "    </tr>\n",
       "    <tr>\n",
       "      <th>101117</th>\n",
       "      <td>2023-08-31</td>\n",
       "      <td>19</td>\n",
       "      <td>19.9</td>\n",
       "      <td>70:ee:50:a2:20:c2</td>\n",
       "      <td>20.65</td>\n",
       "      <td>-0.75</td>\n",
       "    </tr>\n",
       "    <tr>\n",
       "      <th>101118</th>\n",
       "      <td>2023-08-31</td>\n",
       "      <td>20</td>\n",
       "      <td>19.4</td>\n",
       "      <td>70:ee:50:a2:20:c2</td>\n",
       "      <td>20.35</td>\n",
       "      <td>-0.95</td>\n",
       "    </tr>\n",
       "    <tr>\n",
       "      <th>101119</th>\n",
       "      <td>2023-08-31</td>\n",
       "      <td>21</td>\n",
       "      <td>19.3</td>\n",
       "      <td>70:ee:50:a2:20:c2</td>\n",
       "      <td>20.45</td>\n",
       "      <td>-1.15</td>\n",
       "    </tr>\n",
       "    <tr>\n",
       "      <th>101120</th>\n",
       "      <td>2023-08-31</td>\n",
       "      <td>22</td>\n",
       "      <td>19.3</td>\n",
       "      <td>70:ee:50:a2:20:c2</td>\n",
       "      <td>20.30</td>\n",
       "      <td>-1.00</td>\n",
       "    </tr>\n",
       "    <tr>\n",
       "      <th>101121</th>\n",
       "      <td>2023-08-31</td>\n",
       "      <td>23</td>\n",
       "      <td>19.2</td>\n",
       "      <td>70:ee:50:a2:20:c2</td>\n",
       "      <td>20.20</td>\n",
       "      <td>-1.00</td>\n",
       "    </tr>\n",
       "  </tbody>\n",
       "</table>\n",
       "<p>101122 rows × 6 columns</p>\n",
       "</div>"
      ],
      "text/plain": [
       "              date  time  temp            station  temp_ref  temp_diff\n",
       "0       2023-06-01     0  18.0  70:ee:50:00:c9:6e     17.55       0.45\n",
       "1       2023-06-01     1  17.3  70:ee:50:00:c9:6e     17.35      -0.05\n",
       "2       2023-06-01     2  17.1  70:ee:50:00:c9:6e     17.30      -0.20\n",
       "3       2023-06-01     3  16.9  70:ee:50:00:c9:6e     17.10      -0.20\n",
       "4       2023-06-01     4  16.6  70:ee:50:00:c9:6e     16.95      -0.35\n",
       "...            ...   ...   ...                ...       ...        ...\n",
       "101117  2023-08-31    19  19.9  70:ee:50:a2:20:c2     20.65      -0.75\n",
       "101118  2023-08-31    20  19.4  70:ee:50:a2:20:c2     20.35      -0.95\n",
       "101119  2023-08-31    21  19.3  70:ee:50:a2:20:c2     20.45      -1.15\n",
       "101120  2023-08-31    22  19.3  70:ee:50:a2:20:c2     20.30      -1.00\n",
       "101121  2023-08-31    23  19.2  70:ee:50:a2:20:c2     20.20      -1.00\n",
       "\n",
       "[101122 rows x 6 columns]"
      ]
     },
     "execution_count": 20,
     "metadata": {},
     "output_type": "execute_result"
    }
   ],
   "source": [
    "# Compute the daily temperature difference from reference station for each station\n",
    "df_merged['temp_diff'] = df_merged['temp'] - df_merged['temp_ref']\n",
    "df_merged"
   ]
  },
  {
   "cell_type": "code",
   "execution_count": 21,
   "id": "9e111e3a-1fde-4a9a-9232-20beaaf668e5",
   "metadata": {},
   "outputs": [],
   "source": [
    "#df_merged.to_csv('df_merged.csv')"
   ]
  },
  {
   "cell_type": "code",
   "execution_count": 22,
   "id": "1061776f-ed7d-4396-879d-a17571c3c85d",
   "metadata": {},
   "outputs": [],
   "source": [
    "#threshold = 5\n",
    "#df_filtered = df_merged[(df_merged['temp_diff'] >= -threshold) & (df_merged['temp_diff'] <= threshold)]\n",
    "df_filtered = df_merged"
   ]
  },
  {
   "cell_type": "code",
   "execution_count": 23,
   "id": "b71f08da-dd71-4f53-948f-63693777a6cc",
   "metadata": {},
   "outputs": [],
   "source": [
    "# Remove rows where 'station' is in the list\n",
    "df_filtered = df_filtered[~df_filtered['station'].isin(ref_stations)]"
   ]
  },
  {
   "cell_type": "code",
   "execution_count": 24,
   "id": "13ef5591-bc4c-4725-a757-3f658dc2f647",
   "metadata": {},
   "outputs": [
    {
     "data": {
      "text/html": [
       "<div>\n",
       "<style scoped>\n",
       "    .dataframe tbody tr th:only-of-type {\n",
       "        vertical-align: middle;\n",
       "    }\n",
       "\n",
       "    .dataframe tbody tr th {\n",
       "        vertical-align: top;\n",
       "    }\n",
       "\n",
       "    .dataframe thead th {\n",
       "        text-align: right;\n",
       "    }\n",
       "</style>\n",
       "<table border=\"1\" class=\"dataframe\">\n",
       "  <thead>\n",
       "    <tr style=\"text-align: right;\">\n",
       "      <th></th>\n",
       "      <th>date</th>\n",
       "      <th>time</th>\n",
       "      <th>temp</th>\n",
       "      <th>station</th>\n",
       "      <th>temp_ref</th>\n",
       "      <th>temp_diff</th>\n",
       "    </tr>\n",
       "  </thead>\n",
       "  <tbody>\n",
       "    <tr>\n",
       "      <th>0</th>\n",
       "      <td>2023-06-01</td>\n",
       "      <td>0</td>\n",
       "      <td>18.0</td>\n",
       "      <td>70:ee:50:00:c9:6e</td>\n",
       "      <td>17.55</td>\n",
       "      <td>0.45</td>\n",
       "    </tr>\n",
       "    <tr>\n",
       "      <th>1</th>\n",
       "      <td>2023-06-01</td>\n",
       "      <td>1</td>\n",
       "      <td>17.3</td>\n",
       "      <td>70:ee:50:00:c9:6e</td>\n",
       "      <td>17.35</td>\n",
       "      <td>-0.05</td>\n",
       "    </tr>\n",
       "    <tr>\n",
       "      <th>2</th>\n",
       "      <td>2023-06-01</td>\n",
       "      <td>2</td>\n",
       "      <td>17.1</td>\n",
       "      <td>70:ee:50:00:c9:6e</td>\n",
       "      <td>17.30</td>\n",
       "      <td>-0.20</td>\n",
       "    </tr>\n",
       "    <tr>\n",
       "      <th>3</th>\n",
       "      <td>2023-06-01</td>\n",
       "      <td>3</td>\n",
       "      <td>16.9</td>\n",
       "      <td>70:ee:50:00:c9:6e</td>\n",
       "      <td>17.10</td>\n",
       "      <td>-0.20</td>\n",
       "    </tr>\n",
       "    <tr>\n",
       "      <th>4</th>\n",
       "      <td>2023-06-01</td>\n",
       "      <td>4</td>\n",
       "      <td>16.6</td>\n",
       "      <td>70:ee:50:00:c9:6e</td>\n",
       "      <td>16.95</td>\n",
       "      <td>-0.35</td>\n",
       "    </tr>\n",
       "    <tr>\n",
       "      <th>...</th>\n",
       "      <td>...</td>\n",
       "      <td>...</td>\n",
       "      <td>...</td>\n",
       "      <td>...</td>\n",
       "      <td>...</td>\n",
       "      <td>...</td>\n",
       "    </tr>\n",
       "    <tr>\n",
       "      <th>101117</th>\n",
       "      <td>2023-08-31</td>\n",
       "      <td>19</td>\n",
       "      <td>19.9</td>\n",
       "      <td>70:ee:50:a2:20:c2</td>\n",
       "      <td>20.65</td>\n",
       "      <td>-0.75</td>\n",
       "    </tr>\n",
       "    <tr>\n",
       "      <th>101118</th>\n",
       "      <td>2023-08-31</td>\n",
       "      <td>20</td>\n",
       "      <td>19.4</td>\n",
       "      <td>70:ee:50:a2:20:c2</td>\n",
       "      <td>20.35</td>\n",
       "      <td>-0.95</td>\n",
       "    </tr>\n",
       "    <tr>\n",
       "      <th>101119</th>\n",
       "      <td>2023-08-31</td>\n",
       "      <td>21</td>\n",
       "      <td>19.3</td>\n",
       "      <td>70:ee:50:a2:20:c2</td>\n",
       "      <td>20.45</td>\n",
       "      <td>-1.15</td>\n",
       "    </tr>\n",
       "    <tr>\n",
       "      <th>101120</th>\n",
       "      <td>2023-08-31</td>\n",
       "      <td>22</td>\n",
       "      <td>19.3</td>\n",
       "      <td>70:ee:50:a2:20:c2</td>\n",
       "      <td>20.30</td>\n",
       "      <td>-1.00</td>\n",
       "    </tr>\n",
       "    <tr>\n",
       "      <th>101121</th>\n",
       "      <td>2023-08-31</td>\n",
       "      <td>23</td>\n",
       "      <td>19.2</td>\n",
       "      <td>70:ee:50:a2:20:c2</td>\n",
       "      <td>20.20</td>\n",
       "      <td>-1.00</td>\n",
       "    </tr>\n",
       "  </tbody>\n",
       "</table>\n",
       "<p>96714 rows × 6 columns</p>\n",
       "</div>"
      ],
      "text/plain": [
       "              date  time  temp            station  temp_ref  temp_diff\n",
       "0       2023-06-01     0  18.0  70:ee:50:00:c9:6e     17.55       0.45\n",
       "1       2023-06-01     1  17.3  70:ee:50:00:c9:6e     17.35      -0.05\n",
       "2       2023-06-01     2  17.1  70:ee:50:00:c9:6e     17.30      -0.20\n",
       "3       2023-06-01     3  16.9  70:ee:50:00:c9:6e     17.10      -0.20\n",
       "4       2023-06-01     4  16.6  70:ee:50:00:c9:6e     16.95      -0.35\n",
       "...            ...   ...   ...                ...       ...        ...\n",
       "101117  2023-08-31    19  19.9  70:ee:50:a2:20:c2     20.65      -0.75\n",
       "101118  2023-08-31    20  19.4  70:ee:50:a2:20:c2     20.35      -0.95\n",
       "101119  2023-08-31    21  19.3  70:ee:50:a2:20:c2     20.45      -1.15\n",
       "101120  2023-08-31    22  19.3  70:ee:50:a2:20:c2     20.30      -1.00\n",
       "101121  2023-08-31    23  19.2  70:ee:50:a2:20:c2     20.20      -1.00\n",
       "\n",
       "[96714 rows x 6 columns]"
      ]
     },
     "execution_count": 24,
     "metadata": {},
     "output_type": "execute_result"
    }
   ],
   "source": [
    "df_filtered"
   ]
  },
  {
   "cell_type": "code",
   "execution_count": 25,
   "id": "c3464619-6b3a-4e87-83bb-1394a043de70",
   "metadata": {},
   "outputs": [
    {
     "data": {
      "image/png": "[encoded data removed]",
      "text/plain": [
       "<Figure size 1000x600 with 1 Axes>"
      ]
     },
     "metadata": {},
     "output_type": "display_data"
    }
   ],
   "source": [
    "# Create a boxplot for each station showing the temperature differences\n",
    "plt.figure(figsize=(10, 6))\n",
    "sns.boxplot(x='station', y='temp_diff', data=df_filtered)\n",
    "\n",
    "plt.title('Boxplot of Temperature Differences with Respect to the Reference Station')\n",
    "plt.xlabel('Station')\n",
    "plt.ylabel('Temperature Difference')\n",
    "\n",
    "plt.show()"
   ]
  },
  {
   "cell_type": "code",
   "execution_count": 26,
   "id": "7f4e28fc-5778-4cfb-bc73-85c54bffba96",
   "metadata": {},
   "outputs": [
    {
     "data": {
      "text/plain": [
       "53.6"
      ]
     },
     "execution_count": 26,
     "metadata": {},
     "output_type": "execute_result"
    }
   ],
   "source": [
    "df_merged['temp'].max()"
   ]
  },
  {
   "cell_type": "code",
   "execution_count": 27,
   "id": "d47b4f9f-aab0-40fd-87ec-38e648f0bbf9",
   "metadata": {},
   "outputs": [
    {
     "data": {
      "text/html": [
       "<div>\n",
       "<style scoped>\n",
       "    .dataframe tbody tr th:only-of-type {\n",
       "        vertical-align: middle;\n",
       "    }\n",
       "\n",
       "    .dataframe tbody tr th {\n",
       "        vertical-align: top;\n",
       "    }\n",
       "\n",
       "    .dataframe thead th {\n",
       "        text-align: right;\n",
       "    }\n",
       "</style>\n",
       "<table border=\"1\" class=\"dataframe\">\n",
       "  <thead>\n",
       "    <tr style=\"text-align: right;\">\n",
       "      <th></th>\n",
       "      <th>station</th>\n",
       "      <th>temp_diff</th>\n",
       "    </tr>\n",
       "  </thead>\n",
       "  <tbody>\n",
       "    <tr>\n",
       "      <th>0</th>\n",
       "      <td>70:ee:50:00:c9:6e</td>\n",
       "      <td>3.734319</td>\n",
       "    </tr>\n",
       "    <tr>\n",
       "      <th>1</th>\n",
       "      <td>70:ee:50:00:ea:00</td>\n",
       "      <td>1.854574</td>\n",
       "    </tr>\n",
       "    <tr>\n",
       "      <th>2</th>\n",
       "      <td>70:ee:50:01:33:6a</td>\n",
       "      <td>1.204116</td>\n",
       "    </tr>\n",
       "    <tr>\n",
       "      <th>3</th>\n",
       "      <td>70:ee:50:02:e6:38</td>\n",
       "      <td>0.006159</td>\n",
       "    </tr>\n",
       "    <tr>\n",
       "      <th>4</th>\n",
       "      <td>70:ee:50:03:d3:d8</td>\n",
       "      <td>-0.472237</td>\n",
       "    </tr>\n",
       "    <tr>\n",
       "      <th>5</th>\n",
       "      <td>70:ee:50:04:d9:6a</td>\n",
       "      <td>0.508855</td>\n",
       "    </tr>\n",
       "    <tr>\n",
       "      <th>6</th>\n",
       "      <td>70:ee:50:04:f0:c2</td>\n",
       "      <td>2.398188</td>\n",
       "    </tr>\n",
       "    <tr>\n",
       "      <th>7</th>\n",
       "      <td>70:ee:50:05:53:70</td>\n",
       "      <td>0.476766</td>\n",
       "    </tr>\n",
       "    <tr>\n",
       "      <th>8</th>\n",
       "      <td>70:ee:50:12:69:86</td>\n",
       "      <td>0.612620</td>\n",
       "    </tr>\n",
       "    <tr>\n",
       "      <th>9</th>\n",
       "      <td>70:ee:50:12:7e:fc</td>\n",
       "      <td>1.410960</td>\n",
       "    </tr>\n",
       "    <tr>\n",
       "      <th>10</th>\n",
       "      <td>70:ee:50:12:ce:a6</td>\n",
       "      <td>-0.408424</td>\n",
       "    </tr>\n",
       "    <tr>\n",
       "      <th>11</th>\n",
       "      <td>70:ee:50:13:68:8e</td>\n",
       "      <td>1.095971</td>\n",
       "    </tr>\n",
       "    <tr>\n",
       "      <th>12</th>\n",
       "      <td>70:ee:50:17:64:42</td>\n",
       "      <td>3.436508</td>\n",
       "    </tr>\n",
       "    <tr>\n",
       "      <th>13</th>\n",
       "      <td>70:ee:50:1b:0f:34</td>\n",
       "      <td>1.503125</td>\n",
       "    </tr>\n",
       "    <tr>\n",
       "      <th>14</th>\n",
       "      <td>70:ee:50:1e:05:66</td>\n",
       "      <td>0.284466</td>\n",
       "    </tr>\n",
       "    <tr>\n",
       "      <th>15</th>\n",
       "      <td>70:ee:50:22:b4:1c</td>\n",
       "      <td>1.633379</td>\n",
       "    </tr>\n",
       "    <tr>\n",
       "      <th>16</th>\n",
       "      <td>70:ee:50:28:8e:30</td>\n",
       "      <td>1.381696</td>\n",
       "    </tr>\n",
       "    <tr>\n",
       "      <th>17</th>\n",
       "      <td>70:ee:50:28:ed:dc</td>\n",
       "      <td>0.804617</td>\n",
       "    </tr>\n",
       "    <tr>\n",
       "      <th>18</th>\n",
       "      <td>70:ee:50:2b:15:26</td>\n",
       "      <td>-0.166259</td>\n",
       "    </tr>\n",
       "    <tr>\n",
       "      <th>19</th>\n",
       "      <td>70:ee:50:2c:73:12</td>\n",
       "      <td>0.494158</td>\n",
       "    </tr>\n",
       "    <tr>\n",
       "      <th>20</th>\n",
       "      <td>70:ee:50:2c:fe:4c</td>\n",
       "      <td>0.981726</td>\n",
       "    </tr>\n",
       "    <tr>\n",
       "      <th>21</th>\n",
       "      <td>70:ee:50:2e:d0:4c</td>\n",
       "      <td>0.962908</td>\n",
       "    </tr>\n",
       "    <tr>\n",
       "      <th>22</th>\n",
       "      <td>70:ee:50:2e:ec:20</td>\n",
       "      <td>0.009519</td>\n",
       "    </tr>\n",
       "    <tr>\n",
       "      <th>23</th>\n",
       "      <td>70:ee:50:2f:28:5e</td>\n",
       "      <td>0.507233</td>\n",
       "    </tr>\n",
       "    <tr>\n",
       "      <th>24</th>\n",
       "      <td>70:ee:50:37:22:1c</td>\n",
       "      <td>0.591208</td>\n",
       "    </tr>\n",
       "    <tr>\n",
       "      <th>25</th>\n",
       "      <td>70:ee:50:3a:22:2c</td>\n",
       "      <td>0.763270</td>\n",
       "    </tr>\n",
       "    <tr>\n",
       "      <th>26</th>\n",
       "      <td>70:ee:50:3f:22:b0</td>\n",
       "      <td>0.990299</td>\n",
       "    </tr>\n",
       "    <tr>\n",
       "      <th>27</th>\n",
       "      <td>70:ee:50:58:ac:20</td>\n",
       "      <td>-0.947135</td>\n",
       "    </tr>\n",
       "    <tr>\n",
       "      <th>28</th>\n",
       "      <td>70:ee:50:5e:fd:d8</td>\n",
       "      <td>1.019810</td>\n",
       "    </tr>\n",
       "    <tr>\n",
       "      <th>29</th>\n",
       "      <td>70:ee:50:5f:29:bc</td>\n",
       "      <td>-0.099320</td>\n",
       "    </tr>\n",
       "    <tr>\n",
       "      <th>30</th>\n",
       "      <td>70:ee:50:65:19:62</td>\n",
       "      <td>1.176355</td>\n",
       "    </tr>\n",
       "    <tr>\n",
       "      <th>31</th>\n",
       "      <td>70:ee:50:65:24:78</td>\n",
       "      <td>2.209837</td>\n",
       "    </tr>\n",
       "    <tr>\n",
       "      <th>32</th>\n",
       "      <td>70:ee:50:71:22:fe</td>\n",
       "      <td>1.653940</td>\n",
       "    </tr>\n",
       "    <tr>\n",
       "      <th>33</th>\n",
       "      <td>70:ee:50:71:2b:48</td>\n",
       "      <td>2.163949</td>\n",
       "    </tr>\n",
       "    <tr>\n",
       "      <th>34</th>\n",
       "      <td>70:ee:50:71:49:30</td>\n",
       "      <td>0.750770</td>\n",
       "    </tr>\n",
       "    <tr>\n",
       "      <th>35</th>\n",
       "      <td>70:ee:50:71:4d:2a</td>\n",
       "      <td>0.818632</td>\n",
       "    </tr>\n",
       "    <tr>\n",
       "      <th>36</th>\n",
       "      <td>70:ee:50:7a:93:7c</td>\n",
       "      <td>0.603275</td>\n",
       "    </tr>\n",
       "    <tr>\n",
       "      <th>37</th>\n",
       "      <td>70:ee:50:7a:e8:5c</td>\n",
       "      <td>0.977639</td>\n",
       "    </tr>\n",
       "    <tr>\n",
       "      <th>38</th>\n",
       "      <td>70:ee:50:7f:a7:00</td>\n",
       "      <td>-0.351337</td>\n",
       "    </tr>\n",
       "    <tr>\n",
       "      <th>39</th>\n",
       "      <td>70:ee:50:7f:b5:f2</td>\n",
       "      <td>1.251885</td>\n",
       "    </tr>\n",
       "    <tr>\n",
       "      <th>40</th>\n",
       "      <td>70:ee:50:7f:ba:40</td>\n",
       "      <td>-0.534918</td>\n",
       "    </tr>\n",
       "    <tr>\n",
       "      <th>41</th>\n",
       "      <td>70:ee:50:83:8c:58</td>\n",
       "      <td>-1.226540</td>\n",
       "    </tr>\n",
       "    <tr>\n",
       "      <th>42</th>\n",
       "      <td>70:ee:50:96:a9:8a</td>\n",
       "      <td>2.018569</td>\n",
       "    </tr>\n",
       "    <tr>\n",
       "      <th>43</th>\n",
       "      <td>70:ee:50:96:b2:22</td>\n",
       "      <td>1.878804</td>\n",
       "    </tr>\n",
       "    <tr>\n",
       "      <th>44</th>\n",
       "      <td>70:ee:50:a2:16:44</td>\n",
       "      <td>1.492524</td>\n",
       "    </tr>\n",
       "    <tr>\n",
       "      <th>45</th>\n",
       "      <td>70:ee:50:a2:20:c2</td>\n",
       "      <td>-0.274909</td>\n",
       "    </tr>\n",
       "  </tbody>\n",
       "</table>\n",
       "</div>"
      ],
      "text/plain": [
       "              station  temp_diff\n",
       "0   70:ee:50:00:c9:6e   3.734319\n",
       "1   70:ee:50:00:ea:00   1.854574\n",
       "2   70:ee:50:01:33:6a   1.204116\n",
       "3   70:ee:50:02:e6:38   0.006159\n",
       "4   70:ee:50:03:d3:d8  -0.472237\n",
       "5   70:ee:50:04:d9:6a   0.508855\n",
       "6   70:ee:50:04:f0:c2   2.398188\n",
       "7   70:ee:50:05:53:70   0.476766\n",
       "8   70:ee:50:12:69:86   0.612620\n",
       "9   70:ee:50:12:7e:fc   1.410960\n",
       "10  70:ee:50:12:ce:a6  -0.408424\n",
       "11  70:ee:50:13:68:8e   1.095971\n",
       "12  70:ee:50:17:64:42   3.436508\n",
       "13  70:ee:50:1b:0f:34   1.503125\n",
       "14  70:ee:50:1e:05:66   0.284466\n",
       "15  70:ee:50:22:b4:1c   1.633379\n",
       "16  70:ee:50:28:8e:30   1.381696\n",
       "17  70:ee:50:28:ed:dc   0.804617\n",
       "18  70:ee:50:2b:15:26  -0.166259\n",
       "19  70:ee:50:2c:73:12   0.494158\n",
       "20  70:ee:50:2c:fe:4c   0.981726\n",
       "21  70:ee:50:2e:d0:4c   0.962908\n",
       "22  70:ee:50:2e:ec:20   0.009519\n",
       "23  70:ee:50:2f:28:5e   0.507233\n",
       "24  70:ee:50:37:22:1c   0.591208\n",
       "25  70:ee:50:3a:22:2c   0.763270\n",
       "26  70:ee:50:3f:22:b0   0.990299\n",
       "27  70:ee:50:58:ac:20  -0.947135\n",
       "28  70:ee:50:5e:fd:d8   1.019810\n",
       "29  70:ee:50:5f:29:bc  -0.099320\n",
       "30  70:ee:50:65:19:62   1.176355\n",
       "31  70:ee:50:65:24:78   2.209837\n",
       "32  70:ee:50:71:22:fe   1.653940\n",
       "33  70:ee:50:71:2b:48   2.163949\n",
       "34  70:ee:50:71:49:30   0.750770\n",
       "35  70:ee:50:71:4d:2a   0.818632\n",
       "36  70:ee:50:7a:93:7c   0.603275\n",
       "37  70:ee:50:7a:e8:5c   0.977639\n",
       "38  70:ee:50:7f:a7:00  -0.351337\n",
       "39  70:ee:50:7f:b5:f2   1.251885\n",
       "40  70:ee:50:7f:ba:40  -0.534918\n",
       "41  70:ee:50:83:8c:58  -1.226540\n",
       "42  70:ee:50:96:a9:8a   2.018569\n",
       "43  70:ee:50:96:b2:22   1.878804\n",
       "44  70:ee:50:a2:16:44   1.492524\n",
       "45  70:ee:50:a2:20:c2  -0.274909"
      ]
     },
     "execution_count": 27,
     "metadata": {},
     "output_type": "execute_result"
    }
   ],
   "source": [
    "# Compute mean\n",
    "df_filtered = df_filtered.groupby('station')['temp_diff'].mean().reset_index()\n",
    "df_filtered"
   ]
  },
  {
   "cell_type": "markdown",
   "id": "d838ed45-9b8d-4ffb-917d-1361f5c11f4e",
   "metadata": {},
   "source": [
    "## Add coordinates"
   ]
  },
  {
   "cell_type": "code",
   "execution_count": 28,
   "id": "76c645b2-1236-4349-9335-bc06a41ad1a6",
   "metadata": {},
   "outputs": [
    {
     "data": {
      "text/html": [
       "<div>\n",
       "<style scoped>\n",
       "    .dataframe tbody tr th:only-of-type {\n",
       "        vertical-align: middle;\n",
       "    }\n",
       "\n",
       "    .dataframe tbody tr th {\n",
       "        vertical-align: top;\n",
       "    }\n",
       "\n",
       "    .dataframe thead th {\n",
       "        text-align: right;\n",
       "    }\n",
       "</style>\n",
       "<table border=\"1\" class=\"dataframe\">\n",
       "  <thead>\n",
       "    <tr style=\"text-align: right;\">\n",
       "      <th></th>\n",
       "      <th>device_id</th>\n",
       "      <th>module_id</th>\n",
       "      <th>lon</th>\n",
       "      <th>lat</th>\n",
       "    </tr>\n",
       "  </thead>\n",
       "  <tbody>\n",
       "    <tr>\n",
       "      <th>0</th>\n",
       "      <td>70:ee:50:af:48:36</td>\n",
       "      <td>02:00:00:af:97:b6</td>\n",
       "      <td>-5.821514</td>\n",
       "      <td>43.380573</td>\n",
       "    </tr>\n",
       "    <tr>\n",
       "      <th>1</th>\n",
       "      <td>70:ee:50:12:ce:a6</td>\n",
       "      <td>02:00:00:12:ba:e6</td>\n",
       "      <td>-5.821986</td>\n",
       "      <td>43.381939</td>\n",
       "    </tr>\n",
       "    <tr>\n",
       "      <th>2</th>\n",
       "      <td>70:ee:50:a2:20:c2</td>\n",
       "      <td>02:00:00:a2:03:0c</td>\n",
       "      <td>-5.816930</td>\n",
       "      <td>43.378882</td>\n",
       "    </tr>\n",
       "    <tr>\n",
       "      <th>3</th>\n",
       "      <td>70:ee:50:71:49:30</td>\n",
       "      <td>02:00:00:71:4b:f2</td>\n",
       "      <td>-5.811817</td>\n",
       "      <td>43.377968</td>\n",
       "    </tr>\n",
       "    <tr>\n",
       "      <th>4</th>\n",
       "      <td>70:ee:50:90:d8:82</td>\n",
       "      <td>02:00:00:ab:de:78</td>\n",
       "      <td>-5.804601</td>\n",
       "      <td>43.379862</td>\n",
       "    </tr>\n",
       "    <tr>\n",
       "      <th>...</th>\n",
       "      <td>...</td>\n",
       "      <td>...</td>\n",
       "      <td>...</td>\n",
       "      <td>...</td>\n",
       "    </tr>\n",
       "    <tr>\n",
       "      <th>58</th>\n",
       "      <td>70:ee:50:71:2b:48</td>\n",
       "      <td>02:00:00:71:2f:f6</td>\n",
       "      <td>-5.837338</td>\n",
       "      <td>43.369661</td>\n",
       "    </tr>\n",
       "    <tr>\n",
       "      <th>59</th>\n",
       "      <td>70:ee:50:b5:14:de</td>\n",
       "      <td>02:00:00:b5:0c:70</td>\n",
       "      <td>-5.829638</td>\n",
       "      <td>43.371635</td>\n",
       "    </tr>\n",
       "    <tr>\n",
       "      <th>60</th>\n",
       "      <td>70:ee:50:58:ac:20</td>\n",
       "      <td>02:00:00:58:b5:24</td>\n",
       "      <td>-6.005197</td>\n",
       "      <td>43.322529</td>\n",
       "    </tr>\n",
       "    <tr>\n",
       "      <th>61</th>\n",
       "      <td>70:ee:50:17:e6:4e</td>\n",
       "      <td>02:00:00:17:ef:7a</td>\n",
       "      <td>-5.975623</td>\n",
       "      <td>43.348381</td>\n",
       "    </tr>\n",
       "    <tr>\n",
       "      <th>62</th>\n",
       "      <td>70:ee:50:28:ed:dc</td>\n",
       "      <td>02:00:00:29:08:f6</td>\n",
       "      <td>-6.015531</td>\n",
       "      <td>43.354603</td>\n",
       "    </tr>\n",
       "  </tbody>\n",
       "</table>\n",
       "<p>63 rows × 4 columns</p>\n",
       "</div>"
      ],
      "text/plain": [
       "            device_id          module_id       lon        lat\n",
       "0   70:ee:50:af:48:36  02:00:00:af:97:b6 -5.821514  43.380573\n",
       "1   70:ee:50:12:ce:a6  02:00:00:12:ba:e6 -5.821986  43.381939\n",
       "2   70:ee:50:a2:20:c2  02:00:00:a2:03:0c -5.816930  43.378882\n",
       "3   70:ee:50:71:49:30  02:00:00:71:4b:f2 -5.811817  43.377968\n",
       "4   70:ee:50:90:d8:82  02:00:00:ab:de:78 -5.804601  43.379862\n",
       "..                ...                ...       ...        ...\n",
       "58  70:ee:50:71:2b:48  02:00:00:71:2f:f6 -5.837338  43.369661\n",
       "59  70:ee:50:b5:14:de  02:00:00:b5:0c:70 -5.829638  43.371635\n",
       "60  70:ee:50:58:ac:20  02:00:00:58:b5:24 -6.005197  43.322529\n",
       "61  70:ee:50:17:e6:4e  02:00:00:17:ef:7a -5.975623  43.348381\n",
       "62  70:ee:50:28:ed:dc  02:00:00:29:08:f6 -6.015531  43.354603\n",
       "\n",
       "[63 rows x 4 columns]"
      ]
     },
     "execution_count": 28,
     "metadata": {},
     "output_type": "execute_result"
    }
   ],
   "source": [
    "stations = pd.read_csv('netatmo_stations.csv')\n",
    "stations"
   ]
  },
  {
   "cell_type": "code",
   "execution_count": 29,
   "id": "76f34cb7-2be1-42f6-952b-74d33468d753",
   "metadata": {},
   "outputs": [
    {
     "data": {
      "text/html": [
       "<div>\n",
       "<style scoped>\n",
       "    .dataframe tbody tr th:only-of-type {\n",
       "        vertical-align: middle;\n",
       "    }\n",
       "\n",
       "    .dataframe tbody tr th {\n",
       "        vertical-align: top;\n",
       "    }\n",
       "\n",
       "    .dataframe thead th {\n",
       "        text-align: right;\n",
       "    }\n",
       "</style>\n",
       "<table border=\"1\" class=\"dataframe\">\n",
       "  <thead>\n",
       "    <tr style=\"text-align: right;\">\n",
       "      <th></th>\n",
       "      <th>device_id</th>\n",
       "      <th>lon</th>\n",
       "      <th>lat</th>\n",
       "    </tr>\n",
       "  </thead>\n",
       "  <tbody>\n",
       "    <tr>\n",
       "      <th>0</th>\n",
       "      <td>70:ee:50:af:48:36</td>\n",
       "      <td>-5.821514</td>\n",
       "      <td>43.380573</td>\n",
       "    </tr>\n",
       "    <tr>\n",
       "      <th>1</th>\n",
       "      <td>70:ee:50:12:ce:a6</td>\n",
       "      <td>-5.821986</td>\n",
       "      <td>43.381939</td>\n",
       "    </tr>\n",
       "    <tr>\n",
       "      <th>2</th>\n",
       "      <td>70:ee:50:a2:20:c2</td>\n",
       "      <td>-5.816930</td>\n",
       "      <td>43.378882</td>\n",
       "    </tr>\n",
       "    <tr>\n",
       "      <th>3</th>\n",
       "      <td>70:ee:50:71:49:30</td>\n",
       "      <td>-5.811817</td>\n",
       "      <td>43.377968</td>\n",
       "    </tr>\n",
       "    <tr>\n",
       "      <th>4</th>\n",
       "      <td>70:ee:50:90:d8:82</td>\n",
       "      <td>-5.804601</td>\n",
       "      <td>43.379862</td>\n",
       "    </tr>\n",
       "    <tr>\n",
       "      <th>...</th>\n",
       "      <td>...</td>\n",
       "      <td>...</td>\n",
       "      <td>...</td>\n",
       "    </tr>\n",
       "    <tr>\n",
       "      <th>58</th>\n",
       "      <td>70:ee:50:71:2b:48</td>\n",
       "      <td>-5.837338</td>\n",
       "      <td>43.369661</td>\n",
       "    </tr>\n",
       "    <tr>\n",
       "      <th>59</th>\n",
       "      <td>70:ee:50:b5:14:de</td>\n",
       "      <td>-5.829638</td>\n",
       "      <td>43.371635</td>\n",
       "    </tr>\n",
       "    <tr>\n",
       "      <th>60</th>\n",
       "      <td>70:ee:50:58:ac:20</td>\n",
       "      <td>-6.005197</td>\n",
       "      <td>43.322529</td>\n",
       "    </tr>\n",
       "    <tr>\n",
       "      <th>61</th>\n",
       "      <td>70:ee:50:17:e6:4e</td>\n",
       "      <td>-5.975623</td>\n",
       "      <td>43.348381</td>\n",
       "    </tr>\n",
       "    <tr>\n",
       "      <th>62</th>\n",
       "      <td>70:ee:50:28:ed:dc</td>\n",
       "      <td>-6.015531</td>\n",
       "      <td>43.354603</td>\n",
       "    </tr>\n",
       "  </tbody>\n",
       "</table>\n",
       "<p>63 rows × 3 columns</p>\n",
       "</div>"
      ],
      "text/plain": [
       "            device_id       lon        lat\n",
       "0   70:ee:50:af:48:36 -5.821514  43.380573\n",
       "1   70:ee:50:12:ce:a6 -5.821986  43.381939\n",
       "2   70:ee:50:a2:20:c2 -5.816930  43.378882\n",
       "3   70:ee:50:71:49:30 -5.811817  43.377968\n",
       "4   70:ee:50:90:d8:82 -5.804601  43.379862\n",
       "..                ...       ...        ...\n",
       "58  70:ee:50:71:2b:48 -5.837338  43.369661\n",
       "59  70:ee:50:b5:14:de -5.829638  43.371635\n",
       "60  70:ee:50:58:ac:20 -6.005197  43.322529\n",
       "61  70:ee:50:17:e6:4e -5.975623  43.348381\n",
       "62  70:ee:50:28:ed:dc -6.015531  43.354603\n",
       "\n",
       "[63 rows x 3 columns]"
      ]
     },
     "execution_count": 29,
     "metadata": {},
     "output_type": "execute_result"
    }
   ],
   "source": [
    "stations = stations.drop(columns=['module_id'])\n",
    "stations"
   ]
  },
  {
   "cell_type": "code",
   "execution_count": 30,
   "id": "c6618411-1eeb-4b09-9f39-58a27da4e1b9",
   "metadata": {},
   "outputs": [
    {
     "data": {
      "text/html": [
       "<div>\n",
       "<style scoped>\n",
       "    .dataframe tbody tr th:only-of-type {\n",
       "        vertical-align: middle;\n",
       "    }\n",
       "\n",
       "    .dataframe tbody tr th {\n",
       "        vertical-align: top;\n",
       "    }\n",
       "\n",
       "    .dataframe thead th {\n",
       "        text-align: right;\n",
       "    }\n",
       "</style>\n",
       "<table border=\"1\" class=\"dataframe\">\n",
       "  <thead>\n",
       "    <tr style=\"text-align: right;\">\n",
       "      <th></th>\n",
       "      <th>station</th>\n",
       "      <th>temp_diff</th>\n",
       "      <th>device_id</th>\n",
       "      <th>lon</th>\n",
       "      <th>lat</th>\n",
       "    </tr>\n",
       "  </thead>\n",
       "  <tbody>\n",
       "    <tr>\n",
       "      <th>0</th>\n",
       "      <td>70:ee:50:00:c9:6e</td>\n",
       "      <td>3.734319</td>\n",
       "      <td>70:ee:50:00:c9:6e</td>\n",
       "      <td>-5.849700</td>\n",
       "      <td>43.361700</td>\n",
       "    </tr>\n",
       "    <tr>\n",
       "      <th>1</th>\n",
       "      <td>70:ee:50:00:ea:00</td>\n",
       "      <td>1.854574</td>\n",
       "      <td>70:ee:50:00:ea:00</td>\n",
       "      <td>-5.866472</td>\n",
       "      <td>43.368765</td>\n",
       "    </tr>\n",
       "    <tr>\n",
       "      <th>2</th>\n",
       "      <td>70:ee:50:01:33:6a</td>\n",
       "      <td>1.204116</td>\n",
       "      <td>70:ee:50:01:33:6a</td>\n",
       "      <td>-5.847184</td>\n",
       "      <td>43.360374</td>\n",
       "    </tr>\n",
       "    <tr>\n",
       "      <th>3</th>\n",
       "      <td>70:ee:50:02:e6:38</td>\n",
       "      <td>0.006159</td>\n",
       "      <td>70:ee:50:02:e6:38</td>\n",
       "      <td>-5.816177</td>\n",
       "      <td>43.441605</td>\n",
       "    </tr>\n",
       "    <tr>\n",
       "      <th>4</th>\n",
       "      <td>70:ee:50:03:d3:d8</td>\n",
       "      <td>-0.472237</td>\n",
       "      <td>70:ee:50:03:d3:d8</td>\n",
       "      <td>-5.773827</td>\n",
       "      <td>43.440124</td>\n",
       "    </tr>\n",
       "  </tbody>\n",
       "</table>\n",
       "</div>"
      ],
      "text/plain": [
       "             station  temp_diff          device_id       lon        lat\n",
       "0  70:ee:50:00:c9:6e   3.734319  70:ee:50:00:c9:6e -5.849700  43.361700\n",
       "1  70:ee:50:00:ea:00   1.854574  70:ee:50:00:ea:00 -5.866472  43.368765\n",
       "2  70:ee:50:01:33:6a   1.204116  70:ee:50:01:33:6a -5.847184  43.360374\n",
       "3  70:ee:50:02:e6:38   0.006159  70:ee:50:02:e6:38 -5.816177  43.441605\n",
       "4  70:ee:50:03:d3:d8  -0.472237  70:ee:50:03:d3:d8 -5.773827  43.440124"
      ]
     },
     "execution_count": 30,
     "metadata": {},
     "output_type": "execute_result"
    }
   ],
   "source": [
    "data = pd.merge(df_filtered, stations, left_on='station', right_on='device_id')\n",
    "data.head()"
   ]
  },
  {
   "cell_type": "code",
   "execution_count": 31,
   "id": "b9c5d4a4-2083-4e30-9700-ff95000fedbc",
   "metadata": {},
   "outputs": [
    {
     "data": {
      "text/html": [
       "<div>\n",
       "<style scoped>\n",
       "    .dataframe tbody tr th:only-of-type {\n",
       "        vertical-align: middle;\n",
       "    }\n",
       "\n",
       "    .dataframe tbody tr th {\n",
       "        vertical-align: top;\n",
       "    }\n",
       "\n",
       "    .dataframe thead th {\n",
       "        text-align: right;\n",
       "    }\n",
       "</style>\n",
       "<table border=\"1\" class=\"dataframe\">\n",
       "  <thead>\n",
       "    <tr style=\"text-align: right;\">\n",
       "      <th></th>\n",
       "      <th>station</th>\n",
       "      <th>temp_diff</th>\n",
       "      <th>lon</th>\n",
       "      <th>lat</th>\n",
       "    </tr>\n",
       "  </thead>\n",
       "  <tbody>\n",
       "    <tr>\n",
       "      <th>0</th>\n",
       "      <td>70:ee:50:00:c9:6e</td>\n",
       "      <td>3.734319</td>\n",
       "      <td>-5.849700</td>\n",
       "      <td>43.361700</td>\n",
       "    </tr>\n",
       "    <tr>\n",
       "      <th>1</th>\n",
       "      <td>70:ee:50:00:ea:00</td>\n",
       "      <td>1.854574</td>\n",
       "      <td>-5.866472</td>\n",
       "      <td>43.368765</td>\n",
       "    </tr>\n",
       "    <tr>\n",
       "      <th>2</th>\n",
       "      <td>70:ee:50:01:33:6a</td>\n",
       "      <td>1.204116</td>\n",
       "      <td>-5.847184</td>\n",
       "      <td>43.360374</td>\n",
       "    </tr>\n",
       "    <tr>\n",
       "      <th>3</th>\n",
       "      <td>70:ee:50:02:e6:38</td>\n",
       "      <td>0.006159</td>\n",
       "      <td>-5.816177</td>\n",
       "      <td>43.441605</td>\n",
       "    </tr>\n",
       "    <tr>\n",
       "      <th>4</th>\n",
       "      <td>70:ee:50:03:d3:d8</td>\n",
       "      <td>-0.472237</td>\n",
       "      <td>-5.773827</td>\n",
       "      <td>43.440124</td>\n",
       "    </tr>\n",
       "  </tbody>\n",
       "</table>\n",
       "</div>"
      ],
      "text/plain": [
       "             station  temp_diff       lon        lat\n",
       "0  70:ee:50:00:c9:6e   3.734319 -5.849700  43.361700\n",
       "1  70:ee:50:00:ea:00   1.854574 -5.866472  43.368765\n",
       "2  70:ee:50:01:33:6a   1.204116 -5.847184  43.360374\n",
       "3  70:ee:50:02:e6:38   0.006159 -5.816177  43.441605\n",
       "4  70:ee:50:03:d3:d8  -0.472237 -5.773827  43.440124"
      ]
     },
     "execution_count": 31,
     "metadata": {},
     "output_type": "execute_result"
    }
   ],
   "source": [
    "data = data.drop(columns=['device_id'])\n",
    "data.head()"
   ]
  },
  {
   "cell_type": "code",
   "execution_count": 32,
   "id": "ed53943f-0635-4557-b515-1129ba1346d1",
   "metadata": {},
   "outputs": [],
   "source": [
    "data.to_csv('diff.csv', index=False)"
   ]
  },
  {
   "cell_type": "code",
   "execution_count": null,
   "id": "f174e161-7cd9-478f-83cf-6dcfb9f216a9",
   "metadata": {},
   "outputs": [],
   "source": []
  },
  {
   "cell_type": "code",
   "execution_count": null,
   "id": "7b2dde82-a2af-41c6-9250-d7b6e567b29e",
   "metadata": {},
   "outputs": [],
   "source": []
  },
  {
   "cell_type": "code",
   "execution_count": null,
   "id": "e5003987-9399-4891-9099-e79f620c2171",
   "metadata": {},
   "outputs": [],
   "source": []
  }
 ],
 "metadata": {
  "kernelspec": {
   "display_name": "Python 3 (ipykernel)",
   "language": "python",
   "name": "python3"
  },
  "language_info": {
   "codemirror_mode": {
    "name": "ipython",
    "version": 3
   },
   "file_extension": ".py",
   "mimetype": "text/x-python",
   "name": "python",
   "nbconvert_exporter": "python",
   "pygments_lexer": "ipython3",
   "version": "3.10.12"
  }
 },
 "nbformat": 4,
 "nbformat_minor": 5
}
