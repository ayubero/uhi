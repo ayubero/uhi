{
 "cells": [
  {
   "cell_type": "code",
   "execution_count": 1,
   "id": "c2e26455-f99a-4d02-bcf6-ad0a721e9d56",
   "metadata": {},
   "outputs": [],
   "source": [
    "import geopandas as gpd\n",
    "import rasterio\n",
    "import numpy as np\n",
    "import pandas as pd\n",
    "from pykrige.ok import OrdinaryKriging\n",
    "from sklearn.metrics import mean_squared_error"
   ]
  },
  {
   "cell_type": "code",
   "execution_count": 2,
   "id": "5384d089-a94c-43e7-8805-b1e10c5174f2",
   "metadata": {},
   "outputs": [
    {
     "name": "stdout",
     "output_type": "stream",
     "text": [
      "   station       svf      ndvi  imd  swir2  temp_diff        lat       lon\n",
      "0        1  0.846217  0.485734  0.0    0.0   1.396381  41.653858 -0.876258\n",
      "1        2  0.889060  0.178041  0.0    0.0   1.320874  41.649671 -0.884855\n",
      "2        3  0.963841  0.144677  0.0    0.0   1.069900  41.660269 -0.871698\n",
      "3        4  0.906010  0.215104  0.0    0.0   1.115054  41.646083 -0.900292\n",
      "4        5  0.349635  0.404729  0.0    0.0   1.633224  41.650508 -0.904937\n"
     ]
    }
   ],
   "source": [
    "# Load the CSV file into a dataframe\n",
    "data = pd.read_csv(\"~/University/uhi/zaragoza/data.csv\")\n",
    "\n",
    "# Check the first few rows of the dataset\n",
    "print(data.head())"
   ]
  },
  {
   "cell_type": "code",
   "execution_count": 3,
   "id": "fcc7bc3e-3ab3-45e1-bcbd-f15f9566e3bc",
   "metadata": {},
   "outputs": [],
   "source": [
    "# Create a GeoDataFrame with spatial information\n",
    "points = gpd.GeoDataFrame(\n",
    "    data, \n",
    "    geometry=gpd.points_from_xy(data.lon, data.lat), \n",
    "    crs=\"EPSG:4326\"  # WGS84\n",
    ")\n",
    "\n",
    "# Define variogram parameters (similar to R's vgm)\n",
    "variogram_params = {\"sill\": 1, \"range\": 1000, \"nugget\": 0.1}\n",
    "\n",
    "# Perform cross-validation\n",
    "folds = 10\n",
    "points['fold'] = np.random.randint(0, folds, data.shape[0])  # Randomly assign folds\n",
    "\n",
    "residuals = []"
   ]
  },
  {
   "cell_type": "code",
   "execution_count": 4,
   "id": "379918c7-57e9-4225-819c-d673bffdcd06",
   "metadata": {},
   "outputs": [],
   "source": [
    "for fold in range(folds):\n",
    "    train = points[points['fold'] != fold]\n",
    "    test = points[points['fold'] == fold]\n",
    "\n",
    "    # Extract train/test variables\n",
    "    X_train = train[[\"svf\", \"imd\", \"ndvi\", \"swir2\"]].values\n",
    "    y_train = train[\"temp_diff\"].values\n",
    "    X_test = test[[\"svf\", \"imd\", \"ndvi\", \"swir2\"]].values\n",
    "    y_test = test[\"temp_diff\"].values\n",
    "\n",
    "    # Fit Kriging model\n",
    "    ok = OrdinaryKriging(\n",
    "        train.geometry.x, \n",
    "        train.geometry.y, \n",
    "        y_train, \n",
    "        variogram_model=\"spherical\",\n",
    "        variogram_parameters=[variogram_params['sill'], variogram_params['range'], variogram_params['nugget']]\n",
    "    )\n",
    "    \n",
    "    # Predict on test set\n",
    "    z_pred, _ = ok.execute(\"points\", test.geometry.x, test.geometry.y)\n",
    "    residuals.extend(y_test - z_pred)"
   ]
  },
  {
   "cell_type": "code",
   "execution_count": 5,
   "id": "96e94399-4f36-4ff1-adb2-57841beb84d8",
   "metadata": {},
   "outputs": [
    {
     "name": "stdout",
     "output_type": "stream",
     "text": [
      "RMSE: 0.35\n"
     ]
    }
   ],
   "source": [
    "# Calculate RMSE\n",
    "rmse = np.sqrt(mean_squared_error([0] * len(residuals), residuals))\n",
    "print(f\"RMSE: {rmse:.2f}\")"
   ]
  },
  {
   "cell_type": "code",
   "execution_count": 6,
   "id": "866b434d-9a08-4671-b8da-a0b12ed0b621",
   "metadata": {},
   "outputs": [],
   "source": [
    "# --- INTERPOLATION ---\n",
    "# Paths to the .tif files\n",
    "svf_path = \"../data/rasters/Zaragoza_ETRS89_Sky_View_Factor_scaled.tif\"\n",
    "imd_path = \"../data/rasters/Zaragoza_ETRS89_Imperviousness_Density_normalized_scaled.tif\"\n",
    "ndvi_path = \"../data/rasters/Zaragoza_ETRS89_NDVI_scaled.tif\"\n",
    "swir2_path = \"../data/rasters/Zaragoza_ETRS89_SWIR2_normalized_scaled.tif\"\n",
    "\n",
    "# Read raster layers\n",
    "with rasterio.open(svf_path) as src:\n",
    "    svf_raster = src.read(1)\n",
    "    svf_transform = src.transform\n",
    "    svf_crs = src.crs\n",
    "\n",
    "with rasterio.open(imd_path) as src:\n",
    "    imd_raster = src.read(1)\n",
    "\n",
    "with rasterio.open(ndvi_path) as src:\n",
    "    ndvi_raster = src.read(1)\n",
    "\n",
    "with rasterio.open(swir2_path) as src:\n",
    "    swir2_raster = src.read(1)"
   ]
  },
  {
   "cell_type": "code",
   "execution_count": null,
   "id": "a86f10a3-6af9-4e98-af38-da161d738112",
   "metadata": {},
   "outputs": [],
   "source": [
    "# Ensure rasters have the same resolution and extent\n",
    "from rasterio.enums import Resampling\n",
    "from rasterio.warp import reproject\n",
    "\n",
    "template = svf_raster\n",
    "imd_raster = reproject(\n",
    "    source=imd_raster,\n",
    "    destination=np.zeros_like(template),\n",
    "    src_crs=src.crs,\n",
    "    dst_crs=src.crs,\n",
    "    src_transform=src.transform,\n",
    "    dst_transform=svf_transform,\n",
    "    resampling=Resampling.bilinear,\n",
    ")\n",
    "\n",
    "# Perform kriging interpolation\n",
    "ok = OrdinaryKriging(\n",
    "    points.geometry.x, \n",
    "    points.geometry.y, \n",
    "    points[\"temp_diff\"], \n",
    "    variogram_model=\"spherical\",\n",
    "    variogram_parameters=[variogram_params['sill'], variogram_params['range'], variogram_params['nugget']]\n",
    ")\n",
    "\n",
    "# Create grid for interpolation\n",
    "grid_x, grid_y = np.meshgrid(\n",
    "    np.arange(svf_transform[2], svf_transform[2] + template.shape[1] * svf_transform[0], svf_transform[0]),\n",
    "    np.arange(svf_transform[5], svf_transform[5] + template.shape[0] * svf_transform[4], svf_transform[4])\n",
    ")\n",
    "\n",
    "z_pred, _ = ok.execute(\"grid\", grid_x, grid_y)"
   ]
  },
  {
   "cell_type": "code",
   "execution_count": null,
   "id": "61d5b6d1-5c37-4fca-8333-6dcf188c862c",
   "metadata": {},
   "outputs": [],
   "source": [
    "# Save as GeoTIFF\n",
    "output_path = \"~/University/uhi/zaragoza/interpolation_SVF+IMD+NDVI_python.tif\"\n",
    "with rasterio.open(\n",
    "    output_path, \n",
    "    \"w\", \n",
    "    driver=\"GTiff\", \n",
    "    height=z_pred.shape[0], \n",
    "    width=z_pred.shape[1], \n",
    "    count=1, \n",
    "    dtype=str(z_pred.dtype), \n",
    "    crs=svf_crs, \n",
    "    transform=svf_transform,\n",
    ") as dst:\n",
    "    dst.write(z_pred, 1)\n",
    "\n",
    "print(f\"Interpolated raster saved at: {output_path}\")"
   ]
  },
  {
   "cell_type": "code",
   "execution_count": null,
   "id": "1f314e53-a8a6-42d4-a9dd-507f97ab25ff",
   "metadata": {},
   "outputs": [],
   "source": []
  }
 ],
 "metadata": {
  "kernelspec": {
   "display_name": "Python 3 (ipykernel)",
   "language": "python",
   "name": "python3"
  },
  "language_info": {
   "codemirror_mode": {
    "name": "ipython",
    "version": 3
   },
   "file_extension": ".py",
   "mimetype": "text/x-python",
   "name": "python",
   "nbconvert_exporter": "python",
   "pygments_lexer": "ipython3",
   "version": "3.10.12"
  }
 },
 "nbformat": 4,
 "nbformat_minor": 5
}
